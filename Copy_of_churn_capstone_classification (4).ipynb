{
  "nbformat": 4,
  "nbformat_minor": 0,
  "metadata": {
    "colab": {
      "provenance": [],
      "collapsed_sections": [
        "dRu9kyhHe1pR",
        "awMvX69o9boi",
        "FwpcR3lf97em"
      ]
    },
    "kernelspec": {
      "name": "python3",
      "display_name": "Python 3"
    },
    "language_info": {
      "name": "python"
    }
  },
  "cells": [
    {
      "cell_type": "code",
      "execution_count": 1,
      "metadata": {
        "id": "BWRUMwt8SsKf"
      },
      "outputs": [],
      "source": [
        "import pandas as pd\n",
        "import numpy as np\n",
        "import matplotlib.pyplot as plt \n",
        "import seaborn as sns\n",
        "import warnings "
      ]
    },
    {
      "cell_type": "code",
      "source": [
        "warnings.filterwarnings('ignore')"
      ],
      "metadata": {
        "id": "XBXMnbJcDRVn"
      },
      "execution_count": 2,
      "outputs": []
    },
    {
      "cell_type": "code",
      "source": [
        "df=pd.read_csv('/content/Telco_Customer_Churn.csv')"
      ],
      "metadata": {
        "id": "20SlnkWxeY3R"
      },
      "execution_count": 3,
      "outputs": []
    },
    {
      "cell_type": "markdown",
      "source": [
        "##First look"
      ],
      "metadata": {
        "id": "dRu9kyhHe1pR"
      }
    },
    {
      "cell_type": "code",
      "source": [
        "df.head()\n"
      ],
      "metadata": {
        "colab": {
          "base_uri": "https://localhost:8080/",
          "height": 386
        },
        "id": "PwzDeFEue34W",
        "outputId": "6e7bf2cc-040d-4939-b9a1-423a947c1db5"
      },
      "execution_count": 4,
      "outputs": [
        {
          "output_type": "execute_result",
          "data": {
            "text/plain": [
              "   customerID  gender  SeniorCitizen Partner Dependents  tenure PhoneService  \\\n",
              "0  7590-VHVEG  Female              0     Yes         No       1           No   \n",
              "1  5575-GNVDE    Male              0      No         No      34          Yes   \n",
              "2  3668-QPYBK    Male              0      No         No       2          Yes   \n",
              "3  7795-CFOCW    Male              0      No         No      45           No   \n",
              "4  9237-HQITU  Female              0      No         No       2          Yes   \n",
              "\n",
              "      MultipleLines InternetService OnlineSecurity  ... DeviceProtection  \\\n",
              "0  No phone service             DSL             No  ...               No   \n",
              "1                No             DSL            Yes  ...              Yes   \n",
              "2                No             DSL            Yes  ...               No   \n",
              "3  No phone service             DSL            Yes  ...              Yes   \n",
              "4                No     Fiber optic             No  ...               No   \n",
              "\n",
              "  TechSupport StreamingTV StreamingMovies        Contract PaperlessBilling  \\\n",
              "0          No          No              No  Month-to-month              Yes   \n",
              "1          No          No              No        One year               No   \n",
              "2          No          No              No  Month-to-month              Yes   \n",
              "3         Yes          No              No        One year               No   \n",
              "4          No          No              No  Month-to-month              Yes   \n",
              "\n",
              "               PaymentMethod MonthlyCharges  TotalCharges Churn  \n",
              "0           Electronic check          29.85         29.85    No  \n",
              "1               Mailed check          56.95        1889.5    No  \n",
              "2               Mailed check          53.85        108.15   Yes  \n",
              "3  Bank transfer (automatic)          42.30       1840.75    No  \n",
              "4           Electronic check          70.70        151.65   Yes  \n",
              "\n",
              "[5 rows x 21 columns]"
            ],
            "text/html": [
              "\n",
              "  <div id=\"df-c99f33eb-f267-42e8-a3bc-dd87dc6481ac\">\n",
              "    <div class=\"colab-df-container\">\n",
              "      <div>\n",
              "<style scoped>\n",
              "    .dataframe tbody tr th:only-of-type {\n",
              "        vertical-align: middle;\n",
              "    }\n",
              "\n",
              "    .dataframe tbody tr th {\n",
              "        vertical-align: top;\n",
              "    }\n",
              "\n",
              "    .dataframe thead th {\n",
              "        text-align: right;\n",
              "    }\n",
              "</style>\n",
              "<table border=\"1\" class=\"dataframe\">\n",
              "  <thead>\n",
              "    <tr style=\"text-align: right;\">\n",
              "      <th></th>\n",
              "      <th>customerID</th>\n",
              "      <th>gender</th>\n",
              "      <th>SeniorCitizen</th>\n",
              "      <th>Partner</th>\n",
              "      <th>Dependents</th>\n",
              "      <th>tenure</th>\n",
              "      <th>PhoneService</th>\n",
              "      <th>MultipleLines</th>\n",
              "      <th>InternetService</th>\n",
              "      <th>OnlineSecurity</th>\n",
              "      <th>...</th>\n",
              "      <th>DeviceProtection</th>\n",
              "      <th>TechSupport</th>\n",
              "      <th>StreamingTV</th>\n",
              "      <th>StreamingMovies</th>\n",
              "      <th>Contract</th>\n",
              "      <th>PaperlessBilling</th>\n",
              "      <th>PaymentMethod</th>\n",
              "      <th>MonthlyCharges</th>\n",
              "      <th>TotalCharges</th>\n",
              "      <th>Churn</th>\n",
              "    </tr>\n",
              "  </thead>\n",
              "  <tbody>\n",
              "    <tr>\n",
              "      <th>0</th>\n",
              "      <td>7590-VHVEG</td>\n",
              "      <td>Female</td>\n",
              "      <td>0</td>\n",
              "      <td>Yes</td>\n",
              "      <td>No</td>\n",
              "      <td>1</td>\n",
              "      <td>No</td>\n",
              "      <td>No phone service</td>\n",
              "      <td>DSL</td>\n",
              "      <td>No</td>\n",
              "      <td>...</td>\n",
              "      <td>No</td>\n",
              "      <td>No</td>\n",
              "      <td>No</td>\n",
              "      <td>No</td>\n",
              "      <td>Month-to-month</td>\n",
              "      <td>Yes</td>\n",
              "      <td>Electronic check</td>\n",
              "      <td>29.85</td>\n",
              "      <td>29.85</td>\n",
              "      <td>No</td>\n",
              "    </tr>\n",
              "    <tr>\n",
              "      <th>1</th>\n",
              "      <td>5575-GNVDE</td>\n",
              "      <td>Male</td>\n",
              "      <td>0</td>\n",
              "      <td>No</td>\n",
              "      <td>No</td>\n",
              "      <td>34</td>\n",
              "      <td>Yes</td>\n",
              "      <td>No</td>\n",
              "      <td>DSL</td>\n",
              "      <td>Yes</td>\n",
              "      <td>...</td>\n",
              "      <td>Yes</td>\n",
              "      <td>No</td>\n",
              "      <td>No</td>\n",
              "      <td>No</td>\n",
              "      <td>One year</td>\n",
              "      <td>No</td>\n",
              "      <td>Mailed check</td>\n",
              "      <td>56.95</td>\n",
              "      <td>1889.5</td>\n",
              "      <td>No</td>\n",
              "    </tr>\n",
              "    <tr>\n",
              "      <th>2</th>\n",
              "      <td>3668-QPYBK</td>\n",
              "      <td>Male</td>\n",
              "      <td>0</td>\n",
              "      <td>No</td>\n",
              "      <td>No</td>\n",
              "      <td>2</td>\n",
              "      <td>Yes</td>\n",
              "      <td>No</td>\n",
              "      <td>DSL</td>\n",
              "      <td>Yes</td>\n",
              "      <td>...</td>\n",
              "      <td>No</td>\n",
              "      <td>No</td>\n",
              "      <td>No</td>\n",
              "      <td>No</td>\n",
              "      <td>Month-to-month</td>\n",
              "      <td>Yes</td>\n",
              "      <td>Mailed check</td>\n",
              "      <td>53.85</td>\n",
              "      <td>108.15</td>\n",
              "      <td>Yes</td>\n",
              "    </tr>\n",
              "    <tr>\n",
              "      <th>3</th>\n",
              "      <td>7795-CFOCW</td>\n",
              "      <td>Male</td>\n",
              "      <td>0</td>\n",
              "      <td>No</td>\n",
              "      <td>No</td>\n",
              "      <td>45</td>\n",
              "      <td>No</td>\n",
              "      <td>No phone service</td>\n",
              "      <td>DSL</td>\n",
              "      <td>Yes</td>\n",
              "      <td>...</td>\n",
              "      <td>Yes</td>\n",
              "      <td>Yes</td>\n",
              "      <td>No</td>\n",
              "      <td>No</td>\n",
              "      <td>One year</td>\n",
              "      <td>No</td>\n",
              "      <td>Bank transfer (automatic)</td>\n",
              "      <td>42.30</td>\n",
              "      <td>1840.75</td>\n",
              "      <td>No</td>\n",
              "    </tr>\n",
              "    <tr>\n",
              "      <th>4</th>\n",
              "      <td>9237-HQITU</td>\n",
              "      <td>Female</td>\n",
              "      <td>0</td>\n",
              "      <td>No</td>\n",
              "      <td>No</td>\n",
              "      <td>2</td>\n",
              "      <td>Yes</td>\n",
              "      <td>No</td>\n",
              "      <td>Fiber optic</td>\n",
              "      <td>No</td>\n",
              "      <td>...</td>\n",
              "      <td>No</td>\n",
              "      <td>No</td>\n",
              "      <td>No</td>\n",
              "      <td>No</td>\n",
              "      <td>Month-to-month</td>\n",
              "      <td>Yes</td>\n",
              "      <td>Electronic check</td>\n",
              "      <td>70.70</td>\n",
              "      <td>151.65</td>\n",
              "      <td>Yes</td>\n",
              "    </tr>\n",
              "  </tbody>\n",
              "</table>\n",
              "<p>5 rows × 21 columns</p>\n",
              "</div>\n",
              "      <button class=\"colab-df-convert\" onclick=\"convertToInteractive('df-c99f33eb-f267-42e8-a3bc-dd87dc6481ac')\"\n",
              "              title=\"Convert this dataframe to an interactive table.\"\n",
              "              style=\"display:none;\">\n",
              "        \n",
              "  <svg xmlns=\"http://www.w3.org/2000/svg\" height=\"24px\"viewBox=\"0 0 24 24\"\n",
              "       width=\"24px\">\n",
              "    <path d=\"M0 0h24v24H0V0z\" fill=\"none\"/>\n",
              "    <path d=\"M18.56 5.44l.94 2.06.94-2.06 2.06-.94-2.06-.94-.94-2.06-.94 2.06-2.06.94zm-11 1L8.5 8.5l.94-2.06 2.06-.94-2.06-.94L8.5 2.5l-.94 2.06-2.06.94zm10 10l.94 2.06.94-2.06 2.06-.94-2.06-.94-.94-2.06-.94 2.06-2.06.94z\"/><path d=\"M17.41 7.96l-1.37-1.37c-.4-.4-.92-.59-1.43-.59-.52 0-1.04.2-1.43.59L10.3 9.45l-7.72 7.72c-.78.78-.78 2.05 0 2.83L4 21.41c.39.39.9.59 1.41.59.51 0 1.02-.2 1.41-.59l7.78-7.78 2.81-2.81c.8-.78.8-2.07 0-2.86zM5.41 20L4 18.59l7.72-7.72 1.47 1.35L5.41 20z\"/>\n",
              "  </svg>\n",
              "      </button>\n",
              "      \n",
              "  <style>\n",
              "    .colab-df-container {\n",
              "      display:flex;\n",
              "      flex-wrap:wrap;\n",
              "      gap: 12px;\n",
              "    }\n",
              "\n",
              "    .colab-df-convert {\n",
              "      background-color: #E8F0FE;\n",
              "      border: none;\n",
              "      border-radius: 50%;\n",
              "      cursor: pointer;\n",
              "      display: none;\n",
              "      fill: #1967D2;\n",
              "      height: 32px;\n",
              "      padding: 0 0 0 0;\n",
              "      width: 32px;\n",
              "    }\n",
              "\n",
              "    .colab-df-convert:hover {\n",
              "      background-color: #E2EBFA;\n",
              "      box-shadow: 0px 1px 2px rgba(60, 64, 67, 0.3), 0px 1px 3px 1px rgba(60, 64, 67, 0.15);\n",
              "      fill: #174EA6;\n",
              "    }\n",
              "\n",
              "    [theme=dark] .colab-df-convert {\n",
              "      background-color: #3B4455;\n",
              "      fill: #D2E3FC;\n",
              "    }\n",
              "\n",
              "    [theme=dark] .colab-df-convert:hover {\n",
              "      background-color: #434B5C;\n",
              "      box-shadow: 0px 1px 3px 1px rgba(0, 0, 0, 0.15);\n",
              "      filter: drop-shadow(0px 1px 2px rgba(0, 0, 0, 0.3));\n",
              "      fill: #FFFFFF;\n",
              "    }\n",
              "  </style>\n",
              "\n",
              "      <script>\n",
              "        const buttonEl =\n",
              "          document.querySelector('#df-c99f33eb-f267-42e8-a3bc-dd87dc6481ac button.colab-df-convert');\n",
              "        buttonEl.style.display =\n",
              "          google.colab.kernel.accessAllowed ? 'block' : 'none';\n",
              "\n",
              "        async function convertToInteractive(key) {\n",
              "          const element = document.querySelector('#df-c99f33eb-f267-42e8-a3bc-dd87dc6481ac');\n",
              "          const dataTable =\n",
              "            await google.colab.kernel.invokeFunction('convertToInteractive',\n",
              "                                                     [key], {});\n",
              "          if (!dataTable) return;\n",
              "\n",
              "          const docLinkHtml = 'Like what you see? Visit the ' +\n",
              "            '<a target=\"_blank\" href=https://colab.research.google.com/notebooks/data_table.ipynb>data table notebook</a>'\n",
              "            + ' to learn more about interactive tables.';\n",
              "          element.innerHTML = '';\n",
              "          dataTable['output_type'] = 'display_data';\n",
              "          await google.colab.output.renderOutput(dataTable, element);\n",
              "          const docLink = document.createElement('div');\n",
              "          docLink.innerHTML = docLinkHtml;\n",
              "          element.appendChild(docLink);\n",
              "        }\n",
              "      </script>\n",
              "    </div>\n",
              "  </div>\n",
              "  "
            ]
          },
          "metadata": {},
          "execution_count": 4
        }
      ]
    },
    {
      "cell_type": "code",
      "source": [
        "df.info()"
      ],
      "metadata": {
        "colab": {
          "base_uri": "https://localhost:8080/"
        },
        "id": "SyTRz7dwe_1F",
        "outputId": "a952a9cf-eba4-4ee8-f206-72bfbbf2b4ae"
      },
      "execution_count": 5,
      "outputs": [
        {
          "output_type": "stream",
          "name": "stdout",
          "text": [
            "<class 'pandas.core.frame.DataFrame'>\n",
            "RangeIndex: 7043 entries, 0 to 7042\n",
            "Data columns (total 21 columns):\n",
            " #   Column            Non-Null Count  Dtype  \n",
            "---  ------            --------------  -----  \n",
            " 0   customerID        7043 non-null   object \n",
            " 1   gender            7043 non-null   object \n",
            " 2   SeniorCitizen     7043 non-null   int64  \n",
            " 3   Partner           7043 non-null   object \n",
            " 4   Dependents        7043 non-null   object \n",
            " 5   tenure            7043 non-null   int64  \n",
            " 6   PhoneService      7043 non-null   object \n",
            " 7   MultipleLines     7043 non-null   object \n",
            " 8   InternetService   7043 non-null   object \n",
            " 9   OnlineSecurity    7043 non-null   object \n",
            " 10  OnlineBackup      7043 non-null   object \n",
            " 11  DeviceProtection  7043 non-null   object \n",
            " 12  TechSupport       7043 non-null   object \n",
            " 13  StreamingTV       7043 non-null   object \n",
            " 14  StreamingMovies   7043 non-null   object \n",
            " 15  Contract          7043 non-null   object \n",
            " 16  PaperlessBilling  7043 non-null   object \n",
            " 17  PaymentMethod     7043 non-null   object \n",
            " 18  MonthlyCharges    7043 non-null   float64\n",
            " 19  TotalCharges      7043 non-null   object \n",
            " 20  Churn             7043 non-null   object \n",
            "dtypes: float64(1), int64(2), object(18)\n",
            "memory usage: 1.1+ MB\n"
          ]
        }
      ]
    },
    {
      "cell_type": "code",
      "source": [
        "df.describe().transpose()"
      ],
      "metadata": {
        "colab": {
          "base_uri": "https://localhost:8080/",
          "height": 143
        },
        "id": "6uVn1eqUhPq7",
        "outputId": "f5be119b-0401-4aa0-e4e5-3927b5881dbf"
      },
      "execution_count": 6,
      "outputs": [
        {
          "output_type": "execute_result",
          "data": {
            "text/plain": [
              "                 count       mean        std    min   25%    50%    75%  \\\n",
              "SeniorCitizen   7043.0   0.162147   0.368612   0.00   0.0   0.00   0.00   \n",
              "tenure          7043.0  32.371149  24.559481   0.00   9.0  29.00  55.00   \n",
              "MonthlyCharges  7043.0  64.761692  30.090047  18.25  35.5  70.35  89.85   \n",
              "\n",
              "                   max  \n",
              "SeniorCitizen     1.00  \n",
              "tenure           72.00  \n",
              "MonthlyCharges  118.75  "
            ],
            "text/html": [
              "\n",
              "  <div id=\"df-67947cad-c84d-4f1c-b6bf-f9190c0b90a9\">\n",
              "    <div class=\"colab-df-container\">\n",
              "      <div>\n",
              "<style scoped>\n",
              "    .dataframe tbody tr th:only-of-type {\n",
              "        vertical-align: middle;\n",
              "    }\n",
              "\n",
              "    .dataframe tbody tr th {\n",
              "        vertical-align: top;\n",
              "    }\n",
              "\n",
              "    .dataframe thead th {\n",
              "        text-align: right;\n",
              "    }\n",
              "</style>\n",
              "<table border=\"1\" class=\"dataframe\">\n",
              "  <thead>\n",
              "    <tr style=\"text-align: right;\">\n",
              "      <th></th>\n",
              "      <th>count</th>\n",
              "      <th>mean</th>\n",
              "      <th>std</th>\n",
              "      <th>min</th>\n",
              "      <th>25%</th>\n",
              "      <th>50%</th>\n",
              "      <th>75%</th>\n",
              "      <th>max</th>\n",
              "    </tr>\n",
              "  </thead>\n",
              "  <tbody>\n",
              "    <tr>\n",
              "      <th>SeniorCitizen</th>\n",
              "      <td>7043.0</td>\n",
              "      <td>0.162147</td>\n",
              "      <td>0.368612</td>\n",
              "      <td>0.00</td>\n",
              "      <td>0.0</td>\n",
              "      <td>0.00</td>\n",
              "      <td>0.00</td>\n",
              "      <td>1.00</td>\n",
              "    </tr>\n",
              "    <tr>\n",
              "      <th>tenure</th>\n",
              "      <td>7043.0</td>\n",
              "      <td>32.371149</td>\n",
              "      <td>24.559481</td>\n",
              "      <td>0.00</td>\n",
              "      <td>9.0</td>\n",
              "      <td>29.00</td>\n",
              "      <td>55.00</td>\n",
              "      <td>72.00</td>\n",
              "    </tr>\n",
              "    <tr>\n",
              "      <th>MonthlyCharges</th>\n",
              "      <td>7043.0</td>\n",
              "      <td>64.761692</td>\n",
              "      <td>30.090047</td>\n",
              "      <td>18.25</td>\n",
              "      <td>35.5</td>\n",
              "      <td>70.35</td>\n",
              "      <td>89.85</td>\n",
              "      <td>118.75</td>\n",
              "    </tr>\n",
              "  </tbody>\n",
              "</table>\n",
              "</div>\n",
              "      <button class=\"colab-df-convert\" onclick=\"convertToInteractive('df-67947cad-c84d-4f1c-b6bf-f9190c0b90a9')\"\n",
              "              title=\"Convert this dataframe to an interactive table.\"\n",
              "              style=\"display:none;\">\n",
              "        \n",
              "  <svg xmlns=\"http://www.w3.org/2000/svg\" height=\"24px\"viewBox=\"0 0 24 24\"\n",
              "       width=\"24px\">\n",
              "    <path d=\"M0 0h24v24H0V0z\" fill=\"none\"/>\n",
              "    <path d=\"M18.56 5.44l.94 2.06.94-2.06 2.06-.94-2.06-.94-.94-2.06-.94 2.06-2.06.94zm-11 1L8.5 8.5l.94-2.06 2.06-.94-2.06-.94L8.5 2.5l-.94 2.06-2.06.94zm10 10l.94 2.06.94-2.06 2.06-.94-2.06-.94-.94-2.06-.94 2.06-2.06.94z\"/><path d=\"M17.41 7.96l-1.37-1.37c-.4-.4-.92-.59-1.43-.59-.52 0-1.04.2-1.43.59L10.3 9.45l-7.72 7.72c-.78.78-.78 2.05 0 2.83L4 21.41c.39.39.9.59 1.41.59.51 0 1.02-.2 1.41-.59l7.78-7.78 2.81-2.81c.8-.78.8-2.07 0-2.86zM5.41 20L4 18.59l7.72-7.72 1.47 1.35L5.41 20z\"/>\n",
              "  </svg>\n",
              "      </button>\n",
              "      \n",
              "  <style>\n",
              "    .colab-df-container {\n",
              "      display:flex;\n",
              "      flex-wrap:wrap;\n",
              "      gap: 12px;\n",
              "    }\n",
              "\n",
              "    .colab-df-convert {\n",
              "      background-color: #E8F0FE;\n",
              "      border: none;\n",
              "      border-radius: 50%;\n",
              "      cursor: pointer;\n",
              "      display: none;\n",
              "      fill: #1967D2;\n",
              "      height: 32px;\n",
              "      padding: 0 0 0 0;\n",
              "      width: 32px;\n",
              "    }\n",
              "\n",
              "    .colab-df-convert:hover {\n",
              "      background-color: #E2EBFA;\n",
              "      box-shadow: 0px 1px 2px rgba(60, 64, 67, 0.3), 0px 1px 3px 1px rgba(60, 64, 67, 0.15);\n",
              "      fill: #174EA6;\n",
              "    }\n",
              "\n",
              "    [theme=dark] .colab-df-convert {\n",
              "      background-color: #3B4455;\n",
              "      fill: #D2E3FC;\n",
              "    }\n",
              "\n",
              "    [theme=dark] .colab-df-convert:hover {\n",
              "      background-color: #434B5C;\n",
              "      box-shadow: 0px 1px 3px 1px rgba(0, 0, 0, 0.15);\n",
              "      filter: drop-shadow(0px 1px 2px rgba(0, 0, 0, 0.3));\n",
              "      fill: #FFFFFF;\n",
              "    }\n",
              "  </style>\n",
              "\n",
              "      <script>\n",
              "        const buttonEl =\n",
              "          document.querySelector('#df-67947cad-c84d-4f1c-b6bf-f9190c0b90a9 button.colab-df-convert');\n",
              "        buttonEl.style.display =\n",
              "          google.colab.kernel.accessAllowed ? 'block' : 'none';\n",
              "\n",
              "        async function convertToInteractive(key) {\n",
              "          const element = document.querySelector('#df-67947cad-c84d-4f1c-b6bf-f9190c0b90a9');\n",
              "          const dataTable =\n",
              "            await google.colab.kernel.invokeFunction('convertToInteractive',\n",
              "                                                     [key], {});\n",
              "          if (!dataTable) return;\n",
              "\n",
              "          const docLinkHtml = 'Like what you see? Visit the ' +\n",
              "            '<a target=\"_blank\" href=https://colab.research.google.com/notebooks/data_table.ipynb>data table notebook</a>'\n",
              "            + ' to learn more about interactive tables.';\n",
              "          element.innerHTML = '';\n",
              "          dataTable['output_type'] = 'display_data';\n",
              "          await google.colab.output.renderOutput(dataTable, element);\n",
              "          const docLink = document.createElement('div');\n",
              "          docLink.innerHTML = docLinkHtml;\n",
              "          element.appendChild(docLink);\n",
              "        }\n",
              "      </script>\n",
              "    </div>\n",
              "  </div>\n",
              "  "
            ]
          },
          "metadata": {},
          "execution_count": 6
        }
      ]
    },
    {
      "cell_type": "markdown",
      "source": [
        "##Data manipulation and cleening"
      ],
      "metadata": {
        "id": "k60CrLzsh2LX"
      }
    },
    {
      "cell_type": "code",
      "source": [
        "df.columns"
      ],
      "metadata": {
        "colab": {
          "base_uri": "https://localhost:8080/"
        },
        "id": "pN8xmROliDX4",
        "outputId": "d644a485-9e7d-450e-f0c8-52971b7be907"
      },
      "execution_count": 7,
      "outputs": [
        {
          "output_type": "execute_result",
          "data": {
            "text/plain": [
              "Index(['customerID', 'gender', 'SeniorCitizen', 'Partner', 'Dependents',\n",
              "       'tenure', 'PhoneService', 'MultipleLines', 'InternetService',\n",
              "       'OnlineSecurity', 'OnlineBackup', 'DeviceProtection', 'TechSupport',\n",
              "       'StreamingTV', 'StreamingMovies', 'Contract', 'PaperlessBilling',\n",
              "       'PaymentMethod', 'MonthlyCharges', 'TotalCharges', 'Churn'],\n",
              "      dtype='object')"
            ]
          },
          "metadata": {},
          "execution_count": 7
        }
      ]
    },
    {
      "cell_type": "code",
      "source": [
        "df['gender'].unique()"
      ],
      "metadata": {
        "colab": {
          "base_uri": "https://localhost:8080/"
        },
        "id": "gCax1BljiLr8",
        "outputId": "9ff1267a-c689-4380-f613-ef447237e2fa"
      },
      "execution_count": 8,
      "outputs": [
        {
          "output_type": "execute_result",
          "data": {
            "text/plain": [
              "array(['Female', 'Male'], dtype=object)"
            ]
          },
          "metadata": {},
          "execution_count": 8
        }
      ]
    },
    {
      "cell_type": "code",
      "source": [
        "df['gender']=df['gender'].astype('category')"
      ],
      "metadata": {
        "id": "_zOJzEJ0iP-a"
      },
      "execution_count": 9,
      "outputs": []
    },
    {
      "cell_type": "code",
      "source": [
        "df['SeniorCitizen'].unique()"
      ],
      "metadata": {
        "colab": {
          "base_uri": "https://localhost:8080/"
        },
        "id": "7PIhZnYsiXI-",
        "outputId": "51e86b43-9e5f-4490-95a8-2452c063b39d"
      },
      "execution_count": 10,
      "outputs": [
        {
          "output_type": "execute_result",
          "data": {
            "text/plain": [
              "array([0, 1])"
            ]
          },
          "metadata": {},
          "execution_count": 10
        }
      ]
    },
    {
      "cell_type": "code",
      "source": [
        "df['SeniorCitizen']=df['SeniorCitizen'].astype('category')"
      ],
      "metadata": {
        "id": "iFUBTkM1iq1q"
      },
      "execution_count": 11,
      "outputs": []
    },
    {
      "cell_type": "code",
      "source": [
        "df['Partner'].unique()"
      ],
      "metadata": {
        "colab": {
          "base_uri": "https://localhost:8080/"
        },
        "id": "-qlZD73Pisra",
        "outputId": "d77fc319-41b9-43c6-e0f8-e2bf16bd6824"
      },
      "execution_count": 12,
      "outputs": [
        {
          "output_type": "execute_result",
          "data": {
            "text/plain": [
              "array(['Yes', 'No'], dtype=object)"
            ]
          },
          "metadata": {},
          "execution_count": 12
        }
      ]
    },
    {
      "cell_type": "code",
      "source": [
        "df['Partner']=df['Partner'].astype(\"category\")"
      ],
      "metadata": {
        "id": "qQ9o8KFtiyly"
      },
      "execution_count": 13,
      "outputs": []
    },
    {
      "cell_type": "code",
      "source": [
        "df['Dependents'].unique()"
      ],
      "metadata": {
        "colab": {
          "base_uri": "https://localhost:8080/"
        },
        "id": "pLPgUiYNi2nd",
        "outputId": "7654d039-69f7-463c-86ab-32fc9424a73a"
      },
      "execution_count": 14,
      "outputs": [
        {
          "output_type": "execute_result",
          "data": {
            "text/plain": [
              "array(['No', 'Yes'], dtype=object)"
            ]
          },
          "metadata": {},
          "execution_count": 14
        }
      ]
    },
    {
      "cell_type": "code",
      "source": [
        "df['Dependents']=df['Dependents'].astype(\"category\")"
      ],
      "metadata": {
        "id": "qIVkfzWKi80z"
      },
      "execution_count": 15,
      "outputs": []
    },
    {
      "cell_type": "code",
      "source": [
        "df['tenure'].unique() \n",
        "#Number of months the customer has stayed with the company"
      ],
      "metadata": {
        "colab": {
          "base_uri": "https://localhost:8080/"
        },
        "id": "wwNWmSF5i_AA",
        "outputId": "9945dcbb-e276-496c-9f53-3afd976ad6aa"
      },
      "execution_count": 16,
      "outputs": [
        {
          "output_type": "execute_result",
          "data": {
            "text/plain": [
              "array([ 1, 34,  2, 45,  8, 22, 10, 28, 62, 13, 16, 58, 49, 25, 69, 52, 71,\n",
              "       21, 12, 30, 47, 72, 17, 27,  5, 46, 11, 70, 63, 43, 15, 60, 18, 66,\n",
              "        9,  3, 31, 50, 64, 56,  7, 42, 35, 48, 29, 65, 38, 68, 32, 55, 37,\n",
              "       36, 41,  6,  4, 33, 67, 23, 57, 61, 14, 20, 53, 40, 59, 24, 44, 19,\n",
              "       54, 51, 26,  0, 39])"
            ]
          },
          "metadata": {},
          "execution_count": 16
        }
      ]
    },
    {
      "cell_type": "code",
      "source": [
        "df['PhoneService'].unique()"
      ],
      "metadata": {
        "colab": {
          "base_uri": "https://localhost:8080/"
        },
        "id": "6D9WyfPTjh3i",
        "outputId": "ce5450ee-c369-4dad-83a6-72a07aa4359d"
      },
      "execution_count": 17,
      "outputs": [
        {
          "output_type": "execute_result",
          "data": {
            "text/plain": [
              "array(['No', 'Yes'], dtype=object)"
            ]
          },
          "metadata": {},
          "execution_count": 17
        }
      ]
    },
    {
      "cell_type": "code",
      "source": [
        "df['PhoneService']=df['PhoneService'].astype(\"category\")"
      ],
      "metadata": {
        "id": "yHMsUIp1Rns4"
      },
      "execution_count": 18,
      "outputs": []
    },
    {
      "cell_type": "code",
      "source": [
        "df['MultipleLines'].unique()"
      ],
      "metadata": {
        "colab": {
          "base_uri": "https://localhost:8080/"
        },
        "id": "Sw7rawCckigx",
        "outputId": "25aaa858-73ed-4d56-9f46-f6ab4c9f83cc"
      },
      "execution_count": 19,
      "outputs": [
        {
          "output_type": "execute_result",
          "data": {
            "text/plain": [
              "array(['No phone service', 'No', 'Yes'], dtype=object)"
            ]
          },
          "metadata": {},
          "execution_count": 19
        }
      ]
    },
    {
      "cell_type": "code",
      "source": [
        "df['MultipleLines']=df['MultipleLines'].replace('No phone service','No')"
      ],
      "metadata": {
        "id": "RCVq9sSEQOGf"
      },
      "execution_count": 20,
      "outputs": []
    },
    {
      "cell_type": "code",
      "source": [
        "df['MultipleLines'].unique()"
      ],
      "metadata": {
        "colab": {
          "base_uri": "https://localhost:8080/"
        },
        "id": "N1jjUX0ER2jX",
        "outputId": "d4ab8d71-66bb-41ad-e4e0-4229ff256c9b"
      },
      "execution_count": 21,
      "outputs": [
        {
          "output_type": "execute_result",
          "data": {
            "text/plain": [
              "array(['No', 'Yes'], dtype=object)"
            ]
          },
          "metadata": {},
          "execution_count": 21
        }
      ]
    },
    {
      "cell_type": "code",
      "source": [
        "df['MultipleLines']=df['MultipleLines'].astype(\"category\")"
      ],
      "metadata": {
        "id": "nPV6Oqc0kofc"
      },
      "execution_count": 22,
      "outputs": []
    },
    {
      "cell_type": "code",
      "source": [
        "df['InternetService'].unique()"
      ],
      "metadata": {
        "colab": {
          "base_uri": "https://localhost:8080/"
        },
        "id": "keAGPkapk5lx",
        "outputId": "e48ed7bd-c025-4fb3-ceb3-72da0b66f9d1"
      },
      "execution_count": 23,
      "outputs": [
        {
          "output_type": "execute_result",
          "data": {
            "text/plain": [
              "array(['DSL', 'Fiber optic', 'No'], dtype=object)"
            ]
          },
          "metadata": {},
          "execution_count": 23
        }
      ]
    },
    {
      "cell_type": "code",
      "source": [
        "df['InternetService']=df['InternetService'].astype(\"category\")"
      ],
      "metadata": {
        "id": "IwVJvLwwlCHT"
      },
      "execution_count": 24,
      "outputs": []
    },
    {
      "cell_type": "code",
      "source": [
        "df['OnlineSecurity'].unique()"
      ],
      "metadata": {
        "colab": {
          "base_uri": "https://localhost:8080/"
        },
        "id": "N4WMatolrKkX",
        "outputId": "dab8f3df-79a5-4d2f-c72d-72d3aa8b059f"
      },
      "execution_count": 25,
      "outputs": [
        {
          "output_type": "execute_result",
          "data": {
            "text/plain": [
              "array(['No', 'Yes', 'No internet service'], dtype=object)"
            ]
          },
          "metadata": {},
          "execution_count": 25
        }
      ]
    },
    {
      "cell_type": "code",
      "source": [
        "df['OnlineSecurity']=df['OnlineSecurity'].replace('No internet service','No')"
      ],
      "metadata": {
        "id": "2ngPTxSQSa0d"
      },
      "execution_count": 26,
      "outputs": []
    },
    {
      "cell_type": "code",
      "source": [
        "df['OnlineSecurity']=df['OnlineSecurity'].astype(\"category\")"
      ],
      "metadata": {
        "id": "P4iZn9e-rQh5"
      },
      "execution_count": 27,
      "outputs": []
    },
    {
      "cell_type": "code",
      "source": [
        "df['OnlineBackup'].unique()"
      ],
      "metadata": {
        "colab": {
          "base_uri": "https://localhost:8080/"
        },
        "id": "IBkUP86qrT__",
        "outputId": "b07390e1-25a2-4a7f-c203-ae8cb9018a45"
      },
      "execution_count": 28,
      "outputs": [
        {
          "output_type": "execute_result",
          "data": {
            "text/plain": [
              "array(['Yes', 'No', 'No internet service'], dtype=object)"
            ]
          },
          "metadata": {},
          "execution_count": 28
        }
      ]
    },
    {
      "cell_type": "code",
      "source": [
        "df['OnlineBackup']=df['OnlineBackup'].replace('No internet service','No')"
      ],
      "metadata": {
        "id": "2wF8inauSnLa"
      },
      "execution_count": 29,
      "outputs": []
    },
    {
      "cell_type": "code",
      "source": [
        "df['OnlineBackup']=df['OnlineBackup'].astype(\"category\")"
      ],
      "metadata": {
        "id": "v9LmzzO3reRd"
      },
      "execution_count": 30,
      "outputs": []
    },
    {
      "cell_type": "code",
      "source": [
        "df['DeviceProtection'].unique()"
      ],
      "metadata": {
        "colab": {
          "base_uri": "https://localhost:8080/"
        },
        "id": "nQS70RwnrgK1",
        "outputId": "60a19b6b-01ca-4cbf-e63c-58e5c5d38bc6"
      },
      "execution_count": 31,
      "outputs": [
        {
          "output_type": "execute_result",
          "data": {
            "text/plain": [
              "array(['No', 'Yes', 'No internet service'], dtype=object)"
            ]
          },
          "metadata": {},
          "execution_count": 31
        }
      ]
    },
    {
      "cell_type": "code",
      "source": [
        "df['DeviceProtection']=df['DeviceProtection'].replace('No internet service','No')"
      ],
      "metadata": {
        "id": "paZU6sHVSr7f"
      },
      "execution_count": 32,
      "outputs": []
    },
    {
      "cell_type": "code",
      "source": [
        "df['DeviceProtection']=df['DeviceProtection'].astype(\"category\")"
      ],
      "metadata": {
        "id": "o_rJa0perncq"
      },
      "execution_count": 33,
      "outputs": []
    },
    {
      "cell_type": "code",
      "source": [
        "df['TechSupport'].unique()"
      ],
      "metadata": {
        "colab": {
          "base_uri": "https://localhost:8080/"
        },
        "id": "pssvKJWFrq-K",
        "outputId": "6b0d968d-9456-40ca-bd67-af80680b2b86"
      },
      "execution_count": 34,
      "outputs": [
        {
          "output_type": "execute_result",
          "data": {
            "text/plain": [
              "array(['No', 'Yes', 'No internet service'], dtype=object)"
            ]
          },
          "metadata": {},
          "execution_count": 34
        }
      ]
    },
    {
      "cell_type": "code",
      "source": [
        "df['TechSupport']=df['TechSupport'].replace('No internet service','No')"
      ],
      "metadata": {
        "id": "PV_8KRWkSyG1"
      },
      "execution_count": 35,
      "outputs": []
    },
    {
      "cell_type": "code",
      "source": [
        "df['TechSupport']=df['TechSupport'].astype(\"category\")"
      ],
      "metadata": {
        "id": "63blp1v4ryu2"
      },
      "execution_count": 36,
      "outputs": []
    },
    {
      "cell_type": "code",
      "source": [
        "df['StreamingTV'].unique()"
      ],
      "metadata": {
        "colab": {
          "base_uri": "https://localhost:8080/"
        },
        "id": "IOOFwm6IrzfY",
        "outputId": "a53bcd2b-2682-4aa8-cb31-ab0be9e1354f"
      },
      "execution_count": 37,
      "outputs": [
        {
          "output_type": "execute_result",
          "data": {
            "text/plain": [
              "array(['No', 'Yes', 'No internet service'], dtype=object)"
            ]
          },
          "metadata": {},
          "execution_count": 37
        }
      ]
    },
    {
      "cell_type": "code",
      "source": [
        "df['StreamingTV']=df['StreamingTV'].replace('No internet service','No')"
      ],
      "metadata": {
        "id": "S5d7NOx7S1qP"
      },
      "execution_count": 38,
      "outputs": []
    },
    {
      "cell_type": "code",
      "source": [
        "df['StreamingTV']=df['StreamingTV'].astype(\"category\")"
      ],
      "metadata": {
        "id": "tL5U6KEnr-JS"
      },
      "execution_count": 39,
      "outputs": []
    },
    {
      "cell_type": "code",
      "source": [
        "df['StreamingMovies'].unique()"
      ],
      "metadata": {
        "colab": {
          "base_uri": "https://localhost:8080/"
        },
        "id": "bYm353ZZr_1-",
        "outputId": "72e8ef25-62e9-4b60-8dcf-4a47fd7a3644"
      },
      "execution_count": 40,
      "outputs": [
        {
          "output_type": "execute_result",
          "data": {
            "text/plain": [
              "array(['No', 'Yes', 'No internet service'], dtype=object)"
            ]
          },
          "metadata": {},
          "execution_count": 40
        }
      ]
    },
    {
      "cell_type": "code",
      "source": [
        "df['StreamingMovies']=df['StreamingMovies'].replace('No internet service','No')"
      ],
      "metadata": {
        "id": "nsXasATRS48j"
      },
      "execution_count": 41,
      "outputs": []
    },
    {
      "cell_type": "code",
      "source": [
        "df['StreamingMovies']=df['StreamingMovies'].astype(\"category\")"
      ],
      "metadata": {
        "id": "b6lq7QWKsDs1"
      },
      "execution_count": 42,
      "outputs": []
    },
    {
      "cell_type": "code",
      "source": [
        "df['Contract'].unique()"
      ],
      "metadata": {
        "colab": {
          "base_uri": "https://localhost:8080/"
        },
        "id": "_HPtCNFBsJt2",
        "outputId": "dc714855-a4ed-474b-8aa2-61c981b9bb3e"
      },
      "execution_count": 43,
      "outputs": [
        {
          "output_type": "execute_result",
          "data": {
            "text/plain": [
              "array(['Month-to-month', 'One year', 'Two year'], dtype=object)"
            ]
          },
          "metadata": {},
          "execution_count": 43
        }
      ]
    },
    {
      "cell_type": "code",
      "source": [
        "df['Contract']=df['Contract'].astype(\"category\")"
      ],
      "metadata": {
        "id": "fjfNhOIFsWwY"
      },
      "execution_count": 44,
      "outputs": []
    },
    {
      "cell_type": "code",
      "source": [
        "df['PaperlessBilling'].unique()"
      ],
      "metadata": {
        "colab": {
          "base_uri": "https://localhost:8080/"
        },
        "id": "61oSt6pUsac3",
        "outputId": "9c4b3068-c7c6-435e-abd7-f3ec1c8d5e62"
      },
      "execution_count": 45,
      "outputs": [
        {
          "output_type": "execute_result",
          "data": {
            "text/plain": [
              "array(['Yes', 'No'], dtype=object)"
            ]
          },
          "metadata": {},
          "execution_count": 45
        }
      ]
    },
    {
      "cell_type": "code",
      "source": [
        "df['PaperlessBilling']=df['PaperlessBilling'].astype(\"category\")"
      ],
      "metadata": {
        "id": "ul5ga8_zsfEr"
      },
      "execution_count": 46,
      "outputs": []
    },
    {
      "cell_type": "code",
      "source": [
        "df['PaymentMethod'].unique()"
      ],
      "metadata": {
        "colab": {
          "base_uri": "https://localhost:8080/"
        },
        "id": "AbOJcnHismfs",
        "outputId": "a0acda0b-d606-477d-e989-bc1c7e5fdd21"
      },
      "execution_count": 47,
      "outputs": [
        {
          "output_type": "execute_result",
          "data": {
            "text/plain": [
              "array(['Electronic check', 'Mailed check', 'Bank transfer (automatic)',\n",
              "       'Credit card (automatic)'], dtype=object)"
            ]
          },
          "metadata": {},
          "execution_count": 47
        }
      ]
    },
    {
      "cell_type": "code",
      "source": [
        "df['PaymentMethod']=df['PaymentMethod'].astype(\"category\")"
      ],
      "metadata": {
        "id": "nchRL9r_srwA"
      },
      "execution_count": 48,
      "outputs": []
    },
    {
      "cell_type": "code",
      "source": [
        "df['MonthlyCharges'].dtypes"
      ],
      "metadata": {
        "colab": {
          "base_uri": "https://localhost:8080/"
        },
        "id": "6tMJJbE1svOv",
        "outputId": "bad25776-20ce-49f9-87f0-957a81b4b83a"
      },
      "execution_count": 49,
      "outputs": [
        {
          "output_type": "execute_result",
          "data": {
            "text/plain": [
              "dtype('float64')"
            ]
          },
          "metadata": {},
          "execution_count": 49
        }
      ]
    },
    {
      "cell_type": "code",
      "source": [
        "df['Churn'].unique()"
      ],
      "metadata": {
        "colab": {
          "base_uri": "https://localhost:8080/"
        },
        "id": "bIj7-cxitNhl",
        "outputId": "3e901f51-7f4f-4272-b438-c80b5a5616cc"
      },
      "execution_count": 50,
      "outputs": [
        {
          "output_type": "execute_result",
          "data": {
            "text/plain": [
              "array(['No', 'Yes'], dtype=object)"
            ]
          },
          "metadata": {},
          "execution_count": 50
        }
      ]
    },
    {
      "cell_type": "code",
      "source": [
        "df['Churn']=df['Churn'].astype(\"category\")"
      ],
      "metadata": {
        "id": "53kw6sHqtOij"
      },
      "execution_count": 51,
      "outputs": []
    },
    {
      "cell_type": "code",
      "source": [
        "df.info()"
      ],
      "metadata": {
        "colab": {
          "base_uri": "https://localhost:8080/"
        },
        "id": "CEm6jiKrta4w",
        "outputId": "f0c1b9c1-0177-40b0-a13f-8c5bfd53986a"
      },
      "execution_count": 52,
      "outputs": [
        {
          "output_type": "stream",
          "name": "stdout",
          "text": [
            "<class 'pandas.core.frame.DataFrame'>\n",
            "RangeIndex: 7043 entries, 0 to 7042\n",
            "Data columns (total 21 columns):\n",
            " #   Column            Non-Null Count  Dtype   \n",
            "---  ------            --------------  -----   \n",
            " 0   customerID        7043 non-null   object  \n",
            " 1   gender            7043 non-null   category\n",
            " 2   SeniorCitizen     7043 non-null   category\n",
            " 3   Partner           7043 non-null   category\n",
            " 4   Dependents        7043 non-null   category\n",
            " 5   tenure            7043 non-null   int64   \n",
            " 6   PhoneService      7043 non-null   category\n",
            " 7   MultipleLines     7043 non-null   category\n",
            " 8   InternetService   7043 non-null   category\n",
            " 9   OnlineSecurity    7043 non-null   category\n",
            " 10  OnlineBackup      7043 non-null   category\n",
            " 11  DeviceProtection  7043 non-null   category\n",
            " 12  TechSupport       7043 non-null   category\n",
            " 13  StreamingTV       7043 non-null   category\n",
            " 14  StreamingMovies   7043 non-null   category\n",
            " 15  Contract          7043 non-null   category\n",
            " 16  PaperlessBilling  7043 non-null   category\n",
            " 17  PaymentMethod     7043 non-null   category\n",
            " 18  MonthlyCharges    7043 non-null   float64 \n",
            " 19  TotalCharges      7043 non-null   object  \n",
            " 20  Churn             7043 non-null   category\n",
            "dtypes: category(17), float64(1), int64(1), object(2)\n",
            "memory usage: 339.3+ KB\n"
          ]
        }
      ]
    },
    {
      "cell_type": "code",
      "source": [
        "df.isnull().sum()"
      ],
      "metadata": {
        "colab": {
          "base_uri": "https://localhost:8080/"
        },
        "id": "wQq8eDIdu-89",
        "outputId": "d1d88900-bae1-47b7-addc-ae1ec8527303"
      },
      "execution_count": 53,
      "outputs": [
        {
          "output_type": "execute_result",
          "data": {
            "text/plain": [
              "customerID          0\n",
              "gender              0\n",
              "SeniorCitizen       0\n",
              "Partner             0\n",
              "Dependents          0\n",
              "tenure              0\n",
              "PhoneService        0\n",
              "MultipleLines       0\n",
              "InternetService     0\n",
              "OnlineSecurity      0\n",
              "OnlineBackup        0\n",
              "DeviceProtection    0\n",
              "TechSupport         0\n",
              "StreamingTV         0\n",
              "StreamingMovies     0\n",
              "Contract            0\n",
              "PaperlessBilling    0\n",
              "PaymentMethod       0\n",
              "MonthlyCharges      0\n",
              "TotalCharges        0\n",
              "Churn               0\n",
              "dtype: int64"
            ]
          },
          "metadata": {},
          "execution_count": 53
        }
      ]
    },
    {
      "cell_type": "code",
      "source": [
        "df[df['TotalCharges']==' ']"
      ],
      "metadata": {
        "colab": {
          "base_uri": "https://localhost:8080/",
          "height": 678
        },
        "id": "6rD7OmZ9v3a1",
        "outputId": "0eb91f6b-b3af-4c0d-e316-a6e50a072da2"
      },
      "execution_count": 54,
      "outputs": [
        {
          "output_type": "execute_result",
          "data": {
            "text/plain": [
              "      customerID  gender SeniorCitizen Partner Dependents  tenure  \\\n",
              "488   4472-LVYGI  Female             0     Yes        Yes       0   \n",
              "753   3115-CZMZD    Male             0      No        Yes       0   \n",
              "936   5709-LVOEQ  Female             0     Yes        Yes       0   \n",
              "1082  4367-NUYAO    Male             0     Yes        Yes       0   \n",
              "1340  1371-DWPAZ  Female             0     Yes        Yes       0   \n",
              "3331  7644-OMVMY    Male             0     Yes        Yes       0   \n",
              "3826  3213-VVOLG    Male             0     Yes        Yes       0   \n",
              "4380  2520-SGTTA  Female             0     Yes        Yes       0   \n",
              "5218  2923-ARZLG    Male             0     Yes        Yes       0   \n",
              "6670  4075-WKNIU  Female             0     Yes        Yes       0   \n",
              "6754  2775-SEFEE    Male             0      No        Yes       0   \n",
              "\n",
              "     PhoneService MultipleLines InternetService OnlineSecurity  ...  \\\n",
              "488            No            No             DSL            Yes  ...   \n",
              "753           Yes            No              No             No  ...   \n",
              "936           Yes            No             DSL            Yes  ...   \n",
              "1082          Yes           Yes              No             No  ...   \n",
              "1340           No            No             DSL            Yes  ...   \n",
              "3331          Yes            No              No             No  ...   \n",
              "3826          Yes           Yes              No             No  ...   \n",
              "4380          Yes            No              No             No  ...   \n",
              "5218          Yes            No              No             No  ...   \n",
              "6670          Yes           Yes             DSL             No  ...   \n",
              "6754          Yes           Yes             DSL            Yes  ...   \n",
              "\n",
              "     DeviceProtection TechSupport StreamingTV StreamingMovies  Contract  \\\n",
              "488               Yes         Yes         Yes              No  Two year   \n",
              "753                No          No          No              No  Two year   \n",
              "936               Yes          No         Yes             Yes  Two year   \n",
              "1082               No          No          No              No  Two year   \n",
              "1340              Yes         Yes         Yes              No  Two year   \n",
              "3331               No          No          No              No  Two year   \n",
              "3826               No          No          No              No  Two year   \n",
              "4380               No          No          No              No  Two year   \n",
              "5218               No          No          No              No  One year   \n",
              "6670              Yes         Yes         Yes              No  Two year   \n",
              "6754               No         Yes          No              No  Two year   \n",
              "\n",
              "     PaperlessBilling              PaymentMethod MonthlyCharges  TotalCharges  \\\n",
              "488               Yes  Bank transfer (automatic)          52.55                 \n",
              "753                No               Mailed check          20.25                 \n",
              "936                No               Mailed check          80.85                 \n",
              "1082               No               Mailed check          25.75                 \n",
              "1340               No    Credit card (automatic)          56.05                 \n",
              "3331               No               Mailed check          19.85                 \n",
              "3826               No               Mailed check          25.35                 \n",
              "4380               No               Mailed check          20.00                 \n",
              "5218              Yes               Mailed check          19.70                 \n",
              "6670               No               Mailed check          73.35                 \n",
              "6754              Yes  Bank transfer (automatic)          61.90                 \n",
              "\n",
              "     Churn  \n",
              "488     No  \n",
              "753     No  \n",
              "936     No  \n",
              "1082    No  \n",
              "1340    No  \n",
              "3331    No  \n",
              "3826    No  \n",
              "4380    No  \n",
              "5218    No  \n",
              "6670    No  \n",
              "6754    No  \n",
              "\n",
              "[11 rows x 21 columns]"
            ],
            "text/html": [
              "\n",
              "  <div id=\"df-8fa9a2a6-a700-4594-8a3e-efd03a660de3\">\n",
              "    <div class=\"colab-df-container\">\n",
              "      <div>\n",
              "<style scoped>\n",
              "    .dataframe tbody tr th:only-of-type {\n",
              "        vertical-align: middle;\n",
              "    }\n",
              "\n",
              "    .dataframe tbody tr th {\n",
              "        vertical-align: top;\n",
              "    }\n",
              "\n",
              "    .dataframe thead th {\n",
              "        text-align: right;\n",
              "    }\n",
              "</style>\n",
              "<table border=\"1\" class=\"dataframe\">\n",
              "  <thead>\n",
              "    <tr style=\"text-align: right;\">\n",
              "      <th></th>\n",
              "      <th>customerID</th>\n",
              "      <th>gender</th>\n",
              "      <th>SeniorCitizen</th>\n",
              "      <th>Partner</th>\n",
              "      <th>Dependents</th>\n",
              "      <th>tenure</th>\n",
              "      <th>PhoneService</th>\n",
              "      <th>MultipleLines</th>\n",
              "      <th>InternetService</th>\n",
              "      <th>OnlineSecurity</th>\n",
              "      <th>...</th>\n",
              "      <th>DeviceProtection</th>\n",
              "      <th>TechSupport</th>\n",
              "      <th>StreamingTV</th>\n",
              "      <th>StreamingMovies</th>\n",
              "      <th>Contract</th>\n",
              "      <th>PaperlessBilling</th>\n",
              "      <th>PaymentMethod</th>\n",
              "      <th>MonthlyCharges</th>\n",
              "      <th>TotalCharges</th>\n",
              "      <th>Churn</th>\n",
              "    </tr>\n",
              "  </thead>\n",
              "  <tbody>\n",
              "    <tr>\n",
              "      <th>488</th>\n",
              "      <td>4472-LVYGI</td>\n",
              "      <td>Female</td>\n",
              "      <td>0</td>\n",
              "      <td>Yes</td>\n",
              "      <td>Yes</td>\n",
              "      <td>0</td>\n",
              "      <td>No</td>\n",
              "      <td>No</td>\n",
              "      <td>DSL</td>\n",
              "      <td>Yes</td>\n",
              "      <td>...</td>\n",
              "      <td>Yes</td>\n",
              "      <td>Yes</td>\n",
              "      <td>Yes</td>\n",
              "      <td>No</td>\n",
              "      <td>Two year</td>\n",
              "      <td>Yes</td>\n",
              "      <td>Bank transfer (automatic)</td>\n",
              "      <td>52.55</td>\n",
              "      <td></td>\n",
              "      <td>No</td>\n",
              "    </tr>\n",
              "    <tr>\n",
              "      <th>753</th>\n",
              "      <td>3115-CZMZD</td>\n",
              "      <td>Male</td>\n",
              "      <td>0</td>\n",
              "      <td>No</td>\n",
              "      <td>Yes</td>\n",
              "      <td>0</td>\n",
              "      <td>Yes</td>\n",
              "      <td>No</td>\n",
              "      <td>No</td>\n",
              "      <td>No</td>\n",
              "      <td>...</td>\n",
              "      <td>No</td>\n",
              "      <td>No</td>\n",
              "      <td>No</td>\n",
              "      <td>No</td>\n",
              "      <td>Two year</td>\n",
              "      <td>No</td>\n",
              "      <td>Mailed check</td>\n",
              "      <td>20.25</td>\n",
              "      <td></td>\n",
              "      <td>No</td>\n",
              "    </tr>\n",
              "    <tr>\n",
              "      <th>936</th>\n",
              "      <td>5709-LVOEQ</td>\n",
              "      <td>Female</td>\n",
              "      <td>0</td>\n",
              "      <td>Yes</td>\n",
              "      <td>Yes</td>\n",
              "      <td>0</td>\n",
              "      <td>Yes</td>\n",
              "      <td>No</td>\n",
              "      <td>DSL</td>\n",
              "      <td>Yes</td>\n",
              "      <td>...</td>\n",
              "      <td>Yes</td>\n",
              "      <td>No</td>\n",
              "      <td>Yes</td>\n",
              "      <td>Yes</td>\n",
              "      <td>Two year</td>\n",
              "      <td>No</td>\n",
              "      <td>Mailed check</td>\n",
              "      <td>80.85</td>\n",
              "      <td></td>\n",
              "      <td>No</td>\n",
              "    </tr>\n",
              "    <tr>\n",
              "      <th>1082</th>\n",
              "      <td>4367-NUYAO</td>\n",
              "      <td>Male</td>\n",
              "      <td>0</td>\n",
              "      <td>Yes</td>\n",
              "      <td>Yes</td>\n",
              "      <td>0</td>\n",
              "      <td>Yes</td>\n",
              "      <td>Yes</td>\n",
              "      <td>No</td>\n",
              "      <td>No</td>\n",
              "      <td>...</td>\n",
              "      <td>No</td>\n",
              "      <td>No</td>\n",
              "      <td>No</td>\n",
              "      <td>No</td>\n",
              "      <td>Two year</td>\n",
              "      <td>No</td>\n",
              "      <td>Mailed check</td>\n",
              "      <td>25.75</td>\n",
              "      <td></td>\n",
              "      <td>No</td>\n",
              "    </tr>\n",
              "    <tr>\n",
              "      <th>1340</th>\n",
              "      <td>1371-DWPAZ</td>\n",
              "      <td>Female</td>\n",
              "      <td>0</td>\n",
              "      <td>Yes</td>\n",
              "      <td>Yes</td>\n",
              "      <td>0</td>\n",
              "      <td>No</td>\n",
              "      <td>No</td>\n",
              "      <td>DSL</td>\n",
              "      <td>Yes</td>\n",
              "      <td>...</td>\n",
              "      <td>Yes</td>\n",
              "      <td>Yes</td>\n",
              "      <td>Yes</td>\n",
              "      <td>No</td>\n",
              "      <td>Two year</td>\n",
              "      <td>No</td>\n",
              "      <td>Credit card (automatic)</td>\n",
              "      <td>56.05</td>\n",
              "      <td></td>\n",
              "      <td>No</td>\n",
              "    </tr>\n",
              "    <tr>\n",
              "      <th>3331</th>\n",
              "      <td>7644-OMVMY</td>\n",
              "      <td>Male</td>\n",
              "      <td>0</td>\n",
              "      <td>Yes</td>\n",
              "      <td>Yes</td>\n",
              "      <td>0</td>\n",
              "      <td>Yes</td>\n",
              "      <td>No</td>\n",
              "      <td>No</td>\n",
              "      <td>No</td>\n",
              "      <td>...</td>\n",
              "      <td>No</td>\n",
              "      <td>No</td>\n",
              "      <td>No</td>\n",
              "      <td>No</td>\n",
              "      <td>Two year</td>\n",
              "      <td>No</td>\n",
              "      <td>Mailed check</td>\n",
              "      <td>19.85</td>\n",
              "      <td></td>\n",
              "      <td>No</td>\n",
              "    </tr>\n",
              "    <tr>\n",
              "      <th>3826</th>\n",
              "      <td>3213-VVOLG</td>\n",
              "      <td>Male</td>\n",
              "      <td>0</td>\n",
              "      <td>Yes</td>\n",
              "      <td>Yes</td>\n",
              "      <td>0</td>\n",
              "      <td>Yes</td>\n",
              "      <td>Yes</td>\n",
              "      <td>No</td>\n",
              "      <td>No</td>\n",
              "      <td>...</td>\n",
              "      <td>No</td>\n",
              "      <td>No</td>\n",
              "      <td>No</td>\n",
              "      <td>No</td>\n",
              "      <td>Two year</td>\n",
              "      <td>No</td>\n",
              "      <td>Mailed check</td>\n",
              "      <td>25.35</td>\n",
              "      <td></td>\n",
              "      <td>No</td>\n",
              "    </tr>\n",
              "    <tr>\n",
              "      <th>4380</th>\n",
              "      <td>2520-SGTTA</td>\n",
              "      <td>Female</td>\n",
              "      <td>0</td>\n",
              "      <td>Yes</td>\n",
              "      <td>Yes</td>\n",
              "      <td>0</td>\n",
              "      <td>Yes</td>\n",
              "      <td>No</td>\n",
              "      <td>No</td>\n",
              "      <td>No</td>\n",
              "      <td>...</td>\n",
              "      <td>No</td>\n",
              "      <td>No</td>\n",
              "      <td>No</td>\n",
              "      <td>No</td>\n",
              "      <td>Two year</td>\n",
              "      <td>No</td>\n",
              "      <td>Mailed check</td>\n",
              "      <td>20.00</td>\n",
              "      <td></td>\n",
              "      <td>No</td>\n",
              "    </tr>\n",
              "    <tr>\n",
              "      <th>5218</th>\n",
              "      <td>2923-ARZLG</td>\n",
              "      <td>Male</td>\n",
              "      <td>0</td>\n",
              "      <td>Yes</td>\n",
              "      <td>Yes</td>\n",
              "      <td>0</td>\n",
              "      <td>Yes</td>\n",
              "      <td>No</td>\n",
              "      <td>No</td>\n",
              "      <td>No</td>\n",
              "      <td>...</td>\n",
              "      <td>No</td>\n",
              "      <td>No</td>\n",
              "      <td>No</td>\n",
              "      <td>No</td>\n",
              "      <td>One year</td>\n",
              "      <td>Yes</td>\n",
              "      <td>Mailed check</td>\n",
              "      <td>19.70</td>\n",
              "      <td></td>\n",
              "      <td>No</td>\n",
              "    </tr>\n",
              "    <tr>\n",
              "      <th>6670</th>\n",
              "      <td>4075-WKNIU</td>\n",
              "      <td>Female</td>\n",
              "      <td>0</td>\n",
              "      <td>Yes</td>\n",
              "      <td>Yes</td>\n",
              "      <td>0</td>\n",
              "      <td>Yes</td>\n",
              "      <td>Yes</td>\n",
              "      <td>DSL</td>\n",
              "      <td>No</td>\n",
              "      <td>...</td>\n",
              "      <td>Yes</td>\n",
              "      <td>Yes</td>\n",
              "      <td>Yes</td>\n",
              "      <td>No</td>\n",
              "      <td>Two year</td>\n",
              "      <td>No</td>\n",
              "      <td>Mailed check</td>\n",
              "      <td>73.35</td>\n",
              "      <td></td>\n",
              "      <td>No</td>\n",
              "    </tr>\n",
              "    <tr>\n",
              "      <th>6754</th>\n",
              "      <td>2775-SEFEE</td>\n",
              "      <td>Male</td>\n",
              "      <td>0</td>\n",
              "      <td>No</td>\n",
              "      <td>Yes</td>\n",
              "      <td>0</td>\n",
              "      <td>Yes</td>\n",
              "      <td>Yes</td>\n",
              "      <td>DSL</td>\n",
              "      <td>Yes</td>\n",
              "      <td>...</td>\n",
              "      <td>No</td>\n",
              "      <td>Yes</td>\n",
              "      <td>No</td>\n",
              "      <td>No</td>\n",
              "      <td>Two year</td>\n",
              "      <td>Yes</td>\n",
              "      <td>Bank transfer (automatic)</td>\n",
              "      <td>61.90</td>\n",
              "      <td></td>\n",
              "      <td>No</td>\n",
              "    </tr>\n",
              "  </tbody>\n",
              "</table>\n",
              "<p>11 rows × 21 columns</p>\n",
              "</div>\n",
              "      <button class=\"colab-df-convert\" onclick=\"convertToInteractive('df-8fa9a2a6-a700-4594-8a3e-efd03a660de3')\"\n",
              "              title=\"Convert this dataframe to an interactive table.\"\n",
              "              style=\"display:none;\">\n",
              "        \n",
              "  <svg xmlns=\"http://www.w3.org/2000/svg\" height=\"24px\"viewBox=\"0 0 24 24\"\n",
              "       width=\"24px\">\n",
              "    <path d=\"M0 0h24v24H0V0z\" fill=\"none\"/>\n",
              "    <path d=\"M18.56 5.44l.94 2.06.94-2.06 2.06-.94-2.06-.94-.94-2.06-.94 2.06-2.06.94zm-11 1L8.5 8.5l.94-2.06 2.06-.94-2.06-.94L8.5 2.5l-.94 2.06-2.06.94zm10 10l.94 2.06.94-2.06 2.06-.94-2.06-.94-.94-2.06-.94 2.06-2.06.94z\"/><path d=\"M17.41 7.96l-1.37-1.37c-.4-.4-.92-.59-1.43-.59-.52 0-1.04.2-1.43.59L10.3 9.45l-7.72 7.72c-.78.78-.78 2.05 0 2.83L4 21.41c.39.39.9.59 1.41.59.51 0 1.02-.2 1.41-.59l7.78-7.78 2.81-2.81c.8-.78.8-2.07 0-2.86zM5.41 20L4 18.59l7.72-7.72 1.47 1.35L5.41 20z\"/>\n",
              "  </svg>\n",
              "      </button>\n",
              "      \n",
              "  <style>\n",
              "    .colab-df-container {\n",
              "      display:flex;\n",
              "      flex-wrap:wrap;\n",
              "      gap: 12px;\n",
              "    }\n",
              "\n",
              "    .colab-df-convert {\n",
              "      background-color: #E8F0FE;\n",
              "      border: none;\n",
              "      border-radius: 50%;\n",
              "      cursor: pointer;\n",
              "      display: none;\n",
              "      fill: #1967D2;\n",
              "      height: 32px;\n",
              "      padding: 0 0 0 0;\n",
              "      width: 32px;\n",
              "    }\n",
              "\n",
              "    .colab-df-convert:hover {\n",
              "      background-color: #E2EBFA;\n",
              "      box-shadow: 0px 1px 2px rgba(60, 64, 67, 0.3), 0px 1px 3px 1px rgba(60, 64, 67, 0.15);\n",
              "      fill: #174EA6;\n",
              "    }\n",
              "\n",
              "    [theme=dark] .colab-df-convert {\n",
              "      background-color: #3B4455;\n",
              "      fill: #D2E3FC;\n",
              "    }\n",
              "\n",
              "    [theme=dark] .colab-df-convert:hover {\n",
              "      background-color: #434B5C;\n",
              "      box-shadow: 0px 1px 3px 1px rgba(0, 0, 0, 0.15);\n",
              "      filter: drop-shadow(0px 1px 2px rgba(0, 0, 0, 0.3));\n",
              "      fill: #FFFFFF;\n",
              "    }\n",
              "  </style>\n",
              "\n",
              "      <script>\n",
              "        const buttonEl =\n",
              "          document.querySelector('#df-8fa9a2a6-a700-4594-8a3e-efd03a660de3 button.colab-df-convert');\n",
              "        buttonEl.style.display =\n",
              "          google.colab.kernel.accessAllowed ? 'block' : 'none';\n",
              "\n",
              "        async function convertToInteractive(key) {\n",
              "          const element = document.querySelector('#df-8fa9a2a6-a700-4594-8a3e-efd03a660de3');\n",
              "          const dataTable =\n",
              "            await google.colab.kernel.invokeFunction('convertToInteractive',\n",
              "                                                     [key], {});\n",
              "          if (!dataTable) return;\n",
              "\n",
              "          const docLinkHtml = 'Like what you see? Visit the ' +\n",
              "            '<a target=\"_blank\" href=https://colab.research.google.com/notebooks/data_table.ipynb>data table notebook</a>'\n",
              "            + ' to learn more about interactive tables.';\n",
              "          element.innerHTML = '';\n",
              "          dataTable['output_type'] = 'display_data';\n",
              "          await google.colab.output.renderOutput(dataTable, element);\n",
              "          const docLink = document.createElement('div');\n",
              "          docLink.innerHTML = docLinkHtml;\n",
              "          element.appendChild(docLink);\n",
              "        }\n",
              "      </script>\n",
              "    </div>\n",
              "  </div>\n",
              "  "
            ]
          },
          "metadata": {},
          "execution_count": 54
        }
      ]
    },
    {
      "cell_type": "code",
      "source": [
        "df.loc[(df.customerID == '4472-LVYGI'),'TotalCharges']= ' '"
      ],
      "metadata": {
        "id": "51jNxyTYx0s0"
      },
      "execution_count": 55,
      "outputs": []
    },
    {
      "cell_type": "code",
      "source": [
        "df['TotalCharges']=df['TotalCharges'].replace(' ','0')"
      ],
      "metadata": {
        "id": "Jq5JcomP46l2"
      },
      "execution_count": 56,
      "outputs": []
    },
    {
      "cell_type": "code",
      "source": [
        "df[df['TotalCharges']==' ']\n"
      ],
      "metadata": {
        "colab": {
          "base_uri": "https://localhost:8080/",
          "height": 143
        },
        "id": "5wuiu31n0n74",
        "outputId": "381b9afe-f291-4c43-a072-adf08569c0bb"
      },
      "execution_count": 57,
      "outputs": [
        {
          "output_type": "execute_result",
          "data": {
            "text/plain": [
              "Empty DataFrame\n",
              "Columns: [customerID, gender, SeniorCitizen, Partner, Dependents, tenure, PhoneService, MultipleLines, InternetService, OnlineSecurity, OnlineBackup, DeviceProtection, TechSupport, StreamingTV, StreamingMovies, Contract, PaperlessBilling, PaymentMethod, MonthlyCharges, TotalCharges, Churn]\n",
              "Index: []\n",
              "\n",
              "[0 rows x 21 columns]"
            ],
            "text/html": [
              "\n",
              "  <div id=\"df-5625d52e-4803-439b-a7b6-8d3b14824fb2\">\n",
              "    <div class=\"colab-df-container\">\n",
              "      <div>\n",
              "<style scoped>\n",
              "    .dataframe tbody tr th:only-of-type {\n",
              "        vertical-align: middle;\n",
              "    }\n",
              "\n",
              "    .dataframe tbody tr th {\n",
              "        vertical-align: top;\n",
              "    }\n",
              "\n",
              "    .dataframe thead th {\n",
              "        text-align: right;\n",
              "    }\n",
              "</style>\n",
              "<table border=\"1\" class=\"dataframe\">\n",
              "  <thead>\n",
              "    <tr style=\"text-align: right;\">\n",
              "      <th></th>\n",
              "      <th>customerID</th>\n",
              "      <th>gender</th>\n",
              "      <th>SeniorCitizen</th>\n",
              "      <th>Partner</th>\n",
              "      <th>Dependents</th>\n",
              "      <th>tenure</th>\n",
              "      <th>PhoneService</th>\n",
              "      <th>MultipleLines</th>\n",
              "      <th>InternetService</th>\n",
              "      <th>OnlineSecurity</th>\n",
              "      <th>...</th>\n",
              "      <th>DeviceProtection</th>\n",
              "      <th>TechSupport</th>\n",
              "      <th>StreamingTV</th>\n",
              "      <th>StreamingMovies</th>\n",
              "      <th>Contract</th>\n",
              "      <th>PaperlessBilling</th>\n",
              "      <th>PaymentMethod</th>\n",
              "      <th>MonthlyCharges</th>\n",
              "      <th>TotalCharges</th>\n",
              "      <th>Churn</th>\n",
              "    </tr>\n",
              "  </thead>\n",
              "  <tbody>\n",
              "  </tbody>\n",
              "</table>\n",
              "<p>0 rows × 21 columns</p>\n",
              "</div>\n",
              "      <button class=\"colab-df-convert\" onclick=\"convertToInteractive('df-5625d52e-4803-439b-a7b6-8d3b14824fb2')\"\n",
              "              title=\"Convert this dataframe to an interactive table.\"\n",
              "              style=\"display:none;\">\n",
              "        \n",
              "  <svg xmlns=\"http://www.w3.org/2000/svg\" height=\"24px\"viewBox=\"0 0 24 24\"\n",
              "       width=\"24px\">\n",
              "    <path d=\"M0 0h24v24H0V0z\" fill=\"none\"/>\n",
              "    <path d=\"M18.56 5.44l.94 2.06.94-2.06 2.06-.94-2.06-.94-.94-2.06-.94 2.06-2.06.94zm-11 1L8.5 8.5l.94-2.06 2.06-.94-2.06-.94L8.5 2.5l-.94 2.06-2.06.94zm10 10l.94 2.06.94-2.06 2.06-.94-2.06-.94-.94-2.06-.94 2.06-2.06.94z\"/><path d=\"M17.41 7.96l-1.37-1.37c-.4-.4-.92-.59-1.43-.59-.52 0-1.04.2-1.43.59L10.3 9.45l-7.72 7.72c-.78.78-.78 2.05 0 2.83L4 21.41c.39.39.9.59 1.41.59.51 0 1.02-.2 1.41-.59l7.78-7.78 2.81-2.81c.8-.78.8-2.07 0-2.86zM5.41 20L4 18.59l7.72-7.72 1.47 1.35L5.41 20z\"/>\n",
              "  </svg>\n",
              "      </button>\n",
              "      \n",
              "  <style>\n",
              "    .colab-df-container {\n",
              "      display:flex;\n",
              "      flex-wrap:wrap;\n",
              "      gap: 12px;\n",
              "    }\n",
              "\n",
              "    .colab-df-convert {\n",
              "      background-color: #E8F0FE;\n",
              "      border: none;\n",
              "      border-radius: 50%;\n",
              "      cursor: pointer;\n",
              "      display: none;\n",
              "      fill: #1967D2;\n",
              "      height: 32px;\n",
              "      padding: 0 0 0 0;\n",
              "      width: 32px;\n",
              "    }\n",
              "\n",
              "    .colab-df-convert:hover {\n",
              "      background-color: #E2EBFA;\n",
              "      box-shadow: 0px 1px 2px rgba(60, 64, 67, 0.3), 0px 1px 3px 1px rgba(60, 64, 67, 0.15);\n",
              "      fill: #174EA6;\n",
              "    }\n",
              "\n",
              "    [theme=dark] .colab-df-convert {\n",
              "      background-color: #3B4455;\n",
              "      fill: #D2E3FC;\n",
              "    }\n",
              "\n",
              "    [theme=dark] .colab-df-convert:hover {\n",
              "      background-color: #434B5C;\n",
              "      box-shadow: 0px 1px 3px 1px rgba(0, 0, 0, 0.15);\n",
              "      filter: drop-shadow(0px 1px 2px rgba(0, 0, 0, 0.3));\n",
              "      fill: #FFFFFF;\n",
              "    }\n",
              "  </style>\n",
              "\n",
              "      <script>\n",
              "        const buttonEl =\n",
              "          document.querySelector('#df-5625d52e-4803-439b-a7b6-8d3b14824fb2 button.colab-df-convert');\n",
              "        buttonEl.style.display =\n",
              "          google.colab.kernel.accessAllowed ? 'block' : 'none';\n",
              "\n",
              "        async function convertToInteractive(key) {\n",
              "          const element = document.querySelector('#df-5625d52e-4803-439b-a7b6-8d3b14824fb2');\n",
              "          const dataTable =\n",
              "            await google.colab.kernel.invokeFunction('convertToInteractive',\n",
              "                                                     [key], {});\n",
              "          if (!dataTable) return;\n",
              "\n",
              "          const docLinkHtml = 'Like what you see? Visit the ' +\n",
              "            '<a target=\"_blank\" href=https://colab.research.google.com/notebooks/data_table.ipynb>data table notebook</a>'\n",
              "            + ' to learn more about interactive tables.';\n",
              "          element.innerHTML = '';\n",
              "          dataTable['output_type'] = 'display_data';\n",
              "          await google.colab.output.renderOutput(dataTable, element);\n",
              "          const docLink = document.createElement('div');\n",
              "          docLink.innerHTML = docLinkHtml;\n",
              "          element.appendChild(docLink);\n",
              "        }\n",
              "      </script>\n",
              "    </div>\n",
              "  </div>\n",
              "  "
            ]
          },
          "metadata": {},
          "execution_count": 57
        }
      ]
    },
    {
      "cell_type": "code",
      "source": [
        "df['TotalCharges'] = df['TotalCharges'].astype('float')"
      ],
      "metadata": {
        "id": "dMAnwduD0rCq"
      },
      "execution_count": 58,
      "outputs": []
    },
    {
      "cell_type": "code",
      "source": [
        "df['TotalCharges'].value_counts(sort =True)"
      ],
      "metadata": {
        "colab": {
          "base_uri": "https://localhost:8080/"
        },
        "id": "Fq5Jbtj-03o-",
        "outputId": "569e7bab-e07a-4167-de1a-6868441aaece"
      },
      "execution_count": 59,
      "outputs": [
        {
          "output_type": "execute_result",
          "data": {
            "text/plain": [
              "0.00       11\n",
              "20.20      11\n",
              "19.75       9\n",
              "20.05       8\n",
              "19.90       8\n",
              "           ..\n",
              "6849.40     1\n",
              "692.35      1\n",
              "130.15      1\n",
              "3211.90     1\n",
              "6844.50     1\n",
              "Name: TotalCharges, Length: 6531, dtype: int64"
            ]
          },
          "metadata": {},
          "execution_count": 59
        }
      ]
    },
    {
      "cell_type": "code",
      "source": [
        "df.sort_values('TotalCharges')"
      ],
      "metadata": {
        "colab": {
          "base_uri": "https://localhost:8080/",
          "height": 661
        },
        "id": "2eRQlZTs1IV4",
        "outputId": "1371c1d4-a910-4146-f45b-adaf637a8132"
      },
      "execution_count": 60,
      "outputs": [
        {
          "output_type": "execute_result",
          "data": {
            "text/plain": [
              "      customerID  gender SeniorCitizen Partner Dependents  tenure  \\\n",
              "3826  3213-VVOLG    Male             0     Yes        Yes       0   \n",
              "5218  2923-ARZLG    Male             0     Yes        Yes       0   \n",
              "4380  2520-SGTTA  Female             0     Yes        Yes       0   \n",
              "753   3115-CZMZD    Male             0      No        Yes       0   \n",
              "488   4472-LVYGI  Female             0     Yes        Yes       0   \n",
              "...          ...     ...           ...     ...        ...     ...   \n",
              "2187  8879-XUAHX    Male             0     Yes         No      71   \n",
              "5347  9788-HNGUT    Male             0     Yes         No      72   \n",
              "6768  9739-JLPQJ  Female             0     Yes        Yes      72   \n",
              "4586  7569-NMZYQ  Female             0     Yes        Yes      72   \n",
              "4610  2889-FPWRM    Male             0     Yes         No      72   \n",
              "\n",
              "     PhoneService MultipleLines InternetService OnlineSecurity  ...  \\\n",
              "3826          Yes           Yes              No             No  ...   \n",
              "5218          Yes            No              No             No  ...   \n",
              "4380          Yes            No              No             No  ...   \n",
              "753           Yes            No              No             No  ...   \n",
              "488            No            No             DSL            Yes  ...   \n",
              "...           ...           ...             ...            ...  ...   \n",
              "2187          Yes           Yes     Fiber optic            Yes  ...   \n",
              "5347          Yes           Yes     Fiber optic            Yes  ...   \n",
              "6768          Yes           Yes     Fiber optic            Yes  ...   \n",
              "4586          Yes           Yes     Fiber optic            Yes  ...   \n",
              "4610          Yes           Yes     Fiber optic            Yes  ...   \n",
              "\n",
              "     DeviceProtection TechSupport StreamingTV StreamingMovies  Contract  \\\n",
              "3826               No          No          No              No  Two year   \n",
              "5218               No          No          No              No  One year   \n",
              "4380               No          No          No              No  Two year   \n",
              "753                No          No          No              No  Two year   \n",
              "488               Yes         Yes         Yes              No  Two year   \n",
              "...               ...         ...         ...             ...       ...   \n",
              "2187              Yes         Yes         Yes             Yes  Two year   \n",
              "5347              Yes         Yes         Yes             Yes  Two year   \n",
              "6768              Yes         Yes         Yes             Yes  Two year   \n",
              "4586              Yes         Yes         Yes             Yes  Two year   \n",
              "4610              Yes         Yes         Yes             Yes  One year   \n",
              "\n",
              "     PaperlessBilling              PaymentMethod MonthlyCharges  TotalCharges  \\\n",
              "3826               No               Mailed check          25.35          0.00   \n",
              "5218              Yes               Mailed check          19.70          0.00   \n",
              "4380               No               Mailed check          20.00          0.00   \n",
              "753                No               Mailed check          20.25          0.00   \n",
              "488               Yes  Bank transfer (automatic)          52.55          0.00   \n",
              "...               ...                        ...            ...           ...   \n",
              "2187              Yes           Electronic check         116.25       8564.75   \n",
              "5347              Yes    Credit card (automatic)         116.95       8594.40   \n",
              "6768               No    Credit card (automatic)         117.50       8670.10   \n",
              "4586              Yes  Bank transfer (automatic)         118.75       8672.45   \n",
              "4610              Yes  Bank transfer (automatic)         117.80       8684.80   \n",
              "\n",
              "      Churn  \n",
              "3826     No  \n",
              "5218     No  \n",
              "4380     No  \n",
              "753      No  \n",
              "488      No  \n",
              "...     ...  \n",
              "2187     No  \n",
              "5347     No  \n",
              "6768     No  \n",
              "4586     No  \n",
              "4610    Yes  \n",
              "\n",
              "[7043 rows x 21 columns]"
            ],
            "text/html": [
              "\n",
              "  <div id=\"df-3fab2fd1-f6f3-4169-8967-9980ce498683\">\n",
              "    <div class=\"colab-df-container\">\n",
              "      <div>\n",
              "<style scoped>\n",
              "    .dataframe tbody tr th:only-of-type {\n",
              "        vertical-align: middle;\n",
              "    }\n",
              "\n",
              "    .dataframe tbody tr th {\n",
              "        vertical-align: top;\n",
              "    }\n",
              "\n",
              "    .dataframe thead th {\n",
              "        text-align: right;\n",
              "    }\n",
              "</style>\n",
              "<table border=\"1\" class=\"dataframe\">\n",
              "  <thead>\n",
              "    <tr style=\"text-align: right;\">\n",
              "      <th></th>\n",
              "      <th>customerID</th>\n",
              "      <th>gender</th>\n",
              "      <th>SeniorCitizen</th>\n",
              "      <th>Partner</th>\n",
              "      <th>Dependents</th>\n",
              "      <th>tenure</th>\n",
              "      <th>PhoneService</th>\n",
              "      <th>MultipleLines</th>\n",
              "      <th>InternetService</th>\n",
              "      <th>OnlineSecurity</th>\n",
              "      <th>...</th>\n",
              "      <th>DeviceProtection</th>\n",
              "      <th>TechSupport</th>\n",
              "      <th>StreamingTV</th>\n",
              "      <th>StreamingMovies</th>\n",
              "      <th>Contract</th>\n",
              "      <th>PaperlessBilling</th>\n",
              "      <th>PaymentMethod</th>\n",
              "      <th>MonthlyCharges</th>\n",
              "      <th>TotalCharges</th>\n",
              "      <th>Churn</th>\n",
              "    </tr>\n",
              "  </thead>\n",
              "  <tbody>\n",
              "    <tr>\n",
              "      <th>3826</th>\n",
              "      <td>3213-VVOLG</td>\n",
              "      <td>Male</td>\n",
              "      <td>0</td>\n",
              "      <td>Yes</td>\n",
              "      <td>Yes</td>\n",
              "      <td>0</td>\n",
              "      <td>Yes</td>\n",
              "      <td>Yes</td>\n",
              "      <td>No</td>\n",
              "      <td>No</td>\n",
              "      <td>...</td>\n",
              "      <td>No</td>\n",
              "      <td>No</td>\n",
              "      <td>No</td>\n",
              "      <td>No</td>\n",
              "      <td>Two year</td>\n",
              "      <td>No</td>\n",
              "      <td>Mailed check</td>\n",
              "      <td>25.35</td>\n",
              "      <td>0.00</td>\n",
              "      <td>No</td>\n",
              "    </tr>\n",
              "    <tr>\n",
              "      <th>5218</th>\n",
              "      <td>2923-ARZLG</td>\n",
              "      <td>Male</td>\n",
              "      <td>0</td>\n",
              "      <td>Yes</td>\n",
              "      <td>Yes</td>\n",
              "      <td>0</td>\n",
              "      <td>Yes</td>\n",
              "      <td>No</td>\n",
              "      <td>No</td>\n",
              "      <td>No</td>\n",
              "      <td>...</td>\n",
              "      <td>No</td>\n",
              "      <td>No</td>\n",
              "      <td>No</td>\n",
              "      <td>No</td>\n",
              "      <td>One year</td>\n",
              "      <td>Yes</td>\n",
              "      <td>Mailed check</td>\n",
              "      <td>19.70</td>\n",
              "      <td>0.00</td>\n",
              "      <td>No</td>\n",
              "    </tr>\n",
              "    <tr>\n",
              "      <th>4380</th>\n",
              "      <td>2520-SGTTA</td>\n",
              "      <td>Female</td>\n",
              "      <td>0</td>\n",
              "      <td>Yes</td>\n",
              "      <td>Yes</td>\n",
              "      <td>0</td>\n",
              "      <td>Yes</td>\n",
              "      <td>No</td>\n",
              "      <td>No</td>\n",
              "      <td>No</td>\n",
              "      <td>...</td>\n",
              "      <td>No</td>\n",
              "      <td>No</td>\n",
              "      <td>No</td>\n",
              "      <td>No</td>\n",
              "      <td>Two year</td>\n",
              "      <td>No</td>\n",
              "      <td>Mailed check</td>\n",
              "      <td>20.00</td>\n",
              "      <td>0.00</td>\n",
              "      <td>No</td>\n",
              "    </tr>\n",
              "    <tr>\n",
              "      <th>753</th>\n",
              "      <td>3115-CZMZD</td>\n",
              "      <td>Male</td>\n",
              "      <td>0</td>\n",
              "      <td>No</td>\n",
              "      <td>Yes</td>\n",
              "      <td>0</td>\n",
              "      <td>Yes</td>\n",
              "      <td>No</td>\n",
              "      <td>No</td>\n",
              "      <td>No</td>\n",
              "      <td>...</td>\n",
              "      <td>No</td>\n",
              "      <td>No</td>\n",
              "      <td>No</td>\n",
              "      <td>No</td>\n",
              "      <td>Two year</td>\n",
              "      <td>No</td>\n",
              "      <td>Mailed check</td>\n",
              "      <td>20.25</td>\n",
              "      <td>0.00</td>\n",
              "      <td>No</td>\n",
              "    </tr>\n",
              "    <tr>\n",
              "      <th>488</th>\n",
              "      <td>4472-LVYGI</td>\n",
              "      <td>Female</td>\n",
              "      <td>0</td>\n",
              "      <td>Yes</td>\n",
              "      <td>Yes</td>\n",
              "      <td>0</td>\n",
              "      <td>No</td>\n",
              "      <td>No</td>\n",
              "      <td>DSL</td>\n",
              "      <td>Yes</td>\n",
              "      <td>...</td>\n",
              "      <td>Yes</td>\n",
              "      <td>Yes</td>\n",
              "      <td>Yes</td>\n",
              "      <td>No</td>\n",
              "      <td>Two year</td>\n",
              "      <td>Yes</td>\n",
              "      <td>Bank transfer (automatic)</td>\n",
              "      <td>52.55</td>\n",
              "      <td>0.00</td>\n",
              "      <td>No</td>\n",
              "    </tr>\n",
              "    <tr>\n",
              "      <th>...</th>\n",
              "      <td>...</td>\n",
              "      <td>...</td>\n",
              "      <td>...</td>\n",
              "      <td>...</td>\n",
              "      <td>...</td>\n",
              "      <td>...</td>\n",
              "      <td>...</td>\n",
              "      <td>...</td>\n",
              "      <td>...</td>\n",
              "      <td>...</td>\n",
              "      <td>...</td>\n",
              "      <td>...</td>\n",
              "      <td>...</td>\n",
              "      <td>...</td>\n",
              "      <td>...</td>\n",
              "      <td>...</td>\n",
              "      <td>...</td>\n",
              "      <td>...</td>\n",
              "      <td>...</td>\n",
              "      <td>...</td>\n",
              "      <td>...</td>\n",
              "    </tr>\n",
              "    <tr>\n",
              "      <th>2187</th>\n",
              "      <td>8879-XUAHX</td>\n",
              "      <td>Male</td>\n",
              "      <td>0</td>\n",
              "      <td>Yes</td>\n",
              "      <td>No</td>\n",
              "      <td>71</td>\n",
              "      <td>Yes</td>\n",
              "      <td>Yes</td>\n",
              "      <td>Fiber optic</td>\n",
              "      <td>Yes</td>\n",
              "      <td>...</td>\n",
              "      <td>Yes</td>\n",
              "      <td>Yes</td>\n",
              "      <td>Yes</td>\n",
              "      <td>Yes</td>\n",
              "      <td>Two year</td>\n",
              "      <td>Yes</td>\n",
              "      <td>Electronic check</td>\n",
              "      <td>116.25</td>\n",
              "      <td>8564.75</td>\n",
              "      <td>No</td>\n",
              "    </tr>\n",
              "    <tr>\n",
              "      <th>5347</th>\n",
              "      <td>9788-HNGUT</td>\n",
              "      <td>Male</td>\n",
              "      <td>0</td>\n",
              "      <td>Yes</td>\n",
              "      <td>No</td>\n",
              "      <td>72</td>\n",
              "      <td>Yes</td>\n",
              "      <td>Yes</td>\n",
              "      <td>Fiber optic</td>\n",
              "      <td>Yes</td>\n",
              "      <td>...</td>\n",
              "      <td>Yes</td>\n",
              "      <td>Yes</td>\n",
              "      <td>Yes</td>\n",
              "      <td>Yes</td>\n",
              "      <td>Two year</td>\n",
              "      <td>Yes</td>\n",
              "      <td>Credit card (automatic)</td>\n",
              "      <td>116.95</td>\n",
              "      <td>8594.40</td>\n",
              "      <td>No</td>\n",
              "    </tr>\n",
              "    <tr>\n",
              "      <th>6768</th>\n",
              "      <td>9739-JLPQJ</td>\n",
              "      <td>Female</td>\n",
              "      <td>0</td>\n",
              "      <td>Yes</td>\n",
              "      <td>Yes</td>\n",
              "      <td>72</td>\n",
              "      <td>Yes</td>\n",
              "      <td>Yes</td>\n",
              "      <td>Fiber optic</td>\n",
              "      <td>Yes</td>\n",
              "      <td>...</td>\n",
              "      <td>Yes</td>\n",
              "      <td>Yes</td>\n",
              "      <td>Yes</td>\n",
              "      <td>Yes</td>\n",
              "      <td>Two year</td>\n",
              "      <td>No</td>\n",
              "      <td>Credit card (automatic)</td>\n",
              "      <td>117.50</td>\n",
              "      <td>8670.10</td>\n",
              "      <td>No</td>\n",
              "    </tr>\n",
              "    <tr>\n",
              "      <th>4586</th>\n",
              "      <td>7569-NMZYQ</td>\n",
              "      <td>Female</td>\n",
              "      <td>0</td>\n",
              "      <td>Yes</td>\n",
              "      <td>Yes</td>\n",
              "      <td>72</td>\n",
              "      <td>Yes</td>\n",
              "      <td>Yes</td>\n",
              "      <td>Fiber optic</td>\n",
              "      <td>Yes</td>\n",
              "      <td>...</td>\n",
              "      <td>Yes</td>\n",
              "      <td>Yes</td>\n",
              "      <td>Yes</td>\n",
              "      <td>Yes</td>\n",
              "      <td>Two year</td>\n",
              "      <td>Yes</td>\n",
              "      <td>Bank transfer (automatic)</td>\n",
              "      <td>118.75</td>\n",
              "      <td>8672.45</td>\n",
              "      <td>No</td>\n",
              "    </tr>\n",
              "    <tr>\n",
              "      <th>4610</th>\n",
              "      <td>2889-FPWRM</td>\n",
              "      <td>Male</td>\n",
              "      <td>0</td>\n",
              "      <td>Yes</td>\n",
              "      <td>No</td>\n",
              "      <td>72</td>\n",
              "      <td>Yes</td>\n",
              "      <td>Yes</td>\n",
              "      <td>Fiber optic</td>\n",
              "      <td>Yes</td>\n",
              "      <td>...</td>\n",
              "      <td>Yes</td>\n",
              "      <td>Yes</td>\n",
              "      <td>Yes</td>\n",
              "      <td>Yes</td>\n",
              "      <td>One year</td>\n",
              "      <td>Yes</td>\n",
              "      <td>Bank transfer (automatic)</td>\n",
              "      <td>117.80</td>\n",
              "      <td>8684.80</td>\n",
              "      <td>Yes</td>\n",
              "    </tr>\n",
              "  </tbody>\n",
              "</table>\n",
              "<p>7043 rows × 21 columns</p>\n",
              "</div>\n",
              "      <button class=\"colab-df-convert\" onclick=\"convertToInteractive('df-3fab2fd1-f6f3-4169-8967-9980ce498683')\"\n",
              "              title=\"Convert this dataframe to an interactive table.\"\n",
              "              style=\"display:none;\">\n",
              "        \n",
              "  <svg xmlns=\"http://www.w3.org/2000/svg\" height=\"24px\"viewBox=\"0 0 24 24\"\n",
              "       width=\"24px\">\n",
              "    <path d=\"M0 0h24v24H0V0z\" fill=\"none\"/>\n",
              "    <path d=\"M18.56 5.44l.94 2.06.94-2.06 2.06-.94-2.06-.94-.94-2.06-.94 2.06-2.06.94zm-11 1L8.5 8.5l.94-2.06 2.06-.94-2.06-.94L8.5 2.5l-.94 2.06-2.06.94zm10 10l.94 2.06.94-2.06 2.06-.94-2.06-.94-.94-2.06-.94 2.06-2.06.94z\"/><path d=\"M17.41 7.96l-1.37-1.37c-.4-.4-.92-.59-1.43-.59-.52 0-1.04.2-1.43.59L10.3 9.45l-7.72 7.72c-.78.78-.78 2.05 0 2.83L4 21.41c.39.39.9.59 1.41.59.51 0 1.02-.2 1.41-.59l7.78-7.78 2.81-2.81c.8-.78.8-2.07 0-2.86zM5.41 20L4 18.59l7.72-7.72 1.47 1.35L5.41 20z\"/>\n",
              "  </svg>\n",
              "      </button>\n",
              "      \n",
              "  <style>\n",
              "    .colab-df-container {\n",
              "      display:flex;\n",
              "      flex-wrap:wrap;\n",
              "      gap: 12px;\n",
              "    }\n",
              "\n",
              "    .colab-df-convert {\n",
              "      background-color: #E8F0FE;\n",
              "      border: none;\n",
              "      border-radius: 50%;\n",
              "      cursor: pointer;\n",
              "      display: none;\n",
              "      fill: #1967D2;\n",
              "      height: 32px;\n",
              "      padding: 0 0 0 0;\n",
              "      width: 32px;\n",
              "    }\n",
              "\n",
              "    .colab-df-convert:hover {\n",
              "      background-color: #E2EBFA;\n",
              "      box-shadow: 0px 1px 2px rgba(60, 64, 67, 0.3), 0px 1px 3px 1px rgba(60, 64, 67, 0.15);\n",
              "      fill: #174EA6;\n",
              "    }\n",
              "\n",
              "    [theme=dark] .colab-df-convert {\n",
              "      background-color: #3B4455;\n",
              "      fill: #D2E3FC;\n",
              "    }\n",
              "\n",
              "    [theme=dark] .colab-df-convert:hover {\n",
              "      background-color: #434B5C;\n",
              "      box-shadow: 0px 1px 3px 1px rgba(0, 0, 0, 0.15);\n",
              "      filter: drop-shadow(0px 1px 2px rgba(0, 0, 0, 0.3));\n",
              "      fill: #FFFFFF;\n",
              "    }\n",
              "  </style>\n",
              "\n",
              "      <script>\n",
              "        const buttonEl =\n",
              "          document.querySelector('#df-3fab2fd1-f6f3-4169-8967-9980ce498683 button.colab-df-convert');\n",
              "        buttonEl.style.display =\n",
              "          google.colab.kernel.accessAllowed ? 'block' : 'none';\n",
              "\n",
              "        async function convertToInteractive(key) {\n",
              "          const element = document.querySelector('#df-3fab2fd1-f6f3-4169-8967-9980ce498683');\n",
              "          const dataTable =\n",
              "            await google.colab.kernel.invokeFunction('convertToInteractive',\n",
              "                                                     [key], {});\n",
              "          if (!dataTable) return;\n",
              "\n",
              "          const docLinkHtml = 'Like what you see? Visit the ' +\n",
              "            '<a target=\"_blank\" href=https://colab.research.google.com/notebooks/data_table.ipynb>data table notebook</a>'\n",
              "            + ' to learn more about interactive tables.';\n",
              "          element.innerHTML = '';\n",
              "          dataTable['output_type'] = 'display_data';\n",
              "          await google.colab.output.renderOutput(dataTable, element);\n",
              "          const docLink = document.createElement('div');\n",
              "          docLink.innerHTML = docLinkHtml;\n",
              "          element.appendChild(docLink);\n",
              "        }\n",
              "      </script>\n",
              "    </div>\n",
              "  </div>\n",
              "  "
            ]
          },
          "metadata": {},
          "execution_count": 60
        }
      ]
    },
    {
      "cell_type": "code",
      "source": [
        "df[df['TotalCharges']==8684.80]"
      ],
      "metadata": {
        "colab": {
          "base_uri": "https://localhost:8080/",
          "height": 191
        },
        "id": "Khv3anM01sk9",
        "outputId": "4a8313c7-9fa8-48e5-ffd0-12d2c6e3e7c6"
      },
      "execution_count": 61,
      "outputs": [
        {
          "output_type": "execute_result",
          "data": {
            "text/plain": [
              "      customerID gender SeniorCitizen Partner Dependents  tenure PhoneService  \\\n",
              "4610  2889-FPWRM   Male             0     Yes         No      72          Yes   \n",
              "\n",
              "     MultipleLines InternetService OnlineSecurity  ... DeviceProtection  \\\n",
              "4610           Yes     Fiber optic            Yes  ...              Yes   \n",
              "\n",
              "     TechSupport StreamingTV StreamingMovies  Contract PaperlessBilling  \\\n",
              "4610         Yes         Yes             Yes  One year              Yes   \n",
              "\n",
              "                  PaymentMethod MonthlyCharges  TotalCharges  Churn  \n",
              "4610  Bank transfer (automatic)          117.8        8684.8    Yes  \n",
              "\n",
              "[1 rows x 21 columns]"
            ],
            "text/html": [
              "\n",
              "  <div id=\"df-3a868a8b-009b-4a59-b6a4-1d3799f9cd63\">\n",
              "    <div class=\"colab-df-container\">\n",
              "      <div>\n",
              "<style scoped>\n",
              "    .dataframe tbody tr th:only-of-type {\n",
              "        vertical-align: middle;\n",
              "    }\n",
              "\n",
              "    .dataframe tbody tr th {\n",
              "        vertical-align: top;\n",
              "    }\n",
              "\n",
              "    .dataframe thead th {\n",
              "        text-align: right;\n",
              "    }\n",
              "</style>\n",
              "<table border=\"1\" class=\"dataframe\">\n",
              "  <thead>\n",
              "    <tr style=\"text-align: right;\">\n",
              "      <th></th>\n",
              "      <th>customerID</th>\n",
              "      <th>gender</th>\n",
              "      <th>SeniorCitizen</th>\n",
              "      <th>Partner</th>\n",
              "      <th>Dependents</th>\n",
              "      <th>tenure</th>\n",
              "      <th>PhoneService</th>\n",
              "      <th>MultipleLines</th>\n",
              "      <th>InternetService</th>\n",
              "      <th>OnlineSecurity</th>\n",
              "      <th>...</th>\n",
              "      <th>DeviceProtection</th>\n",
              "      <th>TechSupport</th>\n",
              "      <th>StreamingTV</th>\n",
              "      <th>StreamingMovies</th>\n",
              "      <th>Contract</th>\n",
              "      <th>PaperlessBilling</th>\n",
              "      <th>PaymentMethod</th>\n",
              "      <th>MonthlyCharges</th>\n",
              "      <th>TotalCharges</th>\n",
              "      <th>Churn</th>\n",
              "    </tr>\n",
              "  </thead>\n",
              "  <tbody>\n",
              "    <tr>\n",
              "      <th>4610</th>\n",
              "      <td>2889-FPWRM</td>\n",
              "      <td>Male</td>\n",
              "      <td>0</td>\n",
              "      <td>Yes</td>\n",
              "      <td>No</td>\n",
              "      <td>72</td>\n",
              "      <td>Yes</td>\n",
              "      <td>Yes</td>\n",
              "      <td>Fiber optic</td>\n",
              "      <td>Yes</td>\n",
              "      <td>...</td>\n",
              "      <td>Yes</td>\n",
              "      <td>Yes</td>\n",
              "      <td>Yes</td>\n",
              "      <td>Yes</td>\n",
              "      <td>One year</td>\n",
              "      <td>Yes</td>\n",
              "      <td>Bank transfer (automatic)</td>\n",
              "      <td>117.8</td>\n",
              "      <td>8684.8</td>\n",
              "      <td>Yes</td>\n",
              "    </tr>\n",
              "  </tbody>\n",
              "</table>\n",
              "<p>1 rows × 21 columns</p>\n",
              "</div>\n",
              "      <button class=\"colab-df-convert\" onclick=\"convertToInteractive('df-3a868a8b-009b-4a59-b6a4-1d3799f9cd63')\"\n",
              "              title=\"Convert this dataframe to an interactive table.\"\n",
              "              style=\"display:none;\">\n",
              "        \n",
              "  <svg xmlns=\"http://www.w3.org/2000/svg\" height=\"24px\"viewBox=\"0 0 24 24\"\n",
              "       width=\"24px\">\n",
              "    <path d=\"M0 0h24v24H0V0z\" fill=\"none\"/>\n",
              "    <path d=\"M18.56 5.44l.94 2.06.94-2.06 2.06-.94-2.06-.94-.94-2.06-.94 2.06-2.06.94zm-11 1L8.5 8.5l.94-2.06 2.06-.94-2.06-.94L8.5 2.5l-.94 2.06-2.06.94zm10 10l.94 2.06.94-2.06 2.06-.94-2.06-.94-.94-2.06-.94 2.06-2.06.94z\"/><path d=\"M17.41 7.96l-1.37-1.37c-.4-.4-.92-.59-1.43-.59-.52 0-1.04.2-1.43.59L10.3 9.45l-7.72 7.72c-.78.78-.78 2.05 0 2.83L4 21.41c.39.39.9.59 1.41.59.51 0 1.02-.2 1.41-.59l7.78-7.78 2.81-2.81c.8-.78.8-2.07 0-2.86zM5.41 20L4 18.59l7.72-7.72 1.47 1.35L5.41 20z\"/>\n",
              "  </svg>\n",
              "      </button>\n",
              "      \n",
              "  <style>\n",
              "    .colab-df-container {\n",
              "      display:flex;\n",
              "      flex-wrap:wrap;\n",
              "      gap: 12px;\n",
              "    }\n",
              "\n",
              "    .colab-df-convert {\n",
              "      background-color: #E8F0FE;\n",
              "      border: none;\n",
              "      border-radius: 50%;\n",
              "      cursor: pointer;\n",
              "      display: none;\n",
              "      fill: #1967D2;\n",
              "      height: 32px;\n",
              "      padding: 0 0 0 0;\n",
              "      width: 32px;\n",
              "    }\n",
              "\n",
              "    .colab-df-convert:hover {\n",
              "      background-color: #E2EBFA;\n",
              "      box-shadow: 0px 1px 2px rgba(60, 64, 67, 0.3), 0px 1px 3px 1px rgba(60, 64, 67, 0.15);\n",
              "      fill: #174EA6;\n",
              "    }\n",
              "\n",
              "    [theme=dark] .colab-df-convert {\n",
              "      background-color: #3B4455;\n",
              "      fill: #D2E3FC;\n",
              "    }\n",
              "\n",
              "    [theme=dark] .colab-df-convert:hover {\n",
              "      background-color: #434B5C;\n",
              "      box-shadow: 0px 1px 3px 1px rgba(0, 0, 0, 0.15);\n",
              "      filter: drop-shadow(0px 1px 2px rgba(0, 0, 0, 0.3));\n",
              "      fill: #FFFFFF;\n",
              "    }\n",
              "  </style>\n",
              "\n",
              "      <script>\n",
              "        const buttonEl =\n",
              "          document.querySelector('#df-3a868a8b-009b-4a59-b6a4-1d3799f9cd63 button.colab-df-convert');\n",
              "        buttonEl.style.display =\n",
              "          google.colab.kernel.accessAllowed ? 'block' : 'none';\n",
              "\n",
              "        async function convertToInteractive(key) {\n",
              "          const element = document.querySelector('#df-3a868a8b-009b-4a59-b6a4-1d3799f9cd63');\n",
              "          const dataTable =\n",
              "            await google.colab.kernel.invokeFunction('convertToInteractive',\n",
              "                                                     [key], {});\n",
              "          if (!dataTable) return;\n",
              "\n",
              "          const docLinkHtml = 'Like what you see? Visit the ' +\n",
              "            '<a target=\"_blank\" href=https://colab.research.google.com/notebooks/data_table.ipynb>data table notebook</a>'\n",
              "            + ' to learn more about interactive tables.';\n",
              "          element.innerHTML = '';\n",
              "          dataTable['output_type'] = 'display_data';\n",
              "          await google.colab.output.renderOutput(dataTable, element);\n",
              "          const docLink = document.createElement('div');\n",
              "          docLink.innerHTML = docLinkHtml;\n",
              "          element.appendChild(docLink);\n",
              "        }\n",
              "      </script>\n",
              "    </div>\n",
              "  </div>\n",
              "  "
            ]
          },
          "metadata": {},
          "execution_count": 61
        }
      ]
    },
    {
      "cell_type": "markdown",
      "source": [
        "## Exploratory data analysis"
      ],
      "metadata": {
        "id": "Q8qpHYfBrmRC"
      }
    },
    {
      "cell_type": "code",
      "source": [
        "df['Churn'].value_counts(normalize=True)"
      ],
      "metadata": {
        "colab": {
          "base_uri": "https://localhost:8080/"
        },
        "id": "9Vsew1bXjaCL",
        "outputId": "507b30fb-825e-4450-ad30-0b8176d81919"
      },
      "execution_count": 62,
      "outputs": [
        {
          "output_type": "execute_result",
          "data": {
            "text/plain": [
              "No     0.73463\n",
              "Yes    0.26537\n",
              "Name: Churn, dtype: float64"
            ]
          },
          "metadata": {},
          "execution_count": 62
        }
      ]
    },
    {
      "cell_type": "code",
      "source": [
        "sns.countplot(x='Churn',data =df)"
      ],
      "metadata": {
        "colab": {
          "base_uri": "https://localhost:8080/",
          "height": 296
        },
        "id": "QioM4CKirzUD",
        "outputId": "14c8b3da-fb8a-436b-92b4-3aba66772db4"
      },
      "execution_count": 63,
      "outputs": [
        {
          "output_type": "execute_result",
          "data": {
            "text/plain": [
              "<matplotlib.axes._subplots.AxesSubplot at 0x7f445d954a00>"
            ]
          },
          "metadata": {},
          "execution_count": 63
        },
        {
          "output_type": "display_data",
          "data": {
            "text/plain": [
              "<Figure size 432x288 with 1 Axes>"
            ],
            "image/png": "[encoded data removed]"
          },
          "metadata": {
            "needs_background": "light"
          }
        }
      ]
    },
    {
      "cell_type": "code",
      "source": [
        "df['Churn'].value_counts(normalize=True).plot(kind='pie',shadow=True,autopct='%1.1f%%',explode=[0,0.1])"
      ],
      "metadata": {
        "colab": {
          "base_uri": "https://localhost:8080/",
          "height": 265
        },
        "id": "i8HxZWZusekn",
        "outputId": "20c784dd-61ed-4d85-d0cb-f889681970ab"
      },
      "execution_count": 64,
      "outputs": [
        {
          "output_type": "execute_result",
          "data": {
            "text/plain": [
              "<matplotlib.axes._subplots.AxesSubplot at 0x7f445d409940>"
            ]
          },
          "metadata": {},
          "execution_count": 64
        },
        {
          "output_type": "display_data",
          "data": {
            "text/plain": [
              "<Figure size 432x288 with 1 Axes>"
            ],
            "image/png": "[encoded data removed]"
          },
          "metadata": {}
        }
      ]
    },
    {
      "cell_type": "code",
      "source": [
        "df.info()"
      ],
      "metadata": {
        "colab": {
          "base_uri": "https://localhost:8080/"
        },
        "id": "7v27Rfz4tNfu",
        "outputId": "fe02df2e-b2c4-4bbf-aa0b-3fa28024a895"
      },
      "execution_count": 65,
      "outputs": [
        {
          "output_type": "stream",
          "name": "stdout",
          "text": [
            "<class 'pandas.core.frame.DataFrame'>\n",
            "RangeIndex: 7043 entries, 0 to 7042\n",
            "Data columns (total 21 columns):\n",
            " #   Column            Non-Null Count  Dtype   \n",
            "---  ------            --------------  -----   \n",
            " 0   customerID        7043 non-null   object  \n",
            " 1   gender            7043 non-null   category\n",
            " 2   SeniorCitizen     7043 non-null   category\n",
            " 3   Partner           7043 non-null   category\n",
            " 4   Dependents        7043 non-null   category\n",
            " 5   tenure            7043 non-null   int64   \n",
            " 6   PhoneService      7043 non-null   category\n",
            " 7   MultipleLines     7043 non-null   category\n",
            " 8   InternetService   7043 non-null   category\n",
            " 9   OnlineSecurity    7043 non-null   category\n",
            " 10  OnlineBackup      7043 non-null   category\n",
            " 11  DeviceProtection  7043 non-null   category\n",
            " 12  TechSupport       7043 non-null   category\n",
            " 13  StreamingTV       7043 non-null   category\n",
            " 14  StreamingMovies   7043 non-null   category\n",
            " 15  Contract          7043 non-null   category\n",
            " 16  PaperlessBilling  7043 non-null   category\n",
            " 17  PaymentMethod     7043 non-null   category\n",
            " 18  MonthlyCharges    7043 non-null   float64 \n",
            " 19  TotalCharges      7043 non-null   float64 \n",
            " 20  Churn             7043 non-null   category\n",
            "dtypes: category(17), float64(2), int64(1), object(1)\n",
            "memory usage: 339.3+ KB\n"
          ]
        }
      ]
    },
    {
      "cell_type": "code",
      "source": [
        "sns.catplot(x='tenure' ,y='Churn',data =df ,kind='bar',hue='Churn')"
      ],
      "metadata": {
        "colab": {
          "base_uri": "https://localhost:8080/",
          "height": 386
        },
        "id": "Ys9c8MDgtaHK",
        "outputId": "74aee4ab-84d0-408a-fe5b-5e4bec905309"
      },
      "execution_count": 66,
      "outputs": [
        {
          "output_type": "execute_result",
          "data": {
            "text/plain": [
              "<seaborn.axisgrid.FacetGrid at 0x7f445d365130>"
            ]
          },
          "metadata": {},
          "execution_count": 66
        },
        {
          "output_type": "display_data",
          "data": {
            "text/plain": [
              "<Figure size 412x360 with 1 Axes>"
            ],
            "image/png": "[encoded data removed]"
          },
          "metadata": {
            "needs_background": "light"
          }
        }
      ]
    },
    {
      "cell_type": "code",
      "source": [
        "sns.relplot(x='tenure' ,y='TotalCharges',data =df ,kind='line',hue='Churn',ci=None)"
      ],
      "metadata": {
        "colab": {
          "base_uri": "https://localhost:8080/",
          "height": 386
        },
        "id": "j3xnoWi2tdtt",
        "outputId": "cc0d0392-2930-4b48-c2bc-4e13abb59590"
      },
      "execution_count": 67,
      "outputs": [
        {
          "output_type": "execute_result",
          "data": {
            "text/plain": [
              "<seaborn.axisgrid.FacetGrid at 0x7f445aac58e0>"
            ]
          },
          "metadata": {},
          "execution_count": 67
        },
        {
          "output_type": "display_data",
          "data": {
            "text/plain": [
              "<Figure size 412x360 with 1 Axes>"
            ],
            "image/png": "[encoded data removed]"
          },
          "metadata": {
            "needs_background": "light"
          }
        }
      ]
    },
    {
      "cell_type": "code",
      "source": [
        "sns.relplot(x='tenure' ,y='MonthlyCharges',data =df ,kind='line',hue='Churn',ci=None)"
      ],
      "metadata": {
        "colab": {
          "base_uri": "https://localhost:8080/",
          "height": 386
        },
        "id": "vDg7W0_ZtzTB",
        "outputId": "ae6e2f35-4a71-4928-8570-b86c07b938af"
      },
      "execution_count": 68,
      "outputs": [
        {
          "output_type": "execute_result",
          "data": {
            "text/plain": [
              "<seaborn.axisgrid.FacetGrid at 0x7f445d9a3ac0>"
            ]
          },
          "metadata": {},
          "execution_count": 68
        },
        {
          "output_type": "display_data",
          "data": {
            "text/plain": [
              "<Figure size 412x360 with 1 Axes>"
            ],
            "image/png": "[encoded data removed]"
          },
          "metadata": {
            "needs_background": "light"
          }
        }
      ]
    },
    {
      "cell_type": "code",
      "source": [
        "sns.countplot(x='gender',data =df,hue='Churn')"
      ],
      "metadata": {
        "colab": {
          "base_uri": "https://localhost:8080/",
          "height": 296
        },
        "id": "4CmYPCfst_zt",
        "outputId": "8351fef2-2feb-4462-9b0c-2ca8bbb69c77"
      },
      "execution_count": 69,
      "outputs": [
        {
          "output_type": "execute_result",
          "data": {
            "text/plain": [
              "<matplotlib.axes._subplots.AxesSubplot at 0x7f445a9a0f10>"
            ]
          },
          "metadata": {},
          "execution_count": 69
        },
        {
          "output_type": "display_data",
          "data": {
            "text/plain": [
              "<Figure size 432x288 with 1 Axes>"
            ],
            "image/png": "[encoded data removed]"
          },
          "metadata": {
            "needs_background": "light"
          }
        }
      ]
    },
    {
      "cell_type": "code",
      "source": [
        "sns.countplot(x='Partner',data =df,hue='Churn')"
      ],
      "metadata": {
        "colab": {
          "base_uri": "https://localhost:8080/",
          "height": 296
        },
        "id": "WEGMDMyu_CZu",
        "outputId": "8243f399-bb8e-407d-bed1-48debd8db232"
      },
      "execution_count": 70,
      "outputs": [
        {
          "output_type": "execute_result",
          "data": {
            "text/plain": [
              "<matplotlib.axes._subplots.AxesSubplot at 0x7f445a996a90>"
            ]
          },
          "metadata": {},
          "execution_count": 70
        },
        {
          "output_type": "display_data",
          "data": {
            "text/plain": [
              "<Figure size 432x288 with 1 Axes>"
            ],
            "image/png": "[encoded data removed]"
          },
          "metadata": {
            "needs_background": "light"
          }
        }
      ]
    },
    {
      "cell_type": "code",
      "source": [
        "sns.countplot(x='PaymentMethod',data =df,hue='Churn')"
      ],
      "metadata": {
        "colab": {
          "base_uri": "https://localhost:8080/",
          "height": 296
        },
        "id": "K6-EgyaS_2pp",
        "outputId": "05ce92ce-ab40-411a-9884-8cbe690a85a4"
      },
      "execution_count": 71,
      "outputs": [
        {
          "output_type": "execute_result",
          "data": {
            "text/plain": [
              "<matplotlib.axes._subplots.AxesSubplot at 0x7f445a8e9c70>"
            ]
          },
          "metadata": {},
          "execution_count": 71
        },
        {
          "output_type": "display_data",
          "data": {
            "text/plain": [
              "<Figure size 432x288 with 1 Axes>"
            ],
            "image/png": "[encoded data removed]"
          },
          "metadata": {
            "needs_background": "light"
          }
        }
      ]
    },
    {
      "cell_type": "code",
      "source": [
        "sns.countplot(x='Contract',data =df,hue='Churn')"
      ],
      "metadata": {
        "id": "AhaQO-VRALiE",
        "colab": {
          "base_uri": "https://localhost:8080/",
          "height": 296
        },
        "outputId": "427133c2-cfc0-4429-a0c7-30dbe99e8abb"
      },
      "execution_count": 72,
      "outputs": [
        {
          "output_type": "execute_result",
          "data": {
            "text/plain": [
              "<matplotlib.axes._subplots.AxesSubplot at 0x7f445a8c42b0>"
            ]
          },
          "metadata": {},
          "execution_count": 72
        },
        {
          "output_type": "display_data",
          "data": {
            "text/plain": [
              "<Figure size 432x288 with 1 Axes>"
            ],
            "image/png": "[encoded data removed]"
          },
          "metadata": {
            "needs_background": "light"
          }
        }
      ]
    },
    {
      "cell_type": "code",
      "source": [
        "sns.countplot(x='StreamingTV',data =df,hue='Churn')"
      ],
      "metadata": {
        "colab": {
          "base_uri": "https://localhost:8080/",
          "height": 296
        },
        "id": "7jvGHZuO_j-H",
        "outputId": "d8f5ca24-a735-45d7-f26e-bdb4bfae11b4"
      },
      "execution_count": 73,
      "outputs": [
        {
          "output_type": "execute_result",
          "data": {
            "text/plain": [
              "<matplotlib.axes._subplots.AxesSubplot at 0x7f445a8372b0>"
            ]
          },
          "metadata": {},
          "execution_count": 73
        },
        {
          "output_type": "display_data",
          "data": {
            "text/plain": [
              "<Figure size 432x288 with 1 Axes>"
            ],
            "image/png": "[encoded data removed]"
          },
          "metadata": {
            "needs_background": "light"
          }
        }
      ]
    },
    {
      "cell_type": "code",
      "source": [
        "sns.countplot(x='SeniorCitizen',data =df,hue='Churn')"
      ],
      "metadata": {
        "colab": {
          "base_uri": "https://localhost:8080/",
          "height": 296
        },
        "id": "6vOPgISCuKG3",
        "outputId": "bf2cf6a2-32b1-404f-8905-493eda7985b8"
      },
      "execution_count": 74,
      "outputs": [
        {
          "output_type": "execute_result",
          "data": {
            "text/plain": [
              "<matplotlib.axes._subplots.AxesSubplot at 0x7f445a80fe80>"
            ]
          },
          "metadata": {},
          "execution_count": 74
        },
        {
          "output_type": "display_data",
          "data": {
            "text/plain": [
              "<Figure size 432x288 with 1 Axes>"
            ],
            "image/png": "[encoded data removed]"
          },
          "metadata": {
            "needs_background": "light"
          }
        }
      ]
    },
    {
      "cell_type": "code",
      "source": [
        "(df\n",
        ".groupby(['SeniorCitizen'])['Churn']\n",
        ".value_counts(normalize=True)\n",
        ".mul(100)\n",
        ".rename('percent')\n",
        ")\n"
      ],
      "metadata": {
        "colab": {
          "base_uri": "https://localhost:8080/"
        },
        "id": "qofEsUyswXkN",
        "outputId": "66b496eb-f5e8-4f48-e367-baa0be0fbb67"
      },
      "execution_count": 75,
      "outputs": [
        {
          "output_type": "execute_result",
          "data": {
            "text/plain": [
              "SeniorCitizen     \n",
              "0              No     76.393832\n",
              "               Yes    23.606168\n",
              "1              No     58.318739\n",
              "               Yes    41.681261\n",
              "Name: percent, dtype: float64"
            ]
          },
          "metadata": {},
          "execution_count": 75
        }
      ]
    },
    {
      "cell_type": "code",
      "source": [
        "sns.histplot(x = df['SeniorCitizen'], hue=df['Churn'], multiple=\"dodge\", \n",
        "                   stat=\"percent\", shrink = 0.8)"
      ],
      "metadata": {
        "colab": {
          "base_uri": "https://localhost:8080/",
          "height": 296
        },
        "id": "Q4YcxLRE2k8T",
        "outputId": "49a70b36-0741-4ff3-8b46-d5a811f01b67"
      },
      "execution_count": 76,
      "outputs": [
        {
          "output_type": "execute_result",
          "data": {
            "text/plain": [
              "<matplotlib.axes._subplots.AxesSubplot at 0x7f445a76fa30>"
            ]
          },
          "metadata": {},
          "execution_count": 76
        },
        {
          "output_type": "display_data",
          "data": {
            "text/plain": [
              "<Figure size 432x288 with 1 Axes>"
            ],
            "image/png": "[encoded data removed]"
          },
          "metadata": {
            "needs_background": "light"
          }
        }
      ]
    },
    {
      "cell_type": "code",
      "source": [
        "sns.catplot(x='Churn',y='MonthlyCharges',data=df,hue='SeniorCitizen',kind='bar')"
      ],
      "metadata": {
        "colab": {
          "base_uri": "https://localhost:8080/",
          "height": 386
        },
        "id": "jrQ7ADtx8D-i",
        "outputId": "fbc68a90-a121-4d8f-f7c5-ad7f61ff6422"
      },
      "execution_count": 77,
      "outputs": [
        {
          "output_type": "execute_result",
          "data": {
            "text/plain": [
              "<seaborn.axisgrid.FacetGrid at 0x7f445a8131f0>"
            ]
          },
          "metadata": {},
          "execution_count": 77
        },
        {
          "output_type": "display_data",
          "data": {
            "text/plain": [
              "<Figure size 433.875x360 with 1 Axes>"
            ],
            "image/png": "[encoded data removed]"
          },
          "metadata": {
            "needs_background": "light"
          }
        }
      ]
    },
    {
      "cell_type": "code",
      "source": [
        "sns.catplot(x='Churn',y='TotalCharges',data=df,hue='SeniorCitizen',kind='bar')"
      ],
      "metadata": {
        "colab": {
          "base_uri": "https://localhost:8080/",
          "height": 386
        },
        "id": "B7o2SFTy9Vw2",
        "outputId": "6aa225ff-440a-481c-ba48-535c1e7fec55"
      },
      "execution_count": 78,
      "outputs": [
        {
          "output_type": "execute_result",
          "data": {
            "text/plain": [
              "<seaborn.axisgrid.FacetGrid at 0x7f445a7537f0>"
            ]
          },
          "metadata": {},
          "execution_count": 78
        },
        {
          "output_type": "display_data",
          "data": {
            "text/plain": [
              "<Figure size 433.875x360 with 1 Axes>"
            ],
            "image/png": "[encoded data removed]"
          },
          "metadata": {
            "needs_background": "light"
          }
        }
      ]
    },
    {
      "cell_type": "code",
      "source": [
        "sns.countplot(x='PhoneService',data =df,hue='Churn')"
      ],
      "metadata": {
        "colab": {
          "base_uri": "https://localhost:8080/",
          "height": 296
        },
        "id": "dgANct2SumBf",
        "outputId": "29e8dbbf-c0cb-4736-c2b2-ad4463ae2615"
      },
      "execution_count": 79,
      "outputs": [
        {
          "output_type": "execute_result",
          "data": {
            "text/plain": [
              "<matplotlib.axes._subplots.AxesSubplot at 0x7f445a6c8160>"
            ]
          },
          "metadata": {},
          "execution_count": 79
        },
        {
          "output_type": "display_data",
          "data": {
            "text/plain": [
              "<Figure size 432x288 with 1 Axes>"
            ],
            "image/png": "[encoded data removed]"
          },
          "metadata": {
            "needs_background": "light"
          }
        }
      ]
    },
    {
      "cell_type": "code",
      "source": [
        "sns.countplot(x='MultipleLines',data =df,hue='PhoneService')"
      ],
      "metadata": {
        "colab": {
          "base_uri": "https://localhost:8080/",
          "height": 297
        },
        "id": "lk6zW3dquxFB",
        "outputId": "0b189515-0f6d-4ced-9d80-57878dd746e9"
      },
      "execution_count": 81,
      "outputs": [
        {
          "output_type": "execute_result",
          "data": {
            "text/plain": [
              "<matplotlib.axes._subplots.AxesSubplot at 0x7f445a57a250>"
            ]
          },
          "metadata": {},
          "execution_count": 81
        },
        {
          "output_type": "display_data",
          "data": {
            "text/plain": [
              "<Figure size 432x288 with 1 Axes>"
            ],
            "image/png": "[encoded data removed]"
          },
          "metadata": {
            "needs_background": "light"
          }
        }
      ]
    },
    {
      "cell_type": "code",
      "source": [
        "sns.countplot(x='InternetService',data =df,hue='Churn')"
      ],
      "metadata": {
        "colab": {
          "base_uri": "https://localhost:8080/",
          "height": 296
        },
        "id": "GJBaxiaru-ua",
        "outputId": "7e8d8ba4-f63c-4034-9421-f5b80c3720ca"
      },
      "execution_count": 82,
      "outputs": [
        {
          "output_type": "execute_result",
          "data": {
            "text/plain": [
              "<matplotlib.axes._subplots.AxesSubplot at 0x7f445a99e040>"
            ]
          },
          "metadata": {},
          "execution_count": 82
        },
        {
          "output_type": "display_data",
          "data": {
            "text/plain": [
              "<Figure size 432x288 with 1 Axes>"
            ],
            "image/png": "[encoded data removed]"
          },
          "metadata": {
            "needs_background": "light"
          }
        }
      ]
    },
    {
      "cell_type": "code",
      "source": [
        "sns.relplot(x='tenure',y='MonthlyCharges' ,hue='InternetService',data=df,kind='line',ci=None)"
      ],
      "metadata": {
        "colab": {
          "base_uri": "https://localhost:8080/",
          "height": 386
        },
        "id": "aogDiswvhzVi",
        "outputId": "b86dbcb0-74e9-4af8-bb81-0dd74c91f42c"
      },
      "execution_count": 83,
      "outputs": [
        {
          "output_type": "execute_result",
          "data": {
            "text/plain": [
              "<seaborn.axisgrid.FacetGrid at 0x7f445a7fe070>"
            ]
          },
          "metadata": {},
          "execution_count": 83
        },
        {
          "output_type": "display_data",
          "data": {
            "text/plain": [
              "<Figure size 448x360 with 1 Axes>"
            ],
            "image/png": "[encoded data removed]"
          },
          "metadata": {
            "needs_background": "light"
          }
        }
      ]
    },
    {
      "cell_type": "code",
      "source": [
        "sns.relplot(x='tenure',y='MonthlyCharges' ,hue='StreamingTV',col='Churn',row='SeniorCitizen',data=df,kind='line',ci=None)"
      ],
      "metadata": {
        "colab": {
          "base_uri": "https://localhost:8080/",
          "height": 746
        },
        "id": "GcAO2skbifls",
        "outputId": "b6e2670c-4648-4af0-97d9-1e4dfe9b3604"
      },
      "execution_count": 84,
      "outputs": [
        {
          "output_type": "execute_result",
          "data": {
            "text/plain": [
              "<seaborn.axisgrid.FacetGrid at 0x7f445a80f070>"
            ]
          },
          "metadata": {},
          "execution_count": 84
        },
        {
          "output_type": "display_data",
          "data": {
            "text/plain": [
              "<Figure size 792.375x720 with 4 Axes>"
            ],
            "image/png": "[encoded data removed]"
          },
          "metadata": {
            "needs_background": "light"
          }
        }
      ]
    },
    {
      "cell_type": "code",
      "source": [
        "df.columns"
      ],
      "metadata": {
        "colab": {
          "base_uri": "https://localhost:8080/"
        },
        "id": "UQn2FiGvkg9s",
        "outputId": "f1ee322e-8dd6-428f-f04f-955d68e576a6"
      },
      "execution_count": 85,
      "outputs": [
        {
          "output_type": "execute_result",
          "data": {
            "text/plain": [
              "Index(['customerID', 'gender', 'SeniorCitizen', 'Partner', 'Dependents',\n",
              "       'tenure', 'PhoneService', 'MultipleLines', 'InternetService',\n",
              "       'OnlineSecurity', 'OnlineBackup', 'DeviceProtection', 'TechSupport',\n",
              "       'StreamingTV', 'StreamingMovies', 'Contract', 'PaperlessBilling',\n",
              "       'PaymentMethod', 'MonthlyCharges', 'TotalCharges', 'Churn'],\n",
              "      dtype='object')"
            ]
          },
          "metadata": {},
          "execution_count": 85
        }
      ]
    },
    {
      "cell_type": "code",
      "source": [
        "sns.countplot(x='DeviceProtection',data =df,hue='Churn')"
      ],
      "metadata": {
        "colab": {
          "base_uri": "https://localhost:8080/",
          "height": 296
        },
        "id": "0SVuOCe0k2Sq",
        "outputId": "6c6e6000-3855-4c86-cb4b-14f706f58ef0"
      },
      "execution_count": 86,
      "outputs": [
        {
          "output_type": "execute_result",
          "data": {
            "text/plain": [
              "<matplotlib.axes._subplots.AxesSubplot at 0x7f445a314400>"
            ]
          },
          "metadata": {},
          "execution_count": 86
        },
        {
          "output_type": "display_data",
          "data": {
            "text/plain": [
              "<Figure size 432x288 with 1 Axes>"
            ],
            "image/png": "[encoded data removed]"
          },
          "metadata": {
            "needs_background": "light"
          }
        }
      ]
    },
    {
      "cell_type": "code",
      "source": [
        "df1=df"
      ],
      "metadata": {
        "id": "Y4s-p-SclEpJ"
      },
      "execution_count": 87,
      "outputs": []
    },
    {
      "cell_type": "code",
      "source": [
        "df1.loc[df1['DeviceProtection']=='No internet service','DeviceProtection']='No'"
      ],
      "metadata": {
        "id": "jEtlJetdlGPe"
      },
      "execution_count": 88,
      "outputs": []
    },
    {
      "cell_type": "code",
      "source": [
        "df1['DeviceProtection'].unique()"
      ],
      "metadata": {
        "colab": {
          "base_uri": "https://localhost:8080/"
        },
        "id": "XdEZ9qAKlUrK",
        "outputId": "473dd50c-2384-4954-b443-8e3b50cc2d8c"
      },
      "execution_count": 89,
      "outputs": [
        {
          "output_type": "execute_result",
          "data": {
            "text/plain": [
              "['No', 'Yes']\n",
              "Categories (2, object): ['No', 'Yes']"
            ]
          },
          "metadata": {},
          "execution_count": 89
        }
      ]
    },
    {
      "cell_type": "code",
      "source": [
        "sns.countplot(x='DeviceProtection',data =df1,hue='Churn')"
      ],
      "metadata": {
        "colab": {
          "base_uri": "https://localhost:8080/",
          "height": 296
        },
        "id": "LshrSAEolh3v",
        "outputId": "1c2cc58f-4f94-4b88-b6c0-be31a3a3f74e"
      },
      "execution_count": 90,
      "outputs": [
        {
          "output_type": "execute_result",
          "data": {
            "text/plain": [
              "<matplotlib.axes._subplots.AxesSubplot at 0x7f445d361400>"
            ]
          },
          "metadata": {},
          "execution_count": 90
        },
        {
          "output_type": "display_data",
          "data": {
            "text/plain": [
              "<Figure size 432x288 with 1 Axes>"
            ],
            "image/png": "[encoded data removed]"
          },
          "metadata": {
            "needs_background": "light"
          }
        }
      ]
    },
    {
      "cell_type": "code",
      "source": [
        "sns.countplot(y='PaymentMethod',data =df,hue='Churn')\n"
      ],
      "metadata": {
        "colab": {
          "base_uri": "https://localhost:8080/",
          "height": 296
        },
        "id": "MQEhLH8glumO",
        "outputId": "e80a9519-2d58-41f2-e195-d394c019493f"
      },
      "execution_count": 91,
      "outputs": [
        {
          "output_type": "execute_result",
          "data": {
            "text/plain": [
              "<matplotlib.axes._subplots.AxesSubplot at 0x7f4458a44dc0>"
            ]
          },
          "metadata": {},
          "execution_count": 91
        },
        {
          "output_type": "display_data",
          "data": {
            "text/plain": [
              "<Figure size 432x288 with 1 Axes>"
            ],
            "image/png": "[encoded data removed]"
          },
          "metadata": {
            "needs_background": "light"
          }
        }
      ]
    },
    {
      "cell_type": "markdown",
      "source": [
        "## Feature Selection\n"
      ],
      "metadata": {
        "id": "g2Y4CGBHQmfl"
      }
    },
    {
      "cell_type": "code",
      "source": [
        "df.info()"
      ],
      "metadata": {
        "colab": {
          "base_uri": "https://localhost:8080/"
        },
        "id": "hXPvW4IkQi88",
        "outputId": "d8764b5f-0b2c-42c2-d3ca-4a2f09532637"
      },
      "execution_count": 92,
      "outputs": [
        {
          "output_type": "stream",
          "name": "stdout",
          "text": [
            "<class 'pandas.core.frame.DataFrame'>\n",
            "RangeIndex: 7043 entries, 0 to 7042\n",
            "Data columns (total 21 columns):\n",
            " #   Column            Non-Null Count  Dtype   \n",
            "---  ------            --------------  -----   \n",
            " 0   customerID        7043 non-null   object  \n",
            " 1   gender            7043 non-null   category\n",
            " 2   SeniorCitizen     7043 non-null   category\n",
            " 3   Partner           7043 non-null   category\n",
            " 4   Dependents        7043 non-null   category\n",
            " 5   tenure            7043 non-null   int64   \n",
            " 6   PhoneService      7043 non-null   category\n",
            " 7   MultipleLines     7043 non-null   category\n",
            " 8   InternetService   7043 non-null   category\n",
            " 9   OnlineSecurity    7043 non-null   category\n",
            " 10  OnlineBackup      7043 non-null   category\n",
            " 11  DeviceProtection  7043 non-null   category\n",
            " 12  TechSupport       7043 non-null   category\n",
            " 13  StreamingTV       7043 non-null   category\n",
            " 14  StreamingMovies   7043 non-null   category\n",
            " 15  Contract          7043 non-null   category\n",
            " 16  PaperlessBilling  7043 non-null   category\n",
            " 17  PaymentMethod     7043 non-null   category\n",
            " 18  MonthlyCharges    7043 non-null   float64 \n",
            " 19  TotalCharges      7043 non-null   float64 \n",
            " 20  Churn             7043 non-null   category\n",
            "dtypes: category(17), float64(2), int64(1), object(1)\n",
            "memory usage: 339.3+ KB\n"
          ]
        }
      ]
    },
    {
      "cell_type": "code",
      "source": [
        "df1=df.drop(['customerID','Churn'], axis=1)"
      ],
      "metadata": {
        "id": "cUA8-QVuQb79"
      },
      "execution_count": 93,
      "outputs": []
    },
    {
      "cell_type": "code",
      "source": [
        "df_dummies = pd.get_dummies(df1,drop_first=True)"
      ],
      "metadata": {
        "id": "JLAiru1NQe_q"
      },
      "execution_count": 94,
      "outputs": []
    },
    {
      "cell_type": "code",
      "source": [
        "y=df.loc[:,'Churn']"
      ],
      "metadata": {
        "id": "yTxbQUH6TO5T"
      },
      "execution_count": 95,
      "outputs": []
    },
    {
      "cell_type": "code",
      "source": [
        "from sklearn.preprocessing import LabelEncoder\n",
        "le = LabelEncoder()\n",
        "y = le.fit_transform(y)\n",
        "print(y)"
      ],
      "metadata": {
        "colab": {
          "base_uri": "https://localhost:8080/"
        },
        "id": "Ax7Ww833Pnqf",
        "outputId": "f33d8587-9aec-442b-90ca-03caf62b8449"
      },
      "execution_count": 96,
      "outputs": [
        {
          "output_type": "stream",
          "name": "stdout",
          "text": [
            "[0 0 1 ... 0 1 0]\n"
          ]
        }
      ]
    },
    {
      "cell_type": "code",
      "source": [
        "df_dummies['Churn']=y"
      ],
      "metadata": {
        "id": "R3G_yKQPTf7j"
      },
      "execution_count": 97,
      "outputs": []
    },
    {
      "cell_type": "code",
      "source": [
        "df_dummies.shape"
      ],
      "metadata": {
        "colab": {
          "base_uri": "https://localhost:8080/"
        },
        "id": "7b_c4HJkQtMf",
        "outputId": "2a75b285-31e2-40c9-8541-817ef60325ef"
      },
      "execution_count": 98,
      "outputs": [
        {
          "output_type": "execute_result",
          "data": {
            "text/plain": [
              "(7043, 24)"
            ]
          },
          "metadata": {},
          "execution_count": 98
        }
      ]
    },
    {
      "cell_type": "code",
      "source": [
        "df_dummies.columns"
      ],
      "metadata": {
        "colab": {
          "base_uri": "https://localhost:8080/"
        },
        "id": "Cl78ySUKQxKP",
        "outputId": "92fd94d6-92c2-401c-d1ab-8cb69d935e8e"
      },
      "execution_count": 99,
      "outputs": [
        {
          "output_type": "execute_result",
          "data": {
            "text/plain": [
              "Index(['tenure', 'MonthlyCharges', 'TotalCharges', 'gender_Male',\n",
              "       'SeniorCitizen_1', 'Partner_Yes', 'Dependents_Yes', 'PhoneService_Yes',\n",
              "       'MultipleLines_Yes', 'InternetService_Fiber optic',\n",
              "       'InternetService_No', 'OnlineSecurity_Yes', 'OnlineBackup_Yes',\n",
              "       'DeviceProtection_Yes', 'TechSupport_Yes', 'StreamingTV_Yes',\n",
              "       'StreamingMovies_Yes', 'Contract_One year', 'Contract_Two year',\n",
              "       'PaperlessBilling_Yes', 'PaymentMethod_Credit card (automatic)',\n",
              "       'PaymentMethod_Electronic check', 'PaymentMethod_Mailed check',\n",
              "       'Churn'],\n",
              "      dtype='object')"
            ]
          },
          "metadata": {},
          "execution_count": 99
        }
      ]
    },
    {
      "cell_type": "code",
      "source": [
        "df_dummies.head()"
      ],
      "metadata": {
        "colab": {
          "base_uri": "https://localhost:8080/",
          "height": 317
        },
        "id": "fb3IZDigRoXc",
        "outputId": "ac34f6fc-4072-4832-b069-8ae6120ae8d7"
      },
      "execution_count": 100,
      "outputs": [
        {
          "output_type": "execute_result",
          "data": {
            "text/plain": [
              "   tenure  MonthlyCharges  TotalCharges  gender_Male  SeniorCitizen_1  \\\n",
              "0       1           29.85         29.85            0                0   \n",
              "1      34           56.95       1889.50            1                0   \n",
              "2       2           53.85        108.15            1                0   \n",
              "3      45           42.30       1840.75            1                0   \n",
              "4       2           70.70        151.65            0                0   \n",
              "\n",
              "   Partner_Yes  Dependents_Yes  PhoneService_Yes  MultipleLines_Yes  \\\n",
              "0            1               0                 0                  0   \n",
              "1            0               0                 1                  0   \n",
              "2            0               0                 1                  0   \n",
              "3            0               0                 0                  0   \n",
              "4            0               0                 1                  0   \n",
              "\n",
              "   InternetService_Fiber optic  ...  TechSupport_Yes  StreamingTV_Yes  \\\n",
              "0                            0  ...                0                0   \n",
              "1                            0  ...                0                0   \n",
              "2                            0  ...                0                0   \n",
              "3                            0  ...                1                0   \n",
              "4                            1  ...                0                0   \n",
              "\n",
              "   StreamingMovies_Yes  Contract_One year  Contract_Two year  \\\n",
              "0                    0                  0                  0   \n",
              "1                    0                  1                  0   \n",
              "2                    0                  0                  0   \n",
              "3                    0                  1                  0   \n",
              "4                    0                  0                  0   \n",
              "\n",
              "   PaperlessBilling_Yes  PaymentMethod_Credit card (automatic)  \\\n",
              "0                     1                                      0   \n",
              "1                     0                                      0   \n",
              "2                     1                                      0   \n",
              "3                     0                                      0   \n",
              "4                     1                                      0   \n",
              "\n",
              "   PaymentMethod_Electronic check  PaymentMethod_Mailed check  Churn  \n",
              "0                               1                           0      0  \n",
              "1                               0                           1      0  \n",
              "2                               0                           1      1  \n",
              "3                               0                           0      0  \n",
              "4                               1                           0      1  \n",
              "\n",
              "[5 rows x 24 columns]"
            ],
            "text/html": [
              "\n",
              "  <div id=\"df-6083b382-dba0-4ee3-b3f8-671517e7165d\">\n",
              "    <div class=\"colab-df-container\">\n",
              "      <div>\n",
              "<style scoped>\n",
              "    .dataframe tbody tr th:only-of-type {\n",
              "        vertical-align: middle;\n",
              "    }\n",
              "\n",
              "    .dataframe tbody tr th {\n",
              "        vertical-align: top;\n",
              "    }\n",
              "\n",
              "    .dataframe thead th {\n",
              "        text-align: right;\n",
              "    }\n",
              "</style>\n",
              "<table border=\"1\" class=\"dataframe\">\n",
              "  <thead>\n",
              "    <tr style=\"text-align: right;\">\n",
              "      <th></th>\n",
              "      <th>tenure</th>\n",
              "      <th>MonthlyCharges</th>\n",
              "      <th>TotalCharges</th>\n",
              "      <th>gender_Male</th>\n",
              "      <th>SeniorCitizen_1</th>\n",
              "      <th>Partner_Yes</th>\n",
              "      <th>Dependents_Yes</th>\n",
              "      <th>PhoneService_Yes</th>\n",
              "      <th>MultipleLines_Yes</th>\n",
              "      <th>InternetService_Fiber optic</th>\n",
              "      <th>...</th>\n",
              "      <th>TechSupport_Yes</th>\n",
              "      <th>StreamingTV_Yes</th>\n",
              "      <th>StreamingMovies_Yes</th>\n",
              "      <th>Contract_One year</th>\n",
              "      <th>Contract_Two year</th>\n",
              "      <th>PaperlessBilling_Yes</th>\n",
              "      <th>PaymentMethod_Credit card (automatic)</th>\n",
              "      <th>PaymentMethod_Electronic check</th>\n",
              "      <th>PaymentMethod_Mailed check</th>\n",
              "      <th>Churn</th>\n",
              "    </tr>\n",
              "  </thead>\n",
              "  <tbody>\n",
              "    <tr>\n",
              "      <th>0</th>\n",
              "      <td>1</td>\n",
              "      <td>29.85</td>\n",
              "      <td>29.85</td>\n",
              "      <td>0</td>\n",
              "      <td>0</td>\n",
              "      <td>1</td>\n",
              "      <td>0</td>\n",
              "      <td>0</td>\n",
              "      <td>0</td>\n",
              "      <td>0</td>\n",
              "      <td>...</td>\n",
              "      <td>0</td>\n",
              "      <td>0</td>\n",
              "      <td>0</td>\n",
              "      <td>0</td>\n",
              "      <td>0</td>\n",
              "      <td>1</td>\n",
              "      <td>0</td>\n",
              "      <td>1</td>\n",
              "      <td>0</td>\n",
              "      <td>0</td>\n",
              "    </tr>\n",
              "    <tr>\n",
              "      <th>1</th>\n",
              "      <td>34</td>\n",
              "      <td>56.95</td>\n",
              "      <td>1889.50</td>\n",
              "      <td>1</td>\n",
              "      <td>0</td>\n",
              "      <td>0</td>\n",
              "      <td>0</td>\n",
              "      <td>1</td>\n",
              "      <td>0</td>\n",
              "      <td>0</td>\n",
              "      <td>...</td>\n",
              "      <td>0</td>\n",
              "      <td>0</td>\n",
              "      <td>0</td>\n",
              "      <td>1</td>\n",
              "      <td>0</td>\n",
              "      <td>0</td>\n",
              "      <td>0</td>\n",
              "      <td>0</td>\n",
              "      <td>1</td>\n",
              "      <td>0</td>\n",
              "    </tr>\n",
              "    <tr>\n",
              "      <th>2</th>\n",
              "      <td>2</td>\n",
              "      <td>53.85</td>\n",
              "      <td>108.15</td>\n",
              "      <td>1</td>\n",
              "      <td>0</td>\n",
              "      <td>0</td>\n",
              "      <td>0</td>\n",
              "      <td>1</td>\n",
              "      <td>0</td>\n",
              "      <td>0</td>\n",
              "      <td>...</td>\n",
              "      <td>0</td>\n",
              "      <td>0</td>\n",
              "      <td>0</td>\n",
              "      <td>0</td>\n",
              "      <td>0</td>\n",
              "      <td>1</td>\n",
              "      <td>0</td>\n",
              "      <td>0</td>\n",
              "      <td>1</td>\n",
              "      <td>1</td>\n",
              "    </tr>\n",
              "    <tr>\n",
              "      <th>3</th>\n",
              "      <td>45</td>\n",
              "      <td>42.30</td>\n",
              "      <td>1840.75</td>\n",
              "      <td>1</td>\n",
              "      <td>0</td>\n",
              "      <td>0</td>\n",
              "      <td>0</td>\n",
              "      <td>0</td>\n",
              "      <td>0</td>\n",
              "      <td>0</td>\n",
              "      <td>...</td>\n",
              "      <td>1</td>\n",
              "      <td>0</td>\n",
              "      <td>0</td>\n",
              "      <td>1</td>\n",
              "      <td>0</td>\n",
              "      <td>0</td>\n",
              "      <td>0</td>\n",
              "      <td>0</td>\n",
              "      <td>0</td>\n",
              "      <td>0</td>\n",
              "    </tr>\n",
              "    <tr>\n",
              "      <th>4</th>\n",
              "      <td>2</td>\n",
              "      <td>70.70</td>\n",
              "      <td>151.65</td>\n",
              "      <td>0</td>\n",
              "      <td>0</td>\n",
              "      <td>0</td>\n",
              "      <td>0</td>\n",
              "      <td>1</td>\n",
              "      <td>0</td>\n",
              "      <td>1</td>\n",
              "      <td>...</td>\n",
              "      <td>0</td>\n",
              "      <td>0</td>\n",
              "      <td>0</td>\n",
              "      <td>0</td>\n",
              "      <td>0</td>\n",
              "      <td>1</td>\n",
              "      <td>0</td>\n",
              "      <td>1</td>\n",
              "      <td>0</td>\n",
              "      <td>1</td>\n",
              "    </tr>\n",
              "  </tbody>\n",
              "</table>\n",
              "<p>5 rows × 24 columns</p>\n",
              "</div>\n",
              "      <button class=\"colab-df-convert\" onclick=\"convertToInteractive('df-6083b382-dba0-4ee3-b3f8-671517e7165d')\"\n",
              "              title=\"Convert this dataframe to an interactive table.\"\n",
              "              style=\"display:none;\">\n",
              "        \n",
              "  <svg xmlns=\"http://www.w3.org/2000/svg\" height=\"24px\"viewBox=\"0 0 24 24\"\n",
              "       width=\"24px\">\n",
              "    <path d=\"M0 0h24v24H0V0z\" fill=\"none\"/>\n",
              "    <path d=\"M18.56 5.44l.94 2.06.94-2.06 2.06-.94-2.06-.94-.94-2.06-.94 2.06-2.06.94zm-11 1L8.5 8.5l.94-2.06 2.06-.94-2.06-.94L8.5 2.5l-.94 2.06-2.06.94zm10 10l.94 2.06.94-2.06 2.06-.94-2.06-.94-.94-2.06-.94 2.06-2.06.94z\"/><path d=\"M17.41 7.96l-1.37-1.37c-.4-.4-.92-.59-1.43-.59-.52 0-1.04.2-1.43.59L10.3 9.45l-7.72 7.72c-.78.78-.78 2.05 0 2.83L4 21.41c.39.39.9.59 1.41.59.51 0 1.02-.2 1.41-.59l7.78-7.78 2.81-2.81c.8-.78.8-2.07 0-2.86zM5.41 20L4 18.59l7.72-7.72 1.47 1.35L5.41 20z\"/>\n",
              "  </svg>\n",
              "      </button>\n",
              "      \n",
              "  <style>\n",
              "    .colab-df-container {\n",
              "      display:flex;\n",
              "      flex-wrap:wrap;\n",
              "      gap: 12px;\n",
              "    }\n",
              "\n",
              "    .colab-df-convert {\n",
              "      background-color: #E8F0FE;\n",
              "      border: none;\n",
              "      border-radius: 50%;\n",
              "      cursor: pointer;\n",
              "      display: none;\n",
              "      fill: #1967D2;\n",
              "      height: 32px;\n",
              "      padding: 0 0 0 0;\n",
              "      width: 32px;\n",
              "    }\n",
              "\n",
              "    .colab-df-convert:hover {\n",
              "      background-color: #E2EBFA;\n",
              "      box-shadow: 0px 1px 2px rgba(60, 64, 67, 0.3), 0px 1px 3px 1px rgba(60, 64, 67, 0.15);\n",
              "      fill: #174EA6;\n",
              "    }\n",
              "\n",
              "    [theme=dark] .colab-df-convert {\n",
              "      background-color: #3B4455;\n",
              "      fill: #D2E3FC;\n",
              "    }\n",
              "\n",
              "    [theme=dark] .colab-df-convert:hover {\n",
              "      background-color: #434B5C;\n",
              "      box-shadow: 0px 1px 3px 1px rgba(0, 0, 0, 0.15);\n",
              "      filter: drop-shadow(0px 1px 2px rgba(0, 0, 0, 0.3));\n",
              "      fill: #FFFFFF;\n",
              "    }\n",
              "  </style>\n",
              "\n",
              "      <script>\n",
              "        const buttonEl =\n",
              "          document.querySelector('#df-6083b382-dba0-4ee3-b3f8-671517e7165d button.colab-df-convert');\n",
              "        buttonEl.style.display =\n",
              "          google.colab.kernel.accessAllowed ? 'block' : 'none';\n",
              "\n",
              "        async function convertToInteractive(key) {\n",
              "          const element = document.querySelector('#df-6083b382-dba0-4ee3-b3f8-671517e7165d');\n",
              "          const dataTable =\n",
              "            await google.colab.kernel.invokeFunction('convertToInteractive',\n",
              "                                                     [key], {});\n",
              "          if (!dataTable) return;\n",
              "\n",
              "          const docLinkHtml = 'Like what you see? Visit the ' +\n",
              "            '<a target=\"_blank\" href=https://colab.research.google.com/notebooks/data_table.ipynb>data table notebook</a>'\n",
              "            + ' to learn more about interactive tables.';\n",
              "          element.innerHTML = '';\n",
              "          dataTable['output_type'] = 'display_data';\n",
              "          await google.colab.output.renderOutput(dataTable, element);\n",
              "          const docLink = document.createElement('div');\n",
              "          docLink.innerHTML = docLinkHtml;\n",
              "          element.appendChild(docLink);\n",
              "        }\n",
              "      </script>\n",
              "    </div>\n",
              "  </div>\n",
              "  "
            ]
          },
          "metadata": {},
          "execution_count": 100
        }
      ]
    },
    {
      "cell_type": "code",
      "source": [
        "X=df_dummies.drop(['Churn'], axis=1)\n",
        "y=df_dummies['Churn']"
      ],
      "metadata": {
        "id": "c03xcFHTPsui"
      },
      "execution_count": 101,
      "outputs": []
    },
    {
      "cell_type": "code",
      "source": [
        "from sklearn.feature_selection import SelectKBest\n",
        "from sklearn.feature_selection import chi2, f_classif, mutual_info_classif"
      ],
      "metadata": {
        "id": "UVjMlAHq9rWl"
      },
      "execution_count": 102,
      "outputs": []
    },
    {
      "cell_type": "code",
      "source": [
        "from sklearn.neighbors import KNeighborsClassifier\n"
      ],
      "metadata": {
        "id": "7-W3iSfZSDcm"
      },
      "execution_count": 103,
      "outputs": []
    },
    {
      "cell_type": "code",
      "source": [
        "from sklearn.model_selection import train_test_split"
      ],
      "metadata": {
        "id": "3xf2GbiUSfV2"
      },
      "execution_count": 104,
      "outputs": []
    },
    {
      "cell_type": "code",
      "source": [
        "X_train, X_test, y_train, y_test = train_test_split(X, y, test_size=0.2, random_state=42, stratify=y)"
      ],
      "metadata": {
        "id": "f0m33cQpSkNg"
      },
      "execution_count": 105,
      "outputs": []
    },
    {
      "cell_type": "code",
      "source": [
        "from sklearn.preprocessing import StandardScaler"
      ],
      "metadata": {
        "id": "dZfZDA7ZhULZ"
      },
      "execution_count": 106,
      "outputs": []
    },
    {
      "cell_type": "code",
      "source": [
        "sd=StandardScaler()"
      ],
      "metadata": {
        "id": "JaDtLHEChevM"
      },
      "execution_count": 107,
      "outputs": []
    },
    {
      "cell_type": "code",
      "source": [
        "X_train.loc[:,['tenure','MonthlyCharges','TotalCharges']] =sd.fit_transform(X_train.loc[:,['tenure','MonthlyCharges','TotalCharges']])\n",
        "X_test.loc[:,['tenure','MonthlyCharges','TotalCharges']] =sd.transform(X_test.loc[:,['tenure','MonthlyCharges','TotalCharges']])"
      ],
      "metadata": {
        "id": "W5V1FD9Zhjxa"
      },
      "execution_count": 108,
      "outputs": []
    },
    {
      "cell_type": "code",
      "source": [
        "neighbors = np.arange(1, 13)\n",
        "train_accuracies = {}\n",
        "test_accuracies = {}\n",
        "\n",
        "for neighbor in neighbors:\n",
        "\tknn = KNeighborsClassifier(n_neighbors=neighbor)\n",
        "\tknn.fit(X_train, y_train)\n",
        "\ttrain_accuracies[neighbor] = knn.score(X_train, y_train)\n",
        "\ttest_accuracies[neighbor] = knn.score(X_test, y_test)\n",
        "print(neighbors, '\\n', train_accuracies, '\\n', test_accuracies)"
      ],
      "metadata": {
        "colab": {
          "base_uri": "https://localhost:8080/"
        },
        "id": "m3ZvttH6SXVG",
        "outputId": "af129744-06b3-4549-8118-27feb1d82794"
      },
      "execution_count": 109,
      "outputs": [
        {
          "output_type": "stream",
          "name": "stdout",
          "text": [
            "[ 1  2  3  4  5  6  7  8  9 10 11 12] \n",
            " {1: 0.9980475683351083, 2: 0.8681221157259496, 3: 0.8588924387646433, 4: 0.8383031593894213, 5: 0.8343982960596379, 6: 0.8299609513667021, 7: 0.8274760383386581, 8: 0.8260560880369187, 9: 0.8264110756123536, 10: 0.8249911253106141, 11: 0.8223287184948527, 12: 0.8209087681931132} \n",
            " {1: 0.7381121362668559, 2: 0.7629524485450674, 3: 0.7615330021291696, 4: 0.7750177430801988, 5: 0.7629524485450674, 6: 0.7785663591199432, 7: 0.7707594038325053, 8: 0.7814052519517388, 9: 0.7721788502484032, 10: 0.7814052519517388, 11: 0.7764371894960965, 12: 0.7792760823278921}\n"
          ]
        }
      ]
    },
    {
      "cell_type": "code",
      "source": [
        "knn = KNeighborsClassifier(n_neighbors=10)\n",
        "knn.fit(X_train, y_train)"
      ],
      "metadata": {
        "colab": {
          "base_uri": "https://localhost:8080/"
        },
        "id": "_tPP6tQgWMDe",
        "outputId": "85f15709-6435-4ebd-c0e3-1a642a7bc64b"
      },
      "execution_count": 110,
      "outputs": [
        {
          "output_type": "execute_result",
          "data": {
            "text/plain": [
              "KNeighborsClassifier(n_neighbors=10)"
            ]
          },
          "metadata": {},
          "execution_count": 110
        }
      ]
    },
    {
      "cell_type": "code",
      "source": [
        "k = np.arange(5, 24)\n",
        "for k in k:\n",
        "  selector = SelectKBest(score_func=chi2, k=k)\n",
        "  selector.fit(X, y)\n",
        "  selected_features = selector.transform(X)\n"
      ],
      "metadata": {
        "id": "IxmAHjGCOcSK"
      },
      "execution_count": 111,
      "outputs": []
    },
    {
      "cell_type": "code",
      "source": [
        "selector = SelectKBest(score_func=chi2, k=10)\n",
        "selector.fit(X, y)\n",
        "selected_features = selector.transform(X)\n",
        "selected_indices = selector.get_support(indices=True)"
      ],
      "metadata": {
        "id": "e3x7XyYiWxoD"
      },
      "execution_count": 112,
      "outputs": []
    },
    {
      "cell_type": "code",
      "source": [
        "selected_features.shape"
      ],
      "metadata": {
        "colab": {
          "base_uri": "https://localhost:8080/"
        },
        "id": "MUBvs-3eXJ97",
        "outputId": "26a45fb3-d27f-4d5a-b1e7-c144400fb093"
      },
      "execution_count": 113,
      "outputs": [
        {
          "output_type": "execute_result",
          "data": {
            "text/plain": [
              "(7043, 10)"
            ]
          },
          "metadata": {},
          "execution_count": 113
        }
      ]
    },
    {
      "cell_type": "code",
      "source": [
        "selected_indices\n"
      ],
      "metadata": {
        "colab": {
          "base_uri": "https://localhost:8080/"
        },
        "id": "MZwm6Q0tXT1J",
        "outputId": "e2325631-0666-4dac-8ab1-d52d2cacf3e0"
      },
      "execution_count": 114,
      "outputs": [
        {
          "output_type": "execute_result",
          "data": {
            "text/plain": [
              "array([ 0,  1,  2,  9, 10, 11, 14, 17, 18, 21])"
            ]
          },
          "metadata": {},
          "execution_count": 114
        }
      ]
    },
    {
      "cell_type": "code",
      "source": [
        "XFS=X.iloc[:,[0,1,2,10,9,11,14,17,18,21]]"
      ],
      "metadata": {
        "id": "7E7TGed-XqyX"
      },
      "execution_count": 115,
      "outputs": []
    },
    {
      "cell_type": "code",
      "source": [
        "knn = KNeighborsClassifier(n_neighbors=10)\n",
        "knn.fit(X_train, y_train)"
      ],
      "metadata": {
        "colab": {
          "base_uri": "https://localhost:8080/"
        },
        "id": "dfn_aGrjYFbJ",
        "outputId": "1cef967b-1b79-49cc-aa33-1b78a60c1e8c"
      },
      "execution_count": 116,
      "outputs": [
        {
          "output_type": "execute_result",
          "data": {
            "text/plain": [
              "KNeighborsClassifier(n_neighbors=10)"
            ]
          },
          "metadata": {},
          "execution_count": 116
        }
      ]
    },
    {
      "cell_type": "code",
      "source": [
        "XFS.columns"
      ],
      "metadata": {
        "colab": {
          "base_uri": "https://localhost:8080/"
        },
        "id": "nLi59hdQX4Wd",
        "outputId": "8afde16d-4288-4f8c-8eaf-f798712cbcd5"
      },
      "execution_count": 117,
      "outputs": [
        {
          "output_type": "execute_result",
          "data": {
            "text/plain": [
              "Index(['tenure', 'MonthlyCharges', 'TotalCharges', 'InternetService_No',\n",
              "       'InternetService_Fiber optic', 'OnlineSecurity_Yes', 'TechSupport_Yes',\n",
              "       'Contract_One year', 'Contract_Two year',\n",
              "       'PaymentMethod_Electronic check'],\n",
              "      dtype='object')"
            ]
          },
          "metadata": {},
          "execution_count": 117
        }
      ]
    },
    {
      "cell_type": "code",
      "source": [
        "selector.get_feature_names_out()"
      ],
      "metadata": {
        "colab": {
          "base_uri": "https://localhost:8080/"
        },
        "id": "2nh0lETuXW7T",
        "outputId": "1bab2025-51e7-4460-d173-bd4bba2cd82b"
      },
      "execution_count": 118,
      "outputs": [
        {
          "output_type": "execute_result",
          "data": {
            "text/plain": [
              "array(['tenure', 'MonthlyCharges', 'TotalCharges',\n",
              "       'InternetService_Fiber optic', 'InternetService_No',\n",
              "       'OnlineSecurity_Yes', 'TechSupport_Yes', 'Contract_One year',\n",
              "       'Contract_Two year', 'PaymentMethod_Electronic check'],\n",
              "      dtype=object)"
            ]
          },
          "metadata": {},
          "execution_count": 118
        }
      ]
    },
    {
      "cell_type": "code",
      "source": [
        "from sklearn.pipeline import Pipeline"
      ],
      "metadata": {
        "id": "WPq_a-s774Uh"
      },
      "execution_count": 119,
      "outputs": []
    },
    {
      "cell_type": "code",
      "source": [
        "from sklearn.linear_model import LogisticRegression"
      ],
      "metadata": {
        "id": "-vkI509xCQ54"
      },
      "execution_count": 120,
      "outputs": []
    },
    {
      "cell_type": "code",
      "source": [
        "log=LogisticRegression()\n",
        "log.fit(X_train,y_train)"
      ],
      "metadata": {
        "colab": {
          "base_uri": "https://localhost:8080/"
        },
        "id": "FxQwuw_pCUL1",
        "outputId": "d9ecc576-855a-4def-d0ba-4ab80062f254"
      },
      "execution_count": 121,
      "outputs": [
        {
          "output_type": "execute_result",
          "data": {
            "text/plain": [
              "LogisticRegression()"
            ]
          },
          "metadata": {},
          "execution_count": 121
        }
      ]
    },
    {
      "cell_type": "code",
      "source": [
        "s=np.arange(5,24)\n",
        "for i in s :\n",
        "  X_new = SelectKBest(chi2, k=i ).fit_transform(X, y)\n",
        "  X_train, X_test, y_train, y_test = train_test_split(X_new, y, test_size=0.2, random_state=42, stratify=y)\n",
        "  kn=KNeighborsClassifier(n_neighbors=10)\n",
        "  kn.fit(X_train,y_train)\n",
        "  print( i,\":\",kn.score(X_test, y_test) , kn.score(X_train, y_train))"
      ],
      "metadata": {
        "colab": {
          "base_uri": "https://localhost:8080/"
        },
        "id": "yrRTKky76EbD",
        "outputId": "6fb91a0e-a2bc-4698-b9fc-835406cdae42"
      },
      "execution_count": 122,
      "outputs": [
        {
          "output_type": "stream",
          "name": "stdout",
          "text": [
            "5 : 0.794889992902768 0.8107916222932198\n",
            "6 : 0.794889992902768 0.8107916222932198\n",
            "7 : 0.794180269694819 0.811324103656372\n",
            "8 : 0.794180269694819 0.8111466098686546\n",
            "9 : 0.7955997161107168 0.811324103656372\n",
            "10 : 0.7970191625266146 0.8115015974440895\n",
            "11 : 0.7998580553584103 0.8120340788072418\n",
            "12 : 0.7970191625266146 0.8129215477458289\n",
            "13 : 0.7984386089425124 0.8129215477458289\n",
            "14 : 0.7984386089425124 0.8129215477458289\n",
            "15 : 0.7977288857345636 0.8125665601703941\n",
            "16 : 0.7963094393186657 0.8120340788072418\n",
            "17 : 0.7955997161107168 0.8116790912318069\n",
            "18 : 0.7970191625266146 0.8120340788072418\n",
            "19 : 0.7955997161107168 0.8116790912318069\n",
            "20 : 0.7955997161107168 0.8116790912318069\n",
            "21 : 0.794889992902768 0.8118565850195243\n",
            "22 : 0.7934705464868701 0.8118565850195243\n",
            "23 : 0.7934705464868701 0.8116790912318069\n"
          ]
        }
      ]
    },
    {
      "cell_type": "code",
      "source": [
        "s=np.arange(5,24)\n",
        "for i in s :\n",
        "  X_new = SelectKBest(chi2, k=i ).fit_transform(X, y)\n",
        "  X_train, X_test, y_train, y_test = train_test_split(X_new, y, test_size=0.2, random_state=42, stratify=y)\n",
        "  log=LogisticRegression()\n",
        "  log.fit(X_train,y_train)\n",
        "  print( i,\":\",log.score(X_test, y_test) , log.score(X_train, y_train))"
      ],
      "metadata": {
        "colab": {
          "base_uri": "https://localhost:8080/"
        },
        "id": "qHkuzU2fBB94",
        "outputId": "dbea2f77-6cef-43c0-ab26-c7e77545957b"
      },
      "execution_count": 123,
      "outputs": [
        {
          "output_type": "stream",
          "name": "stdout",
          "text": [
            "5 : 0.7714691270404542 0.7809726659566916\n",
            "6 : 0.7877927608232789 0.7939297124600639\n",
            "7 : 0.7899219304471257 0.7962371317003905\n",
            "8 : 0.7877927608232789 0.7958821441249556\n",
            "9 : 0.7934705464868701 0.7996095136670217\n",
            "10 : 0.7863733144073811 0.7981895633652822\n",
            "11 : 0.7934705464868701 0.7976570820021299\n",
            "12 : 0.7955997161107168 0.7978345757898474\n",
            "13 : 0.7998580553584103 0.8020944266950657\n",
            "14 : 0.8005677785663591 0.8008519701810437\n",
            "15 : 0.7991483321504613 0.8017394391196309\n",
            "16 : 0.7977288857345636 0.8022719204827831\n",
            "17 : 0.7970191625266146 0.802626908058218\n",
            "18 : 0.7963094393186657 0.802626908058218\n",
            "19 : 0.7984386089425124 0.8028044018459354\n",
            "20 : 0.794889992902768 0.8059992900248492\n",
            "21 : 0.8019872249822569 0.7980120695775648\n",
            "22 : 0.7977288857345636 0.8054668086616968\n",
            "23 : 0.801277501774308 0.8052893148739794\n"
          ]
        }
      ]
    },
    {
      "cell_type": "code",
      "source": [
        "from sklearn.tree import DecisionTreeClassifier"
      ],
      "metadata": {
        "id": "V6Qbpj186U-C"
      },
      "execution_count": 124,
      "outputs": []
    },
    {
      "cell_type": "code",
      "source": [
        "s=np.arange(5,24)\n",
        "for i in s :\n",
        "  X_new = SelectKBest(chi2, k=i ).fit_transform(X, y)\n",
        "  X_train, X_test, y_train, y_test = train_test_split(X_new, y, test_size=0.2, random_state=42, stratify=y)\n",
        "  dt=DecisionTreeClassifier(random_state=0)\n",
        "  dt.fit(X_train,y_train)\n",
        "  print( i,\":\",dt.score(X_test, y_test) , dt.score(X_train, y_train))"
      ],
      "metadata": {
        "colab": {
          "base_uri": "https://localhost:8080/"
        },
        "id": "g6fqYFtX6T5r",
        "outputId": "84e34c7e-32dd-48a9-9471-b9c84b134311"
      },
      "execution_count": 125,
      "outputs": [
        {
          "output_type": "stream",
          "name": "stdout",
          "text": [
            "5 : 0.716820440028389 0.9913028044018459\n",
            "6 : 0.7253371185237757 0.9914802981895634\n",
            "7 : 0.7288857345635202 0.9914802981895634\n",
            "8 : 0.7324343506032647 0.9914802981895634\n",
            "9 : 0.7395315826827538 0.9920127795527156\n",
            "10 : 0.7409510290986515 0.9923677671281506\n",
            "11 : 0.7352732434350603 0.9934327298544551\n",
            "12 : 0.723207948899929 0.9948526801561945\n",
            "13 : 0.7175301632363378 0.9966276180333689\n",
            "14 : 0.7210787792760823 0.9968051118210862\n",
            "15 : 0.723207948899929 0.9971600993965212\n",
            "16 : 0.7253371185237757 0.9976925807596734\n",
            "17 : 0.7246273953158269 0.9976925807596734\n",
            "18 : 0.7345635202271115 0.9976925807596734\n",
            "19 : 0.7324343506032647 0.9976925807596734\n",
            "20 : 0.7281760113555713 0.9976925807596734\n",
            "21 : 0.7388218594748048 0.9976925807596734\n",
            "22 : 0.7317246273953159 0.9980475683351083\n",
            "23 : 0.7310149041873669 0.9980475683351083\n"
          ]
        }
      ]
    },
    {
      "cell_type": "code",
      "source": [
        "from sklearn.metrics import classification_report,confusion_matrix\n",
        "from sklearn.ensemble import RandomForestClassifier\n",
        "rf=RandomForestClassifier()\n",
        "X_train, X_test, y_train, y_test = train_test_split(X, y, test_size=0.2, random_state=42, stratify=y)\n",
        "rf.fit(X_train,y_train)\n",
        "y_pred=rf.predict(X_test)\n",
        "cm= confusion_matrix(y_test,y_pred)\n",
        "print(classification_report(y_test, y_pred))\n",
        "print(cm)\n",
        "print(rf.score(X_test, y_test) , rf.score(X_train, y_train))"
      ],
      "metadata": {
        "colab": {
          "base_uri": "https://localhost:8080/"
        },
        "id": "PstnFp5Z7D1W",
        "outputId": "816cea18-8fcc-4701-ca4d-13f748cd7e4b"
      },
      "execution_count": 126,
      "outputs": [
        {
          "output_type": "stream",
          "name": "stdout",
          "text": [
            "              precision    recall  f1-score   support\n",
            "\n",
            "           0       0.83      0.90      0.86      1035\n",
            "           1       0.62      0.48      0.54       374\n",
            "\n",
            "    accuracy                           0.78      1409\n",
            "   macro avg       0.72      0.69      0.70      1409\n",
            "weighted avg       0.77      0.78      0.78      1409\n",
            "\n",
            "[[927 108]\n",
            " [195 179]]\n",
            "0.7849538679914834 0.9980475683351083\n"
          ]
        }
      ]
    },
    {
      "cell_type": "code",
      "source": [
        "#فالس نيجاتيف معناها انه هو1 وتوقعه 0 \n",
        "#افالس نيجاتيف انه ترك و وتوقعه ما ترك\n",
        "#فالس بوسيتيف انه هو 0 و توقعه 1 \n",
        "#فالس بوسيتيف انه هو ما ترك و توقعه ترك "
      ],
      "metadata": {
        "id": "flaOlYCTiz6d"
      },
      "execution_count": 127,
      "outputs": []
    },
    {
      "cell_type": "code",
      "source": [
        "##imbalance\n",
        "##roc curve "
      ],
      "metadata": {
        "id": "mxTIBs2wvmhB"
      },
      "execution_count": 128,
      "outputs": []
    },
    {
      "cell_type": "markdown",
      "source": [
        "## OverSampling "
      ],
      "metadata": {
        "id": "rUmFYAioj0NX"
      }
    },
    {
      "cell_type": "code",
      "source": [
        "def plot_sampling(X, y, X_res, y_res, ax, fig = None, sampler = None, title=None):\n",
        "    if fig:\n",
        "        ax[0].scatter(X.iloc[:, 0], X.iloc[:, 1], c=y, alpha=0.8, edgecolor=\"k\")\n",
        "        ax[1].scatter(X_res[:, 0], X_res[:, 1], c=y_res, alpha=0.8, edgecolor=\"k\")\n",
        "        sns.despine(fig)\n",
        "        ax[0].set_title(f\"Before sampling\")\n",
        "        if sampler:\n",
        "            ax[1].set_title(f\"Resampling with {sampler.__class__.__name__}\")\n",
        "        else:\n",
        "            ax[1].set_title(\"After sampling\")\n",
        "    else:\n",
        "        print('pass the `fig` parameter')\n"
      ],
      "metadata": {
        "id": "mcHEhQvqmNA0"
      },
      "execution_count": 129,
      "outputs": []
    },
    {
      "cell_type": "code",
      "source": [
        "from sklearn.metrics import plot_confusion_matrix\n",
        "\n",
        "def confusion_matrix(sampler, X_test, y_test, ax):\n",
        "    plot_confusion_matrix(sampler, X_test, y_test, ax=ax, values_format='d')\n",
        "    ax.set_title(sampler.__class__.__name__)"
      ],
      "metadata": {
        "id": "gSE6PeiemPrr"
      },
      "execution_count": 130,
      "outputs": []
    },
    {
      "cell_type": "code",
      "source": [
        "from imblearn.over_sampling import SMOTE, ADASYN"
      ],
      "metadata": {
        "id": "2UtM5BuIj4rL"
      },
      "execution_count": 131,
      "outputs": []
    },
    {
      "cell_type": "code",
      "source": [
        "from sklearn.model_selection import cross_val_score"
      ],
      "metadata": {
        "id": "aYQ4DlVul1OR"
      },
      "execution_count": 132,
      "outputs": []
    },
    {
      "cell_type": "code",
      "source": [
        "X_train, X_test, y_train, y_test = train_test_split(X_new, y, test_size=0.2, random_state=42, stratify=y)"
      ],
      "metadata": {
        "id": "R4ZmyFRRkR_D"
      },
      "execution_count": 133,
      "outputs": []
    },
    {
      "cell_type": "code",
      "source": [
        "X_oversample, y_oversample = SMOTE().fit_resample(X_train, y_train)"
      ],
      "metadata": {
        "id": "3kHxr0DvkCk5"
      },
      "execution_count": 134,
      "outputs": []
    },
    {
      "cell_type": "code",
      "source": [
        "X_oversample.shape"
      ],
      "metadata": {
        "colab": {
          "base_uri": "https://localhost:8080/"
        },
        "id": "XD9p2N4YkVR9",
        "outputId": "30cb42be-bdef-4f75-cec4-abc584e8fe68"
      },
      "execution_count": 135,
      "outputs": [
        {
          "output_type": "execute_result",
          "data": {
            "text/plain": [
              "(8278, 23)"
            ]
          },
          "metadata": {},
          "execution_count": 135
        }
      ]
    },
    {
      "cell_type": "code",
      "source": [
        "oversample_classifiers = {\n",
        "    'LogisticRegression': LogisticRegression(solver='sag'),\n",
        "    'KNearest': KNeighborsClassifier(),\n",
        "    'RandomForestClassifier': RandomForestClassifier()\n",
        "}"
      ],
      "metadata": {
        "id": "1p7_2LEslmOP"
      },
      "execution_count": 136,
      "outputs": []
    },
    {
      "cell_type": "code",
      "source": [
        "for key, cls in oversample_classifiers.items():\n",
        "    training_score = cross_val_score(cls, X_oversample, y_oversample, cv=5)\n",
        "    cls.fit(X_oversample, y_oversample)\n",
        "    print(\"Classifier: \", cls.__class__.__name__,\n",
        "          \"has a training score of\", round(training_score.mean(), 2) * 100,\n",
        "          \"% accuracy score\")"
      ],
      "metadata": {
        "colab": {
          "base_uri": "https://localhost:8080/"
        },
        "id": "q-pwOfonlwhF",
        "outputId": "461db9a3-a621-477d-95ad-cbbc838250da"
      },
      "execution_count": 137,
      "outputs": [
        {
          "output_type": "stream",
          "name": "stdout",
          "text": [
            "Classifier:  LogisticRegression has a training score of 72.0 % accuracy score\n",
            "Classifier:  KNeighborsClassifier has a training score of 77.0 % accuracy score\n",
            "Classifier:  RandomForestClassifier has a training score of 84.0 % accuracy score\n"
          ]
        }
      ]
    },
    {
      "cell_type": "code",
      "source": [
        "fig, ax = plt.subplots(1, len(oversample_classifiers),figsize=(30, 10))\n",
        "for i, (key, cls) in enumerate(oversample_classifiers.items()):\n",
        "    training_score = confusion_matrix(cls, X_test, y_test, ax=ax[i])"
      ],
      "metadata": {
        "colab": {
          "base_uri": "https://localhost:8080/",
          "height": 483
        },
        "id": "RGyTLssdl82N",
        "outputId": "874b9450-9ccc-4022-eaf8-ecbad0667626"
      },
      "execution_count": 138,
      "outputs": [
        {
          "output_type": "display_data",
          "data": {
            "text/plain": [
              "<Figure size 2160x720 with 6 Axes>"
            ],
            "image/png": "[encoded data removed]"
          },
          "metadata": {
            "needs_background": "light"
          }
        }
      ]
    },
    {
      "cell_type": "code",
      "source": [
        "from sklearn.metrics import classification_report,confusion_matrix\n",
        "from sklearn.ensemble import RandomForestClassifier\n",
        "rf=RandomForestClassifier(random_state=42)\n",
        "rf.fit(X_oversample,y_oversample)\n",
        "y_pred1=rf.predict(X_test)\n",
        "cm= confusion_matrix(y_test,y_pred1)\n",
        "print(classification_report(y_test, y_pred1))\n",
        "print(cm)\n",
        "print(rf.score(X_test, y_test) , rf.score(X_oversample, y_oversample))"
      ],
      "metadata": {
        "colab": {
          "base_uri": "https://localhost:8080/"
        },
        "id": "mA6ntrZSlLU8",
        "outputId": "9bef599c-5e4b-4bcb-d264-bf490a5339b4"
      },
      "execution_count": 139,
      "outputs": [
        {
          "output_type": "stream",
          "name": "stdout",
          "text": [
            "              precision    recall  f1-score   support\n",
            "\n",
            "           0       0.83      0.88      0.86      1035\n",
            "           1       0.61      0.51      0.56       374\n",
            "\n",
            "    accuracy                           0.78      1409\n",
            "   macro avg       0.72      0.70      0.71      1409\n",
            "weighted avg       0.77      0.78      0.78      1409\n",
            "\n",
            "[[913 122]\n",
            " [183 191]]\n",
            "0.7835344215755855 0.998550374486591\n"
          ]
        }
      ]
    },
    {
      "cell_type": "code",
      "source": [
        "lig=LogisticRegression(random_state=42)\n",
        "lig.fit(X_oversample,y_oversample)\n",
        "print(classification_report(y_test, y_pred))\n",
        "print(cm)\n",
        "print(lig.score(X_test, y_test) , lig.score(X_oversample, y_oversample))"
      ],
      "metadata": {
        "colab": {
          "base_uri": "https://localhost:8080/"
        },
        "id": "0NSD8yLjnYLn",
        "outputId": "99fc24c9-bb77-49b5-fa85-1ac393b0def3"
      },
      "execution_count": 140,
      "outputs": [
        {
          "output_type": "stream",
          "name": "stdout",
          "text": [
            "              precision    recall  f1-score   support\n",
            "\n",
            "           0       0.83      0.90      0.86      1035\n",
            "           1       0.62      0.48      0.54       374\n",
            "\n",
            "    accuracy                           0.78      1409\n",
            "   macro avg       0.72      0.69      0.70      1409\n",
            "weighted avg       0.77      0.78      0.78      1409\n",
            "\n",
            "[[913 122]\n",
            " [183 191]]\n",
            "0.7402413058907026 0.7760328581783039\n"
          ]
        }
      ]
    },
    {
      "cell_type": "markdown",
      "source": [
        "##Hyperparameter tuning"
      ],
      "metadata": {
        "id": "SNKU20tTn9Yz"
      }
    },
    {
      "cell_type": "code",
      "source": [
        "from sklearn.model_selection import RandomizedSearchCV"
      ],
      "metadata": {
        "id": "o-sPwV-KoBWq"
      },
      "execution_count": 141,
      "outputs": []
    },
    {
      "cell_type": "code",
      "source": [
        "param_grid={\"n_estimators\":np.arange(50,200,50),\"max_depth\":np.arange(2,15,1),\"min_samples_leaf\":[1, 2, 4],\"min_samples_split\" : [2, 5, 10]}"
      ],
      "metadata": {
        "id": "M1PljZgdoYL8"
      },
      "execution_count": 142,
      "outputs": []
    },
    {
      "cell_type": "code",
      "source": [
        "rf1=RandomForestClassifier(random_state=42)\n",
        "rf1_cv = RandomizedSearchCV(rf1,param_grid,cv=10)\n",
        "rf1_cv.fit(X_oversample,y_oversample)\n",
        "print(rf1_cv.best_params_,rf1_cv.best_score_)"
      ],
      "metadata": {
        "colab": {
          "base_uri": "https://localhost:8080/"
        },
        "id": "MMOL452Mp1-U",
        "outputId": "18910523-3183-453f-921e-b53a85db8c13"
      },
      "execution_count": 143,
      "outputs": [
        {
          "output_type": "stream",
          "name": "stdout",
          "text": [
            "{'n_estimators': 150, 'min_samples_split': 2, 'min_samples_leaf': 4, 'max_depth': 14} 0.855171915251564\n"
          ]
        }
      ]
    },
    {
      "cell_type": "code",
      "source": [
        "rf2=RandomForestClassifier(n_estimators=100,min_samples_split=10,min_samples_leaf=2,max_depth=13,random_state=42)\n",
        "rf2.fit(X_oversample,y_oversample)\n",
        "y_pred3=rf2.predict(X_test)\n",
        "print(classification_report(y_test, y_pred3))\n",
        "print(rf2.score(X_test, y_test) , rf2.score(X_oversample, y_oversample))"
      ],
      "metadata": {
        "colab": {
          "base_uri": "https://localhost:8080/"
        },
        "id": "0WClBKzkrjss",
        "outputId": "5e9a5ddd-c03b-4471-8369-deb16264e065"
      },
      "execution_count": 144,
      "outputs": [
        {
          "output_type": "stream",
          "name": "stdout",
          "text": [
            "              precision    recall  f1-score   support\n",
            "\n",
            "           0       0.86      0.86      0.86      1035\n",
            "           1       0.61      0.60      0.60       374\n",
            "\n",
            "    accuracy                           0.79      1409\n",
            "   macro avg       0.73      0.73      0.73      1409\n",
            "weighted avg       0.79      0.79      0.79      1409\n",
            "\n",
            "0.7920511000709723 0.9077071756462913\n"
          ]
        }
      ]
    },
    {
      "cell_type": "code",
      "source": [
        "rf=RandomForestClassifier(random_state=42)\n",
        "rf_cv = RandomizedSearchCV(rf1,param_grid,cv=10)\n",
        "rf_cv.fit(X_train,y_train)\n",
        "print(rf_cv.best_params_,rf_cv.best_score_)"
      ],
      "metadata": {
        "colab": {
          "base_uri": "https://localhost:8080/"
        },
        "id": "KHuD6jIesYfg",
        "outputId": "f8d261f1-2c3b-40b1-f5a7-fa67235fa306"
      },
      "execution_count": 145,
      "outputs": [
        {
          "output_type": "stream",
          "name": "stdout",
          "text": [
            "{'n_estimators': 50, 'min_samples_split': 10, 'min_samples_leaf': 4, 'max_depth': 9} 0.8015544889963847\n"
          ]
        }
      ]
    },
    {
      "cell_type": "code",
      "source": [
        "rf3=RandomForestClassifier(n_estimators=50,min_samples_split=2,min_samples_leaf=4,max_depth=9,random_state=42)\n",
        "rf3.fit(X_train,y_train)\n",
        "y_pred4=rf2.predict(X_test)\n",
        "print(classification_report(y_test, y_pred4))\n",
        "print(rf3.score(X_test, y_test) , rf3.score(X_train, y_train))"
      ],
      "metadata": {
        "colab": {
          "base_uri": "https://localhost:8080/"
        },
        "id": "Ljlycowmuy_Q",
        "outputId": "a988f743-5063-46cc-ac33-1b89472f0d9c"
      },
      "execution_count": 146,
      "outputs": [
        {
          "output_type": "stream",
          "name": "stdout",
          "text": [
            "              precision    recall  f1-score   support\n",
            "\n",
            "           0       0.86      0.86      0.86      1035\n",
            "           1       0.61      0.60      0.60       374\n",
            "\n",
            "    accuracy                           0.79      1409\n",
            "   macro avg       0.73      0.73      0.73      1409\n",
            "weighted avg       0.79      0.79      0.79      1409\n",
            "\n",
            "0.8026969481902059 0.836528221512247\n"
          ]
        }
      ]
    },
    {
      "cell_type": "markdown",
      "source": [
        "##UnderSampling"
      ],
      "metadata": {
        "id": "5WfW7Ryf0YNh"
      }
    },
    {
      "cell_type": "code",
      "source": [
        "from imblearn.under_sampling import NearMiss"
      ],
      "metadata": {
        "id": "6qXS7xUJ0dSO"
      },
      "execution_count": 147,
      "outputs": []
    },
    {
      "cell_type": "code",
      "source": [
        "nm2 = NearMiss(version=2)\n",
        "X_undersample, y_undersample = nm2.fit_resample(X_train, y_train)"
      ],
      "metadata": {
        "id": "Uvk10p6L0rr1"
      },
      "execution_count": 148,
      "outputs": []
    },
    {
      "cell_type": "code",
      "source": [
        "X_undersample.shape"
      ],
      "metadata": {
        "colab": {
          "base_uri": "https://localhost:8080/"
        },
        "id": "pDsGjznA0zEV",
        "outputId": "ab3b0f67-3380-4f6d-ce84-3d0a0a5c3b6e"
      },
      "execution_count": 149,
      "outputs": [
        {
          "output_type": "execute_result",
          "data": {
            "text/plain": [
              "(2990, 23)"
            ]
          },
          "metadata": {},
          "execution_count": 149
        }
      ]
    },
    {
      "cell_type": "code",
      "source": [
        "rf_un=RandomForestClassifier(random_state=42)\n",
        "rf_un.fit(X_undersample, y_undersample)\n",
        "y_pred5=rf_un.predict(X_test)\n",
        "print(classification_report(y_test, y_pred5))\n",
        "print(rf_un.score(X_test, y_test) , rf_un.score(X_undersample, y_undersample))"
      ],
      "metadata": {
        "colab": {
          "base_uri": "https://localhost:8080/"
        },
        "id": "oUAjcf3O0-ED",
        "outputId": "79c090ad-d3e5-4559-ef70-a770b9a7a858"
      },
      "execution_count": 150,
      "outputs": [
        {
          "output_type": "stream",
          "name": "stdout",
          "text": [
            "              precision    recall  f1-score   support\n",
            "\n",
            "           0       0.85      0.34      0.48      1035\n",
            "           1       0.31      0.83      0.45       374\n",
            "\n",
            "    accuracy                           0.47      1409\n",
            "   macro avg       0.58      0.58      0.47      1409\n",
            "weighted avg       0.71      0.47      0.47      1409\n",
            "\n",
            "0.46770759403832507 1.0\n"
          ]
        }
      ]
    },
    {
      "cell_type": "code",
      "source": [
        "rf_un_cv = RandomizedSearchCV(rf_un,param_grid,cv=10)\n",
        "rf_un_cv.fit(X_undersample, y_undersample)\n",
        "print(rf_cv.best_params_,rf_cv.best_score_)"
      ],
      "metadata": {
        "colab": {
          "base_uri": "https://localhost:8080/"
        },
        "id": "3T6lrd7c04yG",
        "outputId": "be7a69c3-d031-41fe-944c-04ae2cb6503f"
      },
      "execution_count": 151,
      "outputs": [
        {
          "output_type": "stream",
          "name": "stdout",
          "text": [
            "{'n_estimators': 50, 'min_samples_split': 10, 'min_samples_leaf': 4, 'max_depth': 9} 0.8015544889963847\n"
          ]
        }
      ]
    },
    {
      "cell_type": "code",
      "source": [
        "rf_un_2=RandomForestClassifier(n_estimators=50,min_samples_split=2,min_samples_leaf=4,max_depth=9,random_state=42)\n",
        "rf_un_2.fit(X_undersample, y_undersample)\n",
        "y_pred6=rf_un_2.predict(X_test)\n",
        "print(classification_report(y_test, y_pred6))\n",
        "print(rf_un_2.score(X_test, y_test) , rf_un_2.score(X_undersample, y_undersample))"
      ],
      "metadata": {
        "colab": {
          "base_uri": "https://localhost:8080/"
        },
        "id": "P9-JP8d31oGG",
        "outputId": "36f89526-e844-4850-8f7a-aefaac59553a"
      },
      "execution_count": 152,
      "outputs": [
        {
          "output_type": "stream",
          "name": "stdout",
          "text": [
            "              precision    recall  f1-score   support\n",
            "\n",
            "           0       0.84      0.35      0.50      1035\n",
            "           1       0.31      0.82      0.45       374\n",
            "\n",
            "    accuracy                           0.48      1409\n",
            "   macro avg       0.58      0.59      0.48      1409\n",
            "weighted avg       0.70      0.48      0.49      1409\n",
            "\n",
            "0.47693399574166073 0.9053511705685618\n"
          ]
        }
      ]
    },
    {
      "cell_type": "markdown",
      "source": [
        "##OverSampling FeatureSelection Model Tuning"
      ],
      "metadata": {
        "id": "awMvX69o9boi"
      }
    },
    {
      "cell_type": "code",
      "source": [
        "from imblearn.over_sampling import SMOTE, ADASYN"
      ],
      "metadata": {
        "id": "V9gh6tcp9o7E"
      },
      "execution_count": 153,
      "outputs": []
    },
    {
      "cell_type": "code",
      "source": [
        "X_train, X_test, y_train, y_test = train_test_split(X, y, test_size=0.2, random_state=42, stratify=y)"
      ],
      "metadata": {
        "id": "SOj5m6Gy-FqI"
      },
      "execution_count": 154,
      "outputs": []
    },
    {
      "cell_type": "code",
      "source": [
        "X_oversample, y_oversample = SMOTE().fit_resample(X_train, y_train)"
      ],
      "metadata": {
        "id": "z1Kt6yE6-IHZ"
      },
      "execution_count": 155,
      "outputs": []
    },
    {
      "cell_type": "code",
      "source": [
        "X_oversample.shape"
      ],
      "metadata": {
        "colab": {
          "base_uri": "https://localhost:8080/"
        },
        "id": "y46wCm4W-l4M",
        "outputId": "1dd6b60e-7f0b-44f1-cf37-64a559f34015"
      },
      "execution_count": 156,
      "outputs": [
        {
          "output_type": "execute_result",
          "data": {
            "text/plain": [
              "(8278, 23)"
            ]
          },
          "metadata": {},
          "execution_count": 156
        }
      ]
    },
    {
      "cell_type": "code",
      "source": [
        "y_oversample.shape"
      ],
      "metadata": {
        "colab": {
          "base_uri": "https://localhost:8080/"
        },
        "id": "dPAShT4k_N-r",
        "outputId": "9e693e2a-1f30-46af-c014-8858db0397f2"
      },
      "execution_count": 204,
      "outputs": [
        {
          "output_type": "execute_result",
          "data": {
            "text/plain": [
              "(8278,)"
            ]
          },
          "metadata": {},
          "execution_count": 204
        }
      ]
    },
    {
      "cell_type": "code",
      "source": [
        "X_new= SelectKBest(chi2, k=14 ).fit_transform(X_oversample, y_oversample )"
      ],
      "metadata": {
        "id": "T5DqplWr-JQN"
      },
      "execution_count": 158,
      "outputs": []
    },
    {
      "cell_type": "code",
      "source": [
        "X_new.shape"
      ],
      "metadata": {
        "colab": {
          "base_uri": "https://localhost:8080/"
        },
        "id": "KtfA175g-c3N",
        "outputId": "1e2282fa-566f-43f4-f38a-15ba5ccd88b1"
      },
      "execution_count": 159,
      "outputs": [
        {
          "output_type": "execute_result",
          "data": {
            "text/plain": [
              "(8278, 14)"
            ]
          },
          "metadata": {},
          "execution_count": 159
        }
      ]
    },
    {
      "cell_type": "code",
      "source": [
        "X_train1, X_test1, y_train1, y_test1 = train_test_split(X_new, y_oversample, test_size=0.2, random_state=42, stratify=y_oversample)"
      ],
      "metadata": {
        "id": "D19HFqCf-ol9"
      },
      "execution_count": 160,
      "outputs": []
    },
    {
      "cell_type": "code",
      "source": [
        "oversample_classifiers = {\n",
        "    'LogisticRegression': LogisticRegression(solver='sag'),\n",
        "    'KNearest': KNeighborsClassifier(),\n",
        "    'RandomForestClassifier': RandomForestClassifier()\n",
        "}"
      ],
      "metadata": {
        "id": "t6JeN171_U-C"
      },
      "execution_count": 161,
      "outputs": []
    },
    {
      "cell_type": "code",
      "source": [
        "for key, cls in oversample_classifiers.items():\n",
        "    training_score = cross_val_score(cls, X_oversample, y_oversample, cv=5)\n",
        "    cls.fit(X_oversample, y_oversample)\n",
        "    print(\"Classifier: \", cls.__class__.__name__,\n",
        "          \"has a training score of\", round(training_score.mean(), 2) * 100,\n",
        "          \"% accuracy score\")"
      ],
      "metadata": {
        "colab": {
          "base_uri": "https://localhost:8080/"
        },
        "id": "12DhRBin_h2k",
        "outputId": "6f3f051c-0c6d-4e41-ab34-a9abd8de8666"
      },
      "execution_count": 162,
      "outputs": [
        {
          "output_type": "stream",
          "name": "stdout",
          "text": [
            "Classifier:  LogisticRegression has a training score of 72.0 % accuracy score\n",
            "Classifier:  KNeighborsClassifier has a training score of 78.0 % accuracy score\n",
            "Classifier:  RandomForestClassifier has a training score of 84.0 % accuracy score\n"
          ]
        }
      ]
    },
    {
      "cell_type": "code",
      "source": [
        "from sklearn.metrics import classification_report,confusion_matrix\n",
        "from sklearn.ensemble import RandomForestClassifier\n",
        "rf=RandomForestClassifier(random_state=42)\n",
        "rf.fit(X_train1,y_train1)\n",
        "y_pred1=rf.predict(X_test1)\n",
        "print(classification_report(y_test1, y_pred1))\n",
        "print(rf.score(X_test1, y_test1) , rf.score(X_train1, y_train1))"
      ],
      "metadata": {
        "colab": {
          "base_uri": "https://localhost:8080/"
        },
        "id": "I6idWylZ_oyW",
        "outputId": "88be8024-d321-48f5-b97e-6adfd3a773cb"
      },
      "execution_count": 163,
      "outputs": [
        {
          "output_type": "stream",
          "name": "stdout",
          "text": [
            "              precision    recall  f1-score   support\n",
            "\n",
            "           0       0.83      0.84      0.83       828\n",
            "           1       0.84      0.83      0.83       828\n",
            "\n",
            "    accuracy                           0.83      1656\n",
            "   macro avg       0.83      0.83      0.83      1656\n",
            "weighted avg       0.83      0.83      0.83      1656\n",
            "\n",
            "0.8321256038647343 0.9965267290848686\n"
          ]
        }
      ]
    },
    {
      "cell_type": "code",
      "source": [
        "from sklearn.model_selection import RandomizedSearchCV"
      ],
      "metadata": {
        "id": "Vwa9OtEyACfJ"
      },
      "execution_count": 164,
      "outputs": []
    },
    {
      "cell_type": "code",
      "source": [
        "param_grid={\"n_estimators\":np.arange(50,200,50),\"max_depth\":np.arange(2,15,1),\"min_samples_leaf\":[1, 2, 4],\"min_samples_split\" : [2, 5, 10]}"
      ],
      "metadata": {
        "id": "ts6exrX6Axik"
      },
      "execution_count": 165,
      "outputs": []
    },
    {
      "cell_type": "code",
      "source": [
        "rf_hy=RandomForestClassifier(random_state=42)\n",
        "rf_hy = RandomizedSearchCV(rf,param_grid,cv=10)\n",
        "rf_hy.fit(X_train1,y_train1)\n",
        "print(rf_hy.best_params_,rf_hy.best_score_)"
      ],
      "metadata": {
        "colab": {
          "base_uri": "https://localhost:8080/"
        },
        "id": "fiqXx4iQAF4i",
        "outputId": "af50677b-c743-4194-9546-041e19eb6130"
      },
      "execution_count": 166,
      "outputs": [
        {
          "output_type": "stream",
          "name": "stdout",
          "text": [
            "{'n_estimators': 150, 'min_samples_split': 5, 'min_samples_leaf': 1, 'max_depth': 13} 0.8372120681877213\n"
          ]
        }
      ]
    },
    {
      "cell_type": "code",
      "source": [
        "rf_f=RandomForestClassifier(n_estimators=150,min_samples_split=10,min_samples_leaf=1,max_depth=11,random_state=42)\n",
        "rf_f.fit(X_train1,y_train1)\n",
        "y_pred10=rf_f.predict(X_test1)\n",
        "print(classification_report(y_test1, y_pred10))\n",
        "print(rf_f.score(X_test1, y_test1) , rf_f.score(X_train1, y_train1))"
      ],
      "metadata": {
        "colab": {
          "base_uri": "https://localhost:8080/"
        },
        "id": "J25Dnp19AV3H",
        "outputId": "eadfd32f-c73f-4421-fd49-2844757d8410"
      },
      "execution_count": 167,
      "outputs": [
        {
          "output_type": "stream",
          "name": "stdout",
          "text": [
            "              precision    recall  f1-score   support\n",
            "\n",
            "           0       0.85      0.83      0.84       828\n",
            "           1       0.83      0.86      0.84       828\n",
            "\n",
            "    accuracy                           0.84      1656\n",
            "   macro avg       0.84      0.84      0.84      1656\n",
            "weighted avg       0.84      0.84      0.84      1656\n",
            "\n",
            "0.8417874396135265 0.8813047417698581\n"
          ]
        }
      ]
    },
    {
      "cell_type": "markdown",
      "source": [
        "##feature selection train test oversampling model tuning"
      ],
      "metadata": {
        "id": "flqy_0CRHx9o"
      }
    },
    {
      "cell_type": "code",
      "source": [
        "X_new1= SelectKBest(chi2, k=14 ).fit_transform(X, y)"
      ],
      "metadata": {
        "id": "_pFK2ST0H-ZN"
      },
      "execution_count": 168,
      "outputs": []
    },
    {
      "cell_type": "code",
      "source": [
        "X_new1.shape"
      ],
      "metadata": {
        "colab": {
          "base_uri": "https://localhost:8080/"
        },
        "id": "oYijnAObIJ19",
        "outputId": "c7f0a419-a61f-4633-e16c-565a506a7d77"
      },
      "execution_count": 169,
      "outputs": [
        {
          "output_type": "execute_result",
          "data": {
            "text/plain": [
              "(7043, 14)"
            ]
          },
          "metadata": {},
          "execution_count": 169
        }
      ]
    },
    {
      "cell_type": "code",
      "source": [
        "X_train2, X_test2, y_train2, y_test2 = train_test_split(X_new1, y, test_size=0.2, random_state=42, stratify=y)"
      ],
      "metadata": {
        "id": "OLRJ-1rhIarR"
      },
      "execution_count": 170,
      "outputs": []
    },
    {
      "cell_type": "code",
      "source": [
        "X_oversample2, y_oversample2 = SMOTE().fit_resample(X_train2, y_train2)"
      ],
      "metadata": {
        "id": "LU44z8StIoAZ"
      },
      "execution_count": 171,
      "outputs": []
    },
    {
      "cell_type": "code",
      "source": [
        "rf2=RandomForestClassifier(random_state=42)\n",
        "rf2.fit(X_oversample2, y_oversample2)\n",
        "y_pred2=rf2.predict(X_test2)\n",
        "print(classification_report(y_test2, y_pred2))\n",
        "print(rf2.score(X_test2, y_test2) , rf2.score(X_oversample2, y_oversample2))"
      ],
      "metadata": {
        "colab": {
          "base_uri": "https://localhost:8080/"
        },
        "id": "yWA9chuOI1zK",
        "outputId": "6329ffd5-6c55-4083-85c8-73c6ce2fdd66"
      },
      "execution_count": 172,
      "outputs": [
        {
          "output_type": "stream",
          "name": "stdout",
          "text": [
            "              precision    recall  f1-score   support\n",
            "\n",
            "           0       0.84      0.86      0.85      1035\n",
            "           1       0.58      0.53      0.56       374\n",
            "\n",
            "    accuracy                           0.78      1409\n",
            "   macro avg       0.71      0.70      0.70      1409\n",
            "weighted avg       0.77      0.78      0.77      1409\n",
            "\n",
            "0.7757274662881476 0.997704759603769\n"
          ]
        }
      ]
    },
    {
      "cell_type": "code",
      "source": [
        "param_grid={\"n_estimators\":np.arange(50,200,50),\"max_depth\":np.arange(2,15,1),\"min_samples_leaf\":[1, 2, 4],\"min_samples_split\" : [2, 5, 10]}"
      ],
      "metadata": {
        "id": "nbF88ICqI7IX"
      },
      "execution_count": 173,
      "outputs": []
    },
    {
      "cell_type": "code",
      "source": [
        "rf_2=RandomForestClassifier(random_state=42)\n",
        "rf_2 = RandomizedSearchCV(rf2,param_grid,cv=10)\n",
        "rf_2.fit(X_oversample2, y_oversample2)\n",
        "print(rf_2.best_params_,rf_2.best_score_)"
      ],
      "metadata": {
        "colab": {
          "base_uri": "https://localhost:8080/"
        },
        "id": "YHG9n8IxI9JN",
        "outputId": "7609194d-ba38-4764-81ab-08145a125804"
      },
      "execution_count": 174,
      "outputs": [
        {
          "output_type": "stream",
          "name": "stdout",
          "text": [
            "{'n_estimators': 150, 'min_samples_split': 10, 'min_samples_leaf': 1, 'max_depth': 14} 0.8503390988906997\n"
          ]
        }
      ]
    },
    {
      "cell_type": "code",
      "source": [
        "rf_f2=RandomForestClassifier(n_estimators=100,min_samples_split=10,min_samples_leaf=1,max_depth=11,random_state=42)\n",
        "rf_f2.fit(X_oversample2, y_oversample2)\n",
        "y_pred11=rf_f2.predict(X_test2)\n",
        "print(classification_report(y_test2, y_pred11))\n",
        "print(rf_f.score(X_test2, y_test2) , rf_f.score(X_oversample2, y_oversample2))"
      ],
      "metadata": {
        "colab": {
          "base_uri": "https://localhost:8080/"
        },
        "id": "an9n6_C5I-kP",
        "outputId": "096f7872-4d4b-487f-a96b-f17e9ca33b40"
      },
      "execution_count": 175,
      "outputs": [
        {
          "output_type": "stream",
          "name": "stdout",
          "text": [
            "              precision    recall  f1-score   support\n",
            "\n",
            "           0       0.86      0.85      0.85      1035\n",
            "           1       0.59      0.62      0.61       374\n",
            "\n",
            "    accuracy                           0.79      1409\n",
            "   macro avg       0.73      0.73      0.73      1409\n",
            "weighted avg       0.79      0.79      0.79      1409\n",
            "\n",
            "0.7288857345635202 0.5705484416525731\n"
          ]
        }
      ]
    },
    {
      "cell_type": "code",
      "source": [
        "from sklearn.ensemble import AdaBoostClassifier"
      ],
      "metadata": {
        "id": "I6XdeEDoSY7z"
      },
      "execution_count": 176,
      "outputs": []
    },
    {
      "cell_type": "code",
      "source": [
        "ada=AdaBoostClassifier(random_state=42)\n",
        "ada.fit(X_oversample2, y_oversample2)\n",
        "y_pred15=ada.predict(X_test2)\n",
        "print(classification_report(y_test2, y_pred15))\n",
        "print(ada.score(X_test2, y_test2) , ada.score(X_oversample2, y_oversample2))"
      ],
      "metadata": {
        "colab": {
          "base_uri": "https://localhost:8080/"
        },
        "id": "jXLmvdclS24T",
        "outputId": "70dcf006-143a-4f81-aeb2-3a75a9661390"
      },
      "execution_count": 177,
      "outputs": [
        {
          "output_type": "stream",
          "name": "stdout",
          "text": [
            "              precision    recall  f1-score   support\n",
            "\n",
            "           0       0.87      0.81      0.84      1035\n",
            "           1       0.56      0.68      0.61       374\n",
            "\n",
            "    accuracy                           0.77      1409\n",
            "   macro avg       0.72      0.74      0.72      1409\n",
            "weighted avg       0.79      0.77      0.78      1409\n",
            "\n",
            "0.7714691270404542 0.8496013529838126\n"
          ]
        }
      ]
    },
    {
      "cell_type": "code",
      "source": [
        "param_grid_ada={\"n_estimators\":np.arange(50,200,50),'learning_rate':np.arange(0.1,2,0.1)}"
      ],
      "metadata": {
        "id": "jNaUIKLXTp-7"
      },
      "execution_count": 178,
      "outputs": []
    },
    {
      "cell_type": "code",
      "source": [
        "\n",
        "ada_ht = RandomizedSearchCV(ada,param_grid_ada,cv=10)\n",
        "ada_ht.fit(X_oversample2, y_oversample2)\n",
        "print(ada_ht.best_params_,ada_ht.best_score_)"
      ],
      "metadata": {
        "colab": {
          "base_uri": "https://localhost:8080/"
        },
        "id": "ATu8FeryUK3x",
        "outputId": "1decf92e-7ee7-41b0-f1dd-2002dea855b1"
      },
      "execution_count": 179,
      "outputs": [
        {
          "output_type": "stream",
          "name": "stdout",
          "text": [
            "{'n_estimators': 100, 'learning_rate': 1.2000000000000002} 0.8487681743569973\n"
          ]
        }
      ]
    },
    {
      "cell_type": "code",
      "source": [
        "ada_f=AdaBoostClassifier(n_estimators=100,learning_rate= 1.2,random_state=42)\n",
        "ada_f.fit(X_oversample2, y_oversample2)\n",
        "y_pred17=ada_f.predict(X_test2)\n",
        "print(classification_report(y_test2, y_pred17))\n",
        "print(ada_f.score(X_test2, y_test2) , ada_f.score(X_oversample2, y_oversample2))"
      ],
      "metadata": {
        "colab": {
          "base_uri": "https://localhost:8080/"
        },
        "id": "1fxZ9EO1Ub9l",
        "outputId": "c096c093-03a2-4df2-8155-d5ee60cf326e"
      },
      "execution_count": 202,
      "outputs": [
        {
          "output_type": "stream",
          "name": "stdout",
          "text": [
            "              precision    recall  f1-score   support\n",
            "\n",
            "           0       0.87      0.84      0.85      1035\n",
            "           1       0.60      0.65      0.62       374\n",
            "\n",
            "    accuracy                           0.79      1409\n",
            "   macro avg       0.73      0.74      0.74      1409\n",
            "weighted avg       0.80      0.79      0.79      1409\n",
            "\n",
            "0.7899219304471257 0.8599903358299106\n"
          ]
        }
      ]
    },
    {
      "cell_type": "code",
      "source": [
        "from sklearn.ensemble import GradientBoostingClassifier"
      ],
      "metadata": {
        "id": "kt9VBMf-UcZf"
      },
      "execution_count": 181,
      "outputs": []
    },
    {
      "cell_type": "code",
      "source": [
        "gra=GradientBoostingClassifier(random_state=42)\n",
        "gra.fit(X_oversample2, y_oversample2)\n",
        "y_pred18=gra.predict(X_test2)\n",
        "print(classification_report(y_test2, y_pred18))\n",
        "print(gra.score(X_test2, y_test2) , gra.score(X_oversample2, y_oversample2))"
      ],
      "metadata": {
        "colab": {
          "base_uri": "https://localhost:8080/"
        },
        "id": "zji81EOSUgpt",
        "outputId": "96fa6949-c6dc-4167-e796-5e829b488373"
      },
      "execution_count": 182,
      "outputs": [
        {
          "output_type": "stream",
          "name": "stdout",
          "text": [
            "              precision    recall  f1-score   support\n",
            "\n",
            "           0       0.86      0.85      0.86      1035\n",
            "           1       0.60      0.63      0.62       374\n",
            "\n",
            "    accuracy                           0.79      1409\n",
            "   macro avg       0.73      0.74      0.74      1409\n",
            "weighted avg       0.79      0.79      0.79      1409\n",
            "\n",
            "0.7906316536550745 0.8689296931625997\n"
          ]
        }
      ]
    },
    {
      "cell_type": "code",
      "source": [
        "gra_ht = RandomizedSearchCV(gra,param_grid_ada,cv=10)\n",
        "gra_ht.fit(X_oversample2, y_oversample2)\n",
        "print(gra_ht.best_params_,gra_ht.best_score_)"
      ],
      "metadata": {
        "colab": {
          "base_uri": "https://localhost:8080/"
        },
        "id": "EN_2nDmWU3qZ",
        "outputId": "1b0224ba-190c-415b-c4e4-81bc5f0bb9f9"
      },
      "execution_count": 183,
      "outputs": [
        {
          "output_type": "stream",
          "name": "stdout",
          "text": [
            "{'n_estimators': 100, 'learning_rate': 0.1} 0.8485277967626426\n"
          ]
        }
      ]
    },
    {
      "cell_type": "code",
      "source": [
        "gra_f=GradientBoostingClassifier(n_estimators= 100, learning_rate= 0.1,random_state=42)\n",
        "gra_f.fit(X_oversample2, y_oversample2)\n",
        "y_pred19=gra_f.predict(X_test2)\n",
        "print(classification_report(y_test2, y_pred19))\n",
        "print(gra_f.score(X_test2, y_test2) , gra_f.score(X_oversample2, y_oversample2))"
      ],
      "metadata": {
        "colab": {
          "base_uri": "https://localhost:8080/"
        },
        "id": "jfTDQJ38VViv",
        "outputId": "d37decd8-4fe0-422c-f5be-d0c45ff87f01"
      },
      "execution_count": 203,
      "outputs": [
        {
          "output_type": "stream",
          "name": "stdout",
          "text": [
            "              precision    recall  f1-score   support\n",
            "\n",
            "           0       0.86      0.85      0.86      1035\n",
            "           1       0.60      0.63      0.62       374\n",
            "\n",
            "    accuracy                           0.79      1409\n",
            "   macro avg       0.73      0.74      0.74      1409\n",
            "weighted avg       0.79      0.79      0.79      1409\n",
            "\n",
            "0.7906316536550745 0.8689296931625997\n"
          ]
        }
      ]
    },
    {
      "cell_type": "code",
      "source": [
        "import xgboost as xgb\n",
        "xgboost = xgb.XGBClassifier()\n",
        "xgboost.fit(X_oversample2, y_oversample2)\n",
        "y_pred20=xgboost.predict(X_test2)\n",
        "print(classification_report(y_test2, y_pred20))\n",
        "print(xgboost.score(X_test2, y_test2) , xgboost.score(X_oversample2, y_oversample2))"
      ],
      "metadata": {
        "colab": {
          "base_uri": "https://localhost:8080/"
        },
        "id": "IBPvxBBgXQBd",
        "outputId": "94404562-cb11-4214-ead3-5567f9691c00"
      },
      "execution_count": 185,
      "outputs": [
        {
          "output_type": "stream",
          "name": "stdout",
          "text": [
            "              precision    recall  f1-score   support\n",
            "\n",
            "           0       0.87      0.85      0.86      1035\n",
            "           1       0.60      0.64      0.62       374\n",
            "\n",
            "    accuracy                           0.79      1409\n",
            "   macro avg       0.74      0.74      0.74      1409\n",
            "weighted avg       0.80      0.79      0.79      1409\n",
            "\n",
            "0.7927608232789212 0.8654264315051945\n"
          ]
        }
      ]
    },
    {
      "cell_type": "code",
      "source": [
        "from sklearn.ensemble import VotingClassifier"
      ],
      "metadata": {
        "id": "GaACjhNtjFjp"
      },
      "execution_count": 186,
      "outputs": []
    },
    {
      "cell_type": "code",
      "source": [
        "\n",
        "xgboost = xgb.XGBClassifier()"
      ],
      "metadata": {
        "id": "z2lGbOfI4M2G"
      },
      "execution_count": 187,
      "outputs": []
    },
    {
      "cell_type": "code",
      "source": [
        "classifier=[('adaboosting',AdaBoostClassifier(random_state=42)),('GradientBoosting',GradientBoostingClassifier(random_state=42)),('xgboost' ,xgb.XGBClassifier())]"
      ],
      "metadata": {
        "id": "HOAK9HECjVgt"
      },
      "execution_count": 188,
      "outputs": []
    },
    {
      "cell_type": "code",
      "source": [
        "vc = VotingClassifier(estimators=classifier)"
      ],
      "metadata": {
        "id": "vQl3CxG55ZG6"
      },
      "execution_count": 189,
      "outputs": []
    },
    {
      "cell_type": "code",
      "source": [
        "vc.fit(X_oversample2, y_oversample2)"
      ],
      "metadata": {
        "colab": {
          "base_uri": "https://localhost:8080/"
        },
        "id": "7I7uBpXT5eOe",
        "outputId": "b5419da7-7f55-422f-b37a-86c3ef4b8a5d"
      },
      "execution_count": 190,
      "outputs": [
        {
          "output_type": "execute_result",
          "data": {
            "text/plain": [
              "VotingClassifier(estimators=[('adaboosting',\n",
              "                              AdaBoostClassifier(random_state=42)),\n",
              "                             ('GradientBoosting',\n",
              "                              GradientBoostingClassifier(random_state=42)),\n",
              "                             ('xgboost', XGBClassifier())])"
            ]
          },
          "metadata": {},
          "execution_count": 190
        }
      ]
    },
    {
      "cell_type": "code",
      "source": [
        "y_pred21 = vc.predict(X_test2)"
      ],
      "metadata": {
        "id": "NU20Bfdz5kjV"
      },
      "execution_count": 191,
      "outputs": []
    },
    {
      "cell_type": "code",
      "source": [
        "print(classification_report(y_test2, y_pred21))\n",
        "print(vc.score(X_test2, y_test2) , vc.score(X_oversample2, y_oversample2))"
      ],
      "metadata": {
        "colab": {
          "base_uri": "https://localhost:8080/"
        },
        "id": "BqN5fHEI5pHl",
        "outputId": "04039e22-33b4-4fa2-b582-30cf4124193c"
      },
      "execution_count": 192,
      "outputs": [
        {
          "output_type": "stream",
          "name": "stdout",
          "text": [
            "              precision    recall  f1-score   support\n",
            "\n",
            "           0       0.87      0.84      0.85      1035\n",
            "           1       0.60      0.64      0.62       374\n",
            "\n",
            "    accuracy                           0.79      1409\n",
            "   macro avg       0.73      0.74      0.74      1409\n",
            "weighted avg       0.79      0.79      0.79      1409\n",
            "\n",
            "0.7892122072391767 0.8657888378835468\n"
          ]
        }
      ]
    },
    {
      "cell_type": "markdown",
      "source": [
        "## Hybrid"
      ],
      "metadata": {
        "id": "R0lP6lhEc2XF"
      }
    },
    {
      "cell_type": "code",
      "source": [
        "from imblearn.ensemble import BalancedBaggingClassifier\n",
        "from imblearn.ensemble import EasyEnsembleClassifier"
      ],
      "metadata": {
        "id": "v2ka8MUq5zDw"
      },
      "execution_count": 193,
      "outputs": []
    },
    {
      "cell_type": "code",
      "source": [
        "hybrid_classifiers = {\n",
        "    'BalancedBaggingClassifier': BalancedBaggingClassifier(random_state=23, sampling_strategy='auto'),\n",
        "    'EasyEnsembleClassifier': EasyEnsembleClassifier(random_state=23, n_estimators=5,sampling_strategy='not minority')\n",
        "}"
      ],
      "metadata": {
        "id": "SM2U7esGoSK7"
      },
      "execution_count": 194,
      "outputs": []
    },
    {
      "cell_type": "markdown",
      "source": [
        "##feature selection train test undersampling model tuning"
      ],
      "metadata": {
        "id": "FwpcR3lf97em"
      }
    },
    {
      "cell_type": "code",
      "source": [
        "from imblearn.under_sampling import NearMiss"
      ],
      "metadata": {
        "id": "6ttPaFpl-erB"
      },
      "execution_count": 195,
      "outputs": []
    },
    {
      "cell_type": "code",
      "source": [
        "X_new2= SelectKBest(chi2, k=14 ).fit_transform(X, y)"
      ],
      "metadata": {
        "id": "yle-z-dg-0JF"
      },
      "execution_count": 196,
      "outputs": []
    },
    {
      "cell_type": "code",
      "source": [
        "X_train3, X_test3, y_train3, y_test3 = train_test_split(X_new2, y, test_size=0.2, random_state=42, stratify=y)"
      ],
      "metadata": {
        "id": "jC5LV3sg-3Ew"
      },
      "execution_count": 197,
      "outputs": []
    },
    {
      "cell_type": "code",
      "source": [
        "nm2 = NearMiss(version=2)\n",
        "X_undersample1, y_undersample1 = nm2.fit_resample(X_train3, y_train3)"
      ],
      "metadata": {
        "id": "ouoBd3wI-m_n"
      },
      "execution_count": 198,
      "outputs": []
    },
    {
      "cell_type": "code",
      "source": [
        "rf3=RandomForestClassifier(random_state=42)\n",
        "rf3.fit(X_undersample1, y_undersample1)\n",
        "y_pred3=rf3.predict(X_test3)\n",
        "print(classification_report(y_test3, y_pred3))\n",
        "print(rf3.score(X_test3, y_test3) , rf3.score(X_undersample1, y_undersample1))"
      ],
      "metadata": {
        "id": "Ec8RGCen_D3S",
        "colab": {
          "base_uri": "https://localhost:8080/"
        },
        "outputId": "f5b3b2de-3426-4e96-f5d8-b3197b8ca80d"
      },
      "execution_count": 199,
      "outputs": [
        {
          "output_type": "stream",
          "name": "stdout",
          "text": [
            "              precision    recall  f1-score   support\n",
            "\n",
            "           0       0.86      0.33      0.47      1035\n",
            "           1       0.31      0.85      0.46       374\n",
            "\n",
            "    accuracy                           0.47      1409\n",
            "   macro avg       0.58      0.59      0.47      1409\n",
            "weighted avg       0.71      0.47      0.47      1409\n",
            "\n",
            "0.46557842441447833 1.0\n"
          ]
        }
      ]
    },
    {
      "cell_type": "code",
      "source": [
        "rf_3=RandomForestClassifier(random_state=42)\n",
        "rf_3 = RandomizedSearchCV(rf3,param_grid,cv=10)\n",
        "rf_3.fit(X_undersample1, y_undersample1)\n",
        "print(rf_3.best_params_,rf_3.best_score_)"
      ],
      "metadata": {
        "id": "zTkEvghs_TUZ",
        "colab": {
          "base_uri": "https://localhost:8080/"
        },
        "outputId": "3cebca9f-4aeb-46b7-fa6c-b1a92f5cc668"
      },
      "execution_count": 200,
      "outputs": [
        {
          "output_type": "stream",
          "name": "stdout",
          "text": [
            "{'n_estimators': 100, 'min_samples_split': 2, 'min_samples_leaf': 4, 'max_depth': 7} 0.8397993311036789\n"
          ]
        }
      ]
    },
    {
      "cell_type": "code",
      "source": [
        "rf_f3=RandomForestClassifier(n_estimators=100,min_samples_split=10,min_samples_leaf=4,max_depth=8,random_state=42)\n",
        "rf_f3.fit(X_undersample1, y_undersample1)\n",
        "y_pred13=rf_f3.predict(X_test3)\n",
        "print(classification_report(y_test3, y_pred13))\n",
        "print(rf_f3.score(X_test3, y_test3) , rf_f3.score(X_undersample1, y_undersample1))"
      ],
      "metadata": {
        "id": "usrXN71q_dxL",
        "colab": {
          "base_uri": "https://localhost:8080/"
        },
        "outputId": "711e9152-1158-46b2-a80c-86dafa928744"
      },
      "execution_count": 201,
      "outputs": [
        {
          "output_type": "stream",
          "name": "stdout",
          "text": [
            "              precision    recall  f1-score   support\n",
            "\n",
            "           0       0.84      0.35      0.50      1035\n",
            "           1       0.31      0.82      0.45       374\n",
            "\n",
            "    accuracy                           0.48      1409\n",
            "   macro avg       0.58      0.59      0.47      1409\n",
            "weighted avg       0.70      0.48      0.48      1409\n",
            "\n",
            "0.4755145493257629 0.8929765886287625\n"
          ]
        }
      ]
    }
  ]
}